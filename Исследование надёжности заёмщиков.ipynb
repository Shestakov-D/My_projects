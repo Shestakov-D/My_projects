{
 "cells": [
  {
   "cell_type": "markdown",
   "metadata": {},
   "source": [
    "# Исследование надёжности заёмщиков"
   ]
  },
  {
   "cell_type": "markdown",
   "metadata": {},
   "source": [
    "Заказчик — кредитный отдел банка. Нужно разобраться, влияет ли семейное положение и количество детей клиента на факт погашения кредита в срок. \n",
    "\n",
    "План работы: \n",
    "\n",
    "-  Изучение общей информации \n",
    "-  Предобработка данных\n",
    "-  Ответы на вопросы задания\n",
    "-  Общий вывод\n",
    "\n",
    "Входные данные от банка — статистика о платёжеспособности клиентов.\n",
    "\n",
    "Описание данных:\n",
    "\n",
    "- children — количество детей в семье\n",
    "- days_employed — общий трудовой стаж в днях\n",
    "- dob_years — возраст клиента в годах\n",
    "- education — уровень образования клиента\n",
    "- education_id — идентификатор уровня образования\n",
    "- family_status — семейное положение\n",
    "- family_status_id — идентификатор семейного положения\n",
    "- gender — пол клиента\n",
    "- income_type — тип занятости\n",
    "- debt — имел ли задолженность по возврату кредитов\n",
    "- total_income — ежемесячный доход\n",
    "- purpose — цель получения кредита\n",
    "\n",
    "Результаты исследования будут учтены при построении модели **кредитного скоринга** — специальной системы, которая оценивает способность потенциального заёмщика вернуть кредит банку"
   ]
  },
  {
   "cell_type": "markdown",
   "metadata": {},
   "source": [
    "### Шаг 1. Откройте файл с данными и изучите общую информацию. "
   ]
  },
  {
   "cell_type": "code",
   "execution_count": 75,
   "metadata": {},
   "outputs": [],
   "source": [
    "import pandas as pd"
   ]
  },
  {
   "cell_type": "code",
   "execution_count": 76,
   "metadata": {},
   "outputs": [
    {
     "name": "stdout",
     "output_type": "stream",
     "text": [
      "<class 'pandas.core.frame.DataFrame'>\n",
      "RangeIndex: 21525 entries, 0 to 21524\n",
      "Data columns (total 12 columns):\n",
      "children            21525 non-null int64\n",
      "days_employed       19351 non-null float64\n",
      "dob_years           21525 non-null int64\n",
      "education           21525 non-null object\n",
      "education_id        21525 non-null int64\n",
      "family_status       21525 non-null object\n",
      "family_status_id    21525 non-null int64\n",
      "gender              21525 non-null object\n",
      "income_type         21525 non-null object\n",
      "debt                21525 non-null int64\n",
      "total_income        19351 non-null float64\n",
      "purpose             21525 non-null object\n",
      "dtypes: float64(2), int64(5), object(5)\n",
      "memory usage: 2.0+ MB\n"
     ]
    },
    {
     "data": {
      "text/plain": [
       "Index(['children', 'days_employed', 'dob_years', 'education', 'education_id',\n",
       "       'family_status', 'family_status_id', 'gender', 'income_type', 'debt',\n",
       "       'total_income', 'purpose'],\n",
       "      dtype='object')"
      ]
     },
     "execution_count": 76,
     "metadata": {},
     "output_type": "execute_result"
    }
   ],
   "source": [
    "credit = pd.read_csv('/datasets/data.csv')\n",
    "credit.info()\n",
    "credit.columns"
   ]
  },
  {
   "cell_type": "markdown",
   "metadata": {},
   "source": [
    "Видим, что есть столбцы с пропущенными значениями и типами float64, а также видим, что все названия столбцов написаны корректно. Также сразу можно обнаржуить, что не все столбцы таблицы нам нужны для анализа. Нужные нам столбцы: children, family_status, debt, total_income, purpose."
   ]
  },
  {
   "cell_type": "code",
   "execution_count": 77,
   "metadata": {},
   "outputs": [
    {
     "name": "stdout",
     "output_type": "stream",
     "text": [
      "   children  days_employed  dob_years education  education_id  \\\n",
      "0         1   -8437.673028         42    высшее             0   \n",
      "1         1   -4024.803754         36   среднее             1   \n",
      "2         0   -5623.422610         33   Среднее             1   \n",
      "3         3   -4124.747207         32   среднее             1   \n",
      "4         0  340266.072047         53   среднее             1   \n",
      "5         0    -926.185831         27    высшее             0   \n",
      "6         0   -2879.202052         43    высшее             0   \n",
      "7         0    -152.779569         50   СРЕДНЕЕ             1   \n",
      "8         2   -6929.865299         35    ВЫСШЕЕ             0   \n",
      "9         0   -2188.756445         41   среднее             1   \n",
      "\n",
      "      family_status  family_status_id gender income_type  debt   total_income  \\\n",
      "0   женат / замужем                 0      F   сотрудник     0  253875.639453   \n",
      "1   женат / замужем                 0      F   сотрудник     0  112080.014102   \n",
      "2   женат / замужем                 0      M   сотрудник     0  145885.952297   \n",
      "3   женат / замужем                 0      M   сотрудник     0  267628.550329   \n",
      "4  гражданский брак                 1      F   пенсионер     0  158616.077870   \n",
      "5  гражданский брак                 1      M   компаньон     0  255763.565419   \n",
      "6   женат / замужем                 0      F   компаньон     0  240525.971920   \n",
      "7   женат / замужем                 0      M   сотрудник     0  135823.934197   \n",
      "8  гражданский брак                 1      F   сотрудник     0   95856.832424   \n",
      "9   женат / замужем                 0      M   сотрудник     0  144425.938277   \n",
      "\n",
      "                      purpose  \n",
      "0               покупка жилья  \n",
      "1     приобретение автомобиля  \n",
      "2               покупка жилья  \n",
      "3  дополнительное образование  \n",
      "4             сыграть свадьбу  \n",
      "5               покупка жилья  \n",
      "6           операции с жильем  \n",
      "7                 образование  \n",
      "8       на проведение свадьбы  \n",
      "9     покупка жилья для семьи  \n"
     ]
    }
   ],
   "source": [
    "print(credit.head(10))"
   ]
  },
  {
   "cell_type": "markdown",
   "metadata": {},
   "source": [
    "Видим, что в столбце days_employed есть отрицательные и невозможно большие значения (нам этот столбец не нужен, поэтому его не трогаем)\n",
    "Если бы был нужен я бы запросил информацию о столбце из источника, затем удалил минусы (скорей всего ошибка), а с невозможными значениями не знаю что делать (удлил бы наверное)\n",
    "education: разный регистр"
   ]
  },
  {
   "cell_type": "markdown",
   "metadata": {},
   "source": [
    "### Вывод: \n",
    "Видим большую таблицу из которой нам чтобы ответить на поставленные вопросы нужны только столбцы: 'children', 'family_status', 'debt', 'total_income', 'purpose'. В названиях столбцов проблем нет. Видим, что в столбцах days_employed (ненужный для ответа на вопросы) и total_income (нужный для ответа на вопросы) есть пропущенные значения.\n",
    "Если бы работалит со всей таблицей, выделили бы еще отрицательные  и невозможно большие значения в столбце days_employed.\n",
    "В столбце education видим, что текст имеет разный регистр - необходимо сделать данные этого столбца нижнего регистра через str.lower() или использовать только столбец education_id вместо базового education.\n",
    "Возможные причины пропусков в столбце days_employed на мой взгляд случайные так как значение в нем независит от значений в други столбцах, но пропуски в столбце total_income наверняка возникли из-за пустых значений days_employed (думаю не наоборот, так как стаж может быть, но заработок 0, наоборот же быть не может, если мы рассуждаем о статистике банка)."
   ]
  },
  {
   "cell_type": "markdown",
   "metadata": {},
   "source": [
    "### Шаг 2. Предобработка данных"
   ]
  },
  {
   "cell_type": "markdown",
   "metadata": {},
   "source": [
    "### Обработка пропусков"
   ]
  },
  {
   "cell_type": "code",
   "execution_count": 78,
   "metadata": {},
   "outputs": [
    {
     "data": {
      "text/html": [
       "<div>\n",
       "<style scoped>\n",
       "    .dataframe tbody tr th:only-of-type {\n",
       "        vertical-align: middle;\n",
       "    }\n",
       "\n",
       "    .dataframe tbody tr th {\n",
       "        vertical-align: top;\n",
       "    }\n",
       "\n",
       "    .dataframe thead th {\n",
       "        text-align: right;\n",
       "    }\n",
       "</style>\n",
       "<table border=\"1\" class=\"dataframe\">\n",
       "  <thead>\n",
       "    <tr style=\"text-align: right;\">\n",
       "      <th></th>\n",
       "      <th>children</th>\n",
       "      <th>days_employed</th>\n",
       "      <th>dob_years</th>\n",
       "      <th>education</th>\n",
       "      <th>education_id</th>\n",
       "      <th>family_status</th>\n",
       "      <th>family_status_id</th>\n",
       "      <th>gender</th>\n",
       "      <th>income_type</th>\n",
       "      <th>debt</th>\n",
       "      <th>total_income</th>\n",
       "      <th>purpose</th>\n",
       "    </tr>\n",
       "  </thead>\n",
       "  <tbody>\n",
       "    <tr>\n",
       "      <td>12</td>\n",
       "      <td>0</td>\n",
       "      <td>NaN</td>\n",
       "      <td>65</td>\n",
       "      <td>среднее</td>\n",
       "      <td>1</td>\n",
       "      <td>гражданский брак</td>\n",
       "      <td>1</td>\n",
       "      <td>M</td>\n",
       "      <td>пенсионер</td>\n",
       "      <td>0</td>\n",
       "      <td>NaN</td>\n",
       "      <td>сыграть свадьбу</td>\n",
       "    </tr>\n",
       "    <tr>\n",
       "      <td>26</td>\n",
       "      <td>0</td>\n",
       "      <td>NaN</td>\n",
       "      <td>41</td>\n",
       "      <td>среднее</td>\n",
       "      <td>1</td>\n",
       "      <td>женат / замужем</td>\n",
       "      <td>0</td>\n",
       "      <td>M</td>\n",
       "      <td>госслужащий</td>\n",
       "      <td>0</td>\n",
       "      <td>NaN</td>\n",
       "      <td>образование</td>\n",
       "    </tr>\n",
       "    <tr>\n",
       "      <td>29</td>\n",
       "      <td>0</td>\n",
       "      <td>NaN</td>\n",
       "      <td>63</td>\n",
       "      <td>среднее</td>\n",
       "      <td>1</td>\n",
       "      <td>Не женат / не замужем</td>\n",
       "      <td>4</td>\n",
       "      <td>F</td>\n",
       "      <td>пенсионер</td>\n",
       "      <td>0</td>\n",
       "      <td>NaN</td>\n",
       "      <td>строительство жилой недвижимости</td>\n",
       "    </tr>\n",
       "    <tr>\n",
       "      <td>41</td>\n",
       "      <td>0</td>\n",
       "      <td>NaN</td>\n",
       "      <td>50</td>\n",
       "      <td>среднее</td>\n",
       "      <td>1</td>\n",
       "      <td>женат / замужем</td>\n",
       "      <td>0</td>\n",
       "      <td>F</td>\n",
       "      <td>госслужащий</td>\n",
       "      <td>0</td>\n",
       "      <td>NaN</td>\n",
       "      <td>сделка с подержанным автомобилем</td>\n",
       "    </tr>\n",
       "    <tr>\n",
       "      <td>55</td>\n",
       "      <td>0</td>\n",
       "      <td>NaN</td>\n",
       "      <td>54</td>\n",
       "      <td>среднее</td>\n",
       "      <td>1</td>\n",
       "      <td>гражданский брак</td>\n",
       "      <td>1</td>\n",
       "      <td>F</td>\n",
       "      <td>пенсионер</td>\n",
       "      <td>1</td>\n",
       "      <td>NaN</td>\n",
       "      <td>сыграть свадьбу</td>\n",
       "    </tr>\n",
       "  </tbody>\n",
       "</table>\n",
       "</div>"
      ],
      "text/plain": [
       "    children  days_employed  dob_years education  education_id  \\\n",
       "12         0            NaN         65   среднее             1   \n",
       "26         0            NaN         41   среднее             1   \n",
       "29         0            NaN         63   среднее             1   \n",
       "41         0            NaN         50   среднее             1   \n",
       "55         0            NaN         54   среднее             1   \n",
       "\n",
       "            family_status  family_status_id gender  income_type  debt  \\\n",
       "12       гражданский брак                 1      M    пенсионер     0   \n",
       "26        женат / замужем                 0      M  госслужащий     0   \n",
       "29  Не женат / не замужем                 4      F    пенсионер     0   \n",
       "41        женат / замужем                 0      F  госслужащий     0   \n",
       "55       гражданский брак                 1      F    пенсионер     1   \n",
       "\n",
       "    total_income                           purpose  \n",
       "12           NaN                   сыграть свадьбу  \n",
       "26           NaN                       образование  \n",
       "29           NaN  строительство жилой недвижимости  \n",
       "41           NaN  сделка с подержанным автомобилем  \n",
       "55           NaN                   сыграть свадьбу  "
      ]
     },
     "metadata": {},
     "output_type": "display_data"
    }
   ],
   "source": [
    "display((credit[credit['total_income'].isnull()].head())) # Смотри строчик с пропущенными значениями"
   ]
  },
  {
   "cell_type": "code",
   "execution_count": 79,
   "metadata": {},
   "outputs": [
    {
     "data": {
      "text/plain": [
       "children            2174\n",
       "days_employed          0\n",
       "dob_years           2174\n",
       "education           2174\n",
       "education_id        2174\n",
       "family_status       2174\n",
       "family_status_id    2174\n",
       "gender              2174\n",
       "income_type         2174\n",
       "debt                2174\n",
       "total_income           0\n",
       "purpose             2174\n",
       "dtype: int64"
      ]
     },
     "execution_count": 79,
     "metadata": {},
     "output_type": "execute_result"
    }
   ],
   "source": [
    "credit[credit['total_income'].isna()].count() # Подсчет пропущенных значений по столбцам"
   ]
  },
  {
   "cell_type": "code",
   "execution_count": 80,
   "metadata": {},
   "outputs": [
    {
     "data": {
      "text/plain": [
       "54"
      ]
     },
     "execution_count": 80,
     "metadata": {},
     "output_type": "execute_result"
    }
   ],
   "source": [
    "credit.duplicated().sum()       # Делал сначала все этапы по порядку этапы,\n",
    "                                # но после замены пропусков решил, что корректнее удалить\n",
    "                                # дубликаты в изначальной таблице, так как в дальнейшем\n",
    "                                # мы заменяем значения в таблицах по которым с большей вероятностью\n",
    "                                # можно найти дубликаты (знаю, что можно было не менять столбец days_employed)\n",
    "                                # но по сложности тоже самое выходит"
   ]
  },
  {
   "cell_type": "code",
   "execution_count": 81,
   "metadata": {},
   "outputs": [
    {
     "data": {
      "text/plain": [
       "0"
      ]
     },
     "execution_count": 81,
     "metadata": {},
     "output_type": "execute_result"
    }
   ],
   "source": [
    "credit = credit.drop_duplicates().reset_index(drop = True) # Удаление дубликатов\n",
    "credit.duplicated().sum() # Проверка"
   ]
  },
  {
   "cell_type": "markdown",
   "metadata": {},
   "source": [
    "Видим, что в столбце total_income есть пропущенные значения. Пропущенно примерно 10% значений, это слишком много чтобы можно было просто выкинуть. Необходимо заполнить пустые значения в столбцах total_income, для этого возьмем стоблец 'income_type', определим его уникальные значения, посчитаем медианы для них и заменим соответствующими мединами пустые значения в столбце total_income."
   ]
  },
  {
   "cell_type": "code",
   "execution_count": 82,
   "metadata": {},
   "outputs": [
    {
     "data": {
      "text/plain": [
       "сотрудник          11091\n",
       "компаньон           5080\n",
       "пенсионер           3837\n",
       "госслужащий         1457\n",
       "предприниматель        2\n",
       "безработный            2\n",
       "в декрете              1\n",
       "студент                1\n",
       "Name: income_type, dtype: int64"
      ]
     },
     "execution_count": 82,
     "metadata": {},
     "output_type": "execute_result"
    }
   ],
   "source": [
    "credit['income_type'].value_counts() # Смотрим все типы занятости для того, чтобы взять по ним медианы вручную."
   ]
  },
  {
   "cell_type": "code",
   "execution_count": 83,
   "metadata": {},
   "outputs": [
    {
     "data": {
      "text/html": [
       "<div>\n",
       "<style scoped>\n",
       "    .dataframe tbody tr th:only-of-type {\n",
       "        vertical-align: middle;\n",
       "    }\n",
       "\n",
       "    .dataframe tbody tr th {\n",
       "        vertical-align: top;\n",
       "    }\n",
       "\n",
       "    .dataframe thead th {\n",
       "        text-align: right;\n",
       "    }\n",
       "</style>\n",
       "<table border=\"1\" class=\"dataframe\">\n",
       "  <thead>\n",
       "    <tr style=\"text-align: right;\">\n",
       "      <th></th>\n",
       "      <th>children</th>\n",
       "      <th>days_employed</th>\n",
       "      <th>dob_years</th>\n",
       "      <th>education</th>\n",
       "      <th>education_id</th>\n",
       "      <th>family_status</th>\n",
       "      <th>family_status_id</th>\n",
       "      <th>gender</th>\n",
       "      <th>income_type</th>\n",
       "      <th>debt</th>\n",
       "      <th>total_income_x</th>\n",
       "      <th>purpose</th>\n",
       "      <th>total_income_y</th>\n",
       "    </tr>\n",
       "  </thead>\n",
       "  <tbody>\n",
       "    <tr>\n",
       "      <td>0</td>\n",
       "      <td>1</td>\n",
       "      <td>-8437.673028</td>\n",
       "      <td>42</td>\n",
       "      <td>высшее</td>\n",
       "      <td>0</td>\n",
       "      <td>женат / замужем</td>\n",
       "      <td>0</td>\n",
       "      <td>F</td>\n",
       "      <td>сотрудник</td>\n",
       "      <td>0</td>\n",
       "      <td>253875.639453</td>\n",
       "      <td>покупка жилья</td>\n",
       "      <td>142594.396847</td>\n",
       "    </tr>\n",
       "    <tr>\n",
       "      <td>1</td>\n",
       "      <td>1</td>\n",
       "      <td>-4024.803754</td>\n",
       "      <td>36</td>\n",
       "      <td>среднее</td>\n",
       "      <td>1</td>\n",
       "      <td>женат / замужем</td>\n",
       "      <td>0</td>\n",
       "      <td>F</td>\n",
       "      <td>сотрудник</td>\n",
       "      <td>0</td>\n",
       "      <td>112080.014102</td>\n",
       "      <td>приобретение автомобиля</td>\n",
       "      <td>142594.396847</td>\n",
       "    </tr>\n",
       "    <tr>\n",
       "      <td>2</td>\n",
       "      <td>0</td>\n",
       "      <td>-5623.422610</td>\n",
       "      <td>33</td>\n",
       "      <td>Среднее</td>\n",
       "      <td>1</td>\n",
       "      <td>женат / замужем</td>\n",
       "      <td>0</td>\n",
       "      <td>M</td>\n",
       "      <td>сотрудник</td>\n",
       "      <td>0</td>\n",
       "      <td>145885.952297</td>\n",
       "      <td>покупка жилья</td>\n",
       "      <td>142594.396847</td>\n",
       "    </tr>\n",
       "    <tr>\n",
       "      <td>3</td>\n",
       "      <td>3</td>\n",
       "      <td>-4124.747207</td>\n",
       "      <td>32</td>\n",
       "      <td>среднее</td>\n",
       "      <td>1</td>\n",
       "      <td>женат / замужем</td>\n",
       "      <td>0</td>\n",
       "      <td>M</td>\n",
       "      <td>сотрудник</td>\n",
       "      <td>0</td>\n",
       "      <td>267628.550329</td>\n",
       "      <td>дополнительное образование</td>\n",
       "      <td>142594.396847</td>\n",
       "    </tr>\n",
       "    <tr>\n",
       "      <td>4</td>\n",
       "      <td>0</td>\n",
       "      <td>340266.072047</td>\n",
       "      <td>53</td>\n",
       "      <td>среднее</td>\n",
       "      <td>1</td>\n",
       "      <td>гражданский брак</td>\n",
       "      <td>1</td>\n",
       "      <td>F</td>\n",
       "      <td>пенсионер</td>\n",
       "      <td>0</td>\n",
       "      <td>158616.077870</td>\n",
       "      <td>сыграть свадьбу</td>\n",
       "      <td>118514.486412</td>\n",
       "    </tr>\n",
       "    <tr>\n",
       "      <td>...</td>\n",
       "      <td>...</td>\n",
       "      <td>...</td>\n",
       "      <td>...</td>\n",
       "      <td>...</td>\n",
       "      <td>...</td>\n",
       "      <td>...</td>\n",
       "      <td>...</td>\n",
       "      <td>...</td>\n",
       "      <td>...</td>\n",
       "      <td>...</td>\n",
       "      <td>...</td>\n",
       "      <td>...</td>\n",
       "      <td>...</td>\n",
       "    </tr>\n",
       "    <tr>\n",
       "      <td>21466</td>\n",
       "      <td>1</td>\n",
       "      <td>-4529.316663</td>\n",
       "      <td>43</td>\n",
       "      <td>среднее</td>\n",
       "      <td>1</td>\n",
       "      <td>гражданский брак</td>\n",
       "      <td>1</td>\n",
       "      <td>F</td>\n",
       "      <td>компаньон</td>\n",
       "      <td>0</td>\n",
       "      <td>224791.862382</td>\n",
       "      <td>операции с жильем</td>\n",
       "      <td>172357.950966</td>\n",
       "    </tr>\n",
       "    <tr>\n",
       "      <td>21467</td>\n",
       "      <td>0</td>\n",
       "      <td>343937.404131</td>\n",
       "      <td>67</td>\n",
       "      <td>среднее</td>\n",
       "      <td>1</td>\n",
       "      <td>женат / замужем</td>\n",
       "      <td>0</td>\n",
       "      <td>F</td>\n",
       "      <td>пенсионер</td>\n",
       "      <td>0</td>\n",
       "      <td>155999.806512</td>\n",
       "      <td>сделка с автомобилем</td>\n",
       "      <td>118514.486412</td>\n",
       "    </tr>\n",
       "    <tr>\n",
       "      <td>21468</td>\n",
       "      <td>1</td>\n",
       "      <td>-2113.346888</td>\n",
       "      <td>38</td>\n",
       "      <td>среднее</td>\n",
       "      <td>1</td>\n",
       "      <td>гражданский брак</td>\n",
       "      <td>1</td>\n",
       "      <td>M</td>\n",
       "      <td>сотрудник</td>\n",
       "      <td>1</td>\n",
       "      <td>89672.561153</td>\n",
       "      <td>недвижимость</td>\n",
       "      <td>142594.396847</td>\n",
       "    </tr>\n",
       "    <tr>\n",
       "      <td>21469</td>\n",
       "      <td>3</td>\n",
       "      <td>-3112.481705</td>\n",
       "      <td>38</td>\n",
       "      <td>среднее</td>\n",
       "      <td>1</td>\n",
       "      <td>женат / замужем</td>\n",
       "      <td>0</td>\n",
       "      <td>M</td>\n",
       "      <td>сотрудник</td>\n",
       "      <td>1</td>\n",
       "      <td>244093.050500</td>\n",
       "      <td>на покупку своего автомобиля</td>\n",
       "      <td>142594.396847</td>\n",
       "    </tr>\n",
       "    <tr>\n",
       "      <td>21470</td>\n",
       "      <td>2</td>\n",
       "      <td>-1984.507589</td>\n",
       "      <td>40</td>\n",
       "      <td>среднее</td>\n",
       "      <td>1</td>\n",
       "      <td>женат / замужем</td>\n",
       "      <td>0</td>\n",
       "      <td>F</td>\n",
       "      <td>сотрудник</td>\n",
       "      <td>0</td>\n",
       "      <td>82047.418899</td>\n",
       "      <td>на покупку автомобиля</td>\n",
       "      <td>142594.396847</td>\n",
       "    </tr>\n",
       "  </tbody>\n",
       "</table>\n",
       "<p>21471 rows × 13 columns</p>\n",
       "</div>"
      ],
      "text/plain": [
       "       children  days_employed  dob_years education  education_id  \\\n",
       "0             1   -8437.673028         42    высшее             0   \n",
       "1             1   -4024.803754         36   среднее             1   \n",
       "2             0   -5623.422610         33   Среднее             1   \n",
       "3             3   -4124.747207         32   среднее             1   \n",
       "4             0  340266.072047         53   среднее             1   \n",
       "...         ...            ...        ...       ...           ...   \n",
       "21466         1   -4529.316663         43   среднее             1   \n",
       "21467         0  343937.404131         67   среднее             1   \n",
       "21468         1   -2113.346888         38   среднее             1   \n",
       "21469         3   -3112.481705         38   среднее             1   \n",
       "21470         2   -1984.507589         40   среднее             1   \n",
       "\n",
       "          family_status  family_status_id gender income_type  debt  \\\n",
       "0       женат / замужем                 0      F   сотрудник     0   \n",
       "1       женат / замужем                 0      F   сотрудник     0   \n",
       "2       женат / замужем                 0      M   сотрудник     0   \n",
       "3       женат / замужем                 0      M   сотрудник     0   \n",
       "4      гражданский брак                 1      F   пенсионер     0   \n",
       "...                 ...               ...    ...         ...   ...   \n",
       "21466  гражданский брак                 1      F   компаньон     0   \n",
       "21467   женат / замужем                 0      F   пенсионер     0   \n",
       "21468  гражданский брак                 1      M   сотрудник     1   \n",
       "21469   женат / замужем                 0      M   сотрудник     1   \n",
       "21470   женат / замужем                 0      F   сотрудник     0   \n",
       "\n",
       "       total_income_x                       purpose  total_income_y  \n",
       "0       253875.639453                 покупка жилья   142594.396847  \n",
       "1       112080.014102       приобретение автомобиля   142594.396847  \n",
       "2       145885.952297                 покупка жилья   142594.396847  \n",
       "3       267628.550329    дополнительное образование   142594.396847  \n",
       "4       158616.077870               сыграть свадьбу   118514.486412  \n",
       "...               ...                           ...             ...  \n",
       "21466   224791.862382             операции с жильем   172357.950966  \n",
       "21467   155999.806512          сделка с автомобилем   118514.486412  \n",
       "21468    89672.561153                  недвижимость   142594.396847  \n",
       "21469   244093.050500  на покупку своего автомобиля   142594.396847  \n",
       "21470    82047.418899         на покупку автомобиля   142594.396847  \n",
       "\n",
       "[21471 rows x 13 columns]"
      ]
     },
     "metadata": {},
     "output_type": "display_data"
    }
   ],
   "source": [
    "income_median = credit.groupby('income_type')['total_income'].median() # Выделяем медианные значения дохода в зависимости от типа занятости\n",
    "credit_new = credit.merge(income_median, on ='income_type', how = 'left')  # Сменил подстановку в ручную на группировку\n",
    "display(credit_new)"
   ]
  },
  {
   "cell_type": "code",
   "execution_count": 84,
   "metadata": {},
   "outputs": [
    {
     "data": {
      "text/plain": [
       "Index(['children', 'days_employed', 'dob_years', 'education', 'education_id',\n",
       "       'family_status', 'family_status_id', 'gender', 'income_type', 'debt',\n",
       "       'total_income', 'purpose', 'total_income_fillna'],\n",
       "      dtype='object')"
      ]
     },
     "execution_count": 84,
     "metadata": {},
     "output_type": "execute_result"
    }
   ],
   "source": [
    "credit_new.set_axis(['children', 'days_employed', 'dob_years', 'education', 'education_id','family_status', 'family_status_id', 'gender', 'income_type', 'debt','total_income', 'purpose', 'total_income_fillna'], axis = 'columns', inplace = True) # Установоили название столбцов \n",
    "credit_new.columns"
   ]
  },
  {
   "cell_type": "code",
   "execution_count": 85,
   "metadata": {},
   "outputs": [],
   "source": [
    "credit_new['total_income'] = credit_new['total_income'].fillna(credit_new['total_income_fillna']) # Заполнили пропуски в 'total_income_start' значениями из 'total_income_fillna'"
   ]
  },
  {
   "cell_type": "code",
   "execution_count": 86,
   "metadata": {},
   "outputs": [
    {
     "data": {
      "text/plain": [
       "children                  0\n",
       "days_employed          2120\n",
       "dob_years                 0\n",
       "education                 0\n",
       "education_id              0\n",
       "family_status             0\n",
       "family_status_id          0\n",
       "gender                    0\n",
       "income_type               0\n",
       "debt                      0\n",
       "total_income              0\n",
       "purpose                   0\n",
       "total_income_fillna       0\n",
       "dtype: int64"
      ]
     },
     "execution_count": 86,
     "metadata": {},
     "output_type": "execute_result"
    }
   ],
   "source": [
    "credit_new.isna().sum() # Проверка"
   ]
  },
  {
   "cell_type": "code",
   "execution_count": null,
   "metadata": {},
   "outputs": [],
   "source": [
    "credit_new.info()"
   ]
  },
  {
   "cell_type": "code",
   "execution_count": null,
   "metadata": {},
   "outputs": [],
   "source": [
    "credit_new['children'].value_counts() # Проверим уникальные значения в столбце children"
   ]
  },
  {
   "cell_type": "markdown",
   "metadata": {},
   "source": [
    "Видим отрицательное и слишком большое значения, это скорей всего ошибки, их нужно исправить, вероятнее всего ошибки в выгрузке или кто-то случайно добавил - или 0.\n",
    "Уберём - у 1 и 0 у 20."
   ]
  },
  {
   "cell_type": "code",
   "execution_count": null,
   "metadata": {},
   "outputs": [],
   "source": [
    "credit_new['children'] = credit_new['children'].replace(-1, 1) # Замена ошибочных значений.\n",
    "credit_new['children'] = credit_new['children'].replace(20, 2)\n",
    "display(credit_new['children'].value_counts())"
   ]
  },
  {
   "cell_type": "code",
   "execution_count": null,
   "metadata": {},
   "outputs": [],
   "source": [
    "credit_new.loc[:, ['dob_years', 'days_employed']] # Смотрим на данные в столбце days_employed и видим, что перед заполнением пропусков необходимо их обработать (убрать минусы и невозможные значения, в которых даже если разделить значение на 10 оно все равно большое)"
   ]
  },
  {
   "cell_type": "code",
   "execution_count": null,
   "metadata": {},
   "outputs": [],
   "source": [
    "credit_new['days_employed'].max()"
   ]
  },
  {
   "cell_type": "code",
   "execution_count": null,
   "metadata": {},
   "outputs": [],
   "source": [
    "credit_new['days_employed'] = credit_new['days_employed'].abs()\n",
    "display(credit_new['days_employed'])\n",
    "credit_new.info()"
   ]
  },
  {
   "cell_type": "markdown",
   "metadata": {},
   "source": [
    "### Вывод\n",
    "Изначально в таблице было больше столбцов, чем нужно - отобрали нужные столбцы и сделали из них таблицу. Были обнаружены пропуски в изначальных данных:  пропуски (NaN) ,возможные причины - ошибки при выгрузке, потеря данных или их отсутствие. Пропуски были заполнены исходя из того, что медианный доход для разных типов занятости позволит сделать анализ более точным. Медиана а не среднее, так как большой разброс значений. "
   ]
  },
  {
   "cell_type": "markdown",
   "metadata": {},
   "source": [
    "### Замена типа данных"
   ]
  },
  {
   "cell_type": "code",
   "execution_count": null,
   "metadata": {},
   "outputs": [],
   "source": [
    "credit_new['total_income'] = credit_new['total_income'].astype('int') # Замена вещественного типа данных\n",
    "credit_new.info()                                                      # на целочисленный."
   ]
  },
  {
   "cell_type": "markdown",
   "metadata": {},
   "source": [
    "Обычная замена типа данных, ничего особенного вроде."
   ]
  },
  {
   "cell_type": "markdown",
   "metadata": {},
   "source": [
    "### Обработка дубликатов"
   ]
  },
  {
   "cell_type": "code",
   "execution_count": null,
   "metadata": {},
   "outputs": [],
   "source": [
    "print(credit.duplicated().sum()) # Поиск дубликатов в полной таблице\n",
    "print(credit_new.duplicated().sum()) # Поиск дубликатов в целевой таблице"
   ]
  },
  {
   "cell_type": "markdown",
   "metadata": {},
   "source": [
    "Дубликаты необходимо удалять в первоночальной таблице, с изначальными данными, так как у нас в исправленных таблицах пропуски (по которым как раз можно в большей степени судить являются строчки дубликатами или нет) заполнены медианными значениями. Следовательно необходимо вернутся назад и сначала удалить дубликаты."
   ]
  },
  {
   "cell_type": "markdown",
   "metadata": {},
   "source": [
    "СЕЙЧАС ПРОДУБЛИРУЮ ТО, ЧТО ПЕРЕНЕС В НАЧАЛО (ПОЧЕМУ ТАК СДЕЛАЛ НАПИСАНО СТРОКОЙ ВЫШЕ)"
   ]
  },
  {
   "cell_type": "code",
   "execution_count": null,
   "metadata": {},
   "outputs": [],
   "source": [
    "print(credit.duplicated().sum())# Делал сначала все этапы по порядку этапы,\n",
    "                                # но после замены пропусков решил, что корректнее удалить\n",
    "                                # дубликаты в изначальной таблице, так как в дальнейшем\n",
    "                                # мы заменяем значения в таблицах по которым с большей вероятностью\n",
    "                                # можно найти дубликаты (знаю, что можно было не менять столбец days_employed)\n",
    "                                # но по сложности тоже самое выходит"
   ]
  },
  {
   "cell_type": "code",
   "execution_count": null,
   "metadata": {},
   "outputs": [],
   "source": [
    "credit = credit.drop_duplicates().reset_index(drop = True) # Удаление дубликатов\n",
    "print(credit.duplicated().sum()) # Проверка"
   ]
  },
  {
   "cell_type": "markdown",
   "metadata": {},
   "source": [
    "### Вывод"
   ]
  },
  {
   "cell_type": "markdown",
   "metadata": {},
   "source": [
    "Для поиска дубликатов использовался метод .duplicated, для удаления drop_duplicates.reset_index(drop = True). Причина: потому, что удобно, работает и в голову не приходило альтернатив.\n",
    "Возможные причины появления дубликатов: ошибки в выгрузке, реальное точное совпадение данных (очень маловероятно), ошибки в формировании файла."
   ]
  },
  {
   "cell_type": "markdown",
   "metadata": {},
   "source": [
    "### Лемматизация"
   ]
  },
  {
   "cell_type": "code",
   "execution_count": null,
   "metadata": {},
   "outputs": [],
   "source": [
    "credit_new['purpose'].value_counts() # Смотрим уникальные значения в столбце 'purpose' для выделения лем."
   ]
  },
  {
   "cell_type": "code",
   "execution_count": null,
   "metadata": {},
   "outputs": [],
   "source": [
    "from pymystem3 import Mystem # Получаем лемматизатор на русском\n",
    "m = Mystem()\n",
    "def lemma(purpose):          # Пишем функцию для вывода лем по столбцам\n",
    "    lem = m.lemmatize(purpose)\n",
    "    return lem\n",
    "\n",
    "credit_new['lemmas_purpose'] = credit_new['purpose'].apply(lemma) # Применяем метода apply для вызова нашей функции\n",
    "display(credit_new['lemmas_purpose'].head())                         # Смотрим, что получилось\n",
    "\n",
    "from collections import Counter                                     # Смотрим количество уникальных значений\n",
    "all_lemms = credit_new['lemmas_purpose'].sum()\n",
    "Counter(all_lemms)"
   ]
  },
  {
   "cell_type": "markdown",
   "metadata": {},
   "source": [
    "### Вывод\n",
    "Отлемматизировали данные в столбце purpose, видим, что много похожих целей кредита, делаем вывод, что по ним нужно сгруппировать цели."
   ]
  },
  {
   "cell_type": "markdown",
   "metadata": {},
   "source": [
    "### Категоризация данных"
   ]
  },
  {
   "cell_type": "code",
   "execution_count": null,
   "metadata": {},
   "outputs": [],
   "source": [
    "def lemma_group(lemmas_purpose):                   # Пишем функцию для выделения категорий для столбца с лемами цели кредита\n",
    "        if \"свадьба\" in lemmas_purpose:            # В ручную выбрал категории из списка в предидущем этапе goal_credit['purpose'].value_counts()\n",
    "            return \"свадьба\"\n",
    "        elif 'недвижимость' in lemmas_purpose:\n",
    "            return 'недвижимость'\n",
    "        elif 'жилье' in lemmas_purpose:\n",
    "            return 'жилье'\n",
    "        elif 'автомобиль' in lemmas_purpose:\n",
    "            return 'автомобиль'\n",
    "        elif 'образование' in lemmas_purpose:\n",
    "            return 'образование'\n",
    "        \n",
    "credit_new['lemmas_group'] = credit_new['lemmas_purpose'].apply(lemma_group) # Применили метод \n",
    "display(credit_new['lemmas_group'].value_counts())                              # Посмотрели уникальные значения и их количество"
   ]
  },
  {
   "cell_type": "markdown",
   "metadata": {},
   "source": [
    "Проанализирова уникальные значения столбца \"purpose\" я выбрал следующие леммы \n",
    "1) свадьба (где целью является свадьба, есть данная лемма)\n",
    "2) недвижимость и жилье (данные леммы я разделил, так как на мой вгляд под жильем понимается объект в котором клиенты живут, а под недвижимостью объекты которые используют для иных целей)\n",
    "3) автомобиль (где целью является операция с автомобилем, есть данная лемма)\n",
    "4) образование (где целью является образование, есть данная лемма)"
   ]
  },
  {
   "cell_type": "code",
   "execution_count": null,
   "metadata": {},
   "outputs": [],
   "source": [
    "print(credit_new['total_income'].min())     # Считаю медиану, минимальное и максимальное значения\n",
    "print(credit_new['total_income'].max())     # для дальнейшей категоризации ежемесячных доходов\n",
    "print(credit_new['total_income'].median())"
   ]
  },
  {
   "cell_type": "code",
   "execution_count": null,
   "metadata": {},
   "outputs": [],
   "source": [
    "def income(total_income):         # Выделил классы по ежемесячному доходу шаг брал 100 000 исходя из медианы\n",
    "    if total_income <= 100000:\n",
    "        return 'бедные'\n",
    "    if total_income <= 200000:\n",
    "        return 'средний класс '\n",
    "    if total_income <= 300000:\n",
    "        return 'богатые'\n",
    "    return 'зажиточные'"
   ]
  },
  {
   "cell_type": "code",
   "execution_count": null,
   "metadata": {},
   "outputs": [],
   "source": [
    "credit_new['income_group'] = credit_new['total_income'].apply(income) # Применил метод и функцию \n",
    "display(credit_new)                           \n",
    "goal_income = credit_new['income_group'].value_counts()                # Проверка"
   ]
  },
  {
   "cell_type": "code",
   "execution_count": null,
   "metadata": {},
   "outputs": [],
   "source": [
    "goal_income_debt = credit_new.groupby('income_group')['debt'].sum().sort_values(ascending=False)  # Сгрупировал таблицу по группе дохода\n",
    "display(goal_income_debt)                                                                            # и посчитал количество просроченных кредитов по этим группам"
   ]
  },
  {
   "cell_type": "code",
   "execution_count": null,
   "metadata": {},
   "outputs": [],
   "source": [
    "credit_new.income_group.value_counts()"
   ]
  },
  {
   "cell_type": "markdown",
   "metadata": {},
   "source": [
    "Второй сопсоб группировки:"
   ]
  },
  {
   "cell_type": "code",
   "execution_count": null,
   "metadata": {},
   "outputs": [],
   "source": [
    "credit_new_income_qcut = pd.qcut(credit_new.total_income, 5).value_counts().sort_values(ascending = True)\n",
    "credit_new_income_qcut"
   ]
  },
  {
   "cell_type": "code",
   "execution_count": null,
   "metadata": {},
   "outputs": [],
   "source": [
    "def qcut_income(total_income):\n",
    "    if 20666.999 < total_income <= 98554.0:\n",
    "        return \"бедные\"\n",
    "    elif 98554.0 < total_income <= 132123.0:\n",
    "        return 'нижний средний класс'\n",
    "    elif 132123.0 < total_income <= 161287.0:\n",
    "        return 'средний класс'\n",
    "    elif 161287.0 < total_income <= 214565.0:\n",
    "        return 'верхний средний класс'\n",
    "    elif 214565.0 < total_income <= 2265604.0:\n",
    "        return 'богатые'"
   ]
  },
  {
   "cell_type": "code",
   "execution_count": null,
   "metadata": {},
   "outputs": [],
   "source": [
    "credit_new['qcut_income'] = credit_new['total_income'].apply(qcut_income)\n",
    "display(credit_new)\n",
    "credit_new['qcut_income'].value_counts()"
   ]
  },
  {
   "cell_type": "code",
   "execution_count": null,
   "metadata": {},
   "outputs": [],
   "source": [
    "qcut_income_pivot = credit_new.pivot_table(index = ['qcut_income'], columns = 'debt', values = 'education_id', aggfunc = 'count')\n",
    "qcut_income_pivot"
   ]
  },
  {
   "cell_type": "code",
   "execution_count": null,
   "metadata": {},
   "outputs": [],
   "source": [
    "qcut_income_pivot['coef'] = qcut_income_pivot[1] / qcut_income_pivot.sum(axis =1) # Втопрой способ категоризации\n",
    "qcut_income_pivot.sort_values(by = 'coef', ascending =False)"
   ]
  },
  {
   "cell_type": "code",
   "execution_count": null,
   "metadata": {},
   "outputs": [],
   "source": [
    "credit_new['education'] = credit_new['education'].str.lower() # Привели значения к нижнему регистру\n",
    "display(credit_new)"
   ]
  },
  {
   "cell_type": "code",
   "execution_count": null,
   "metadata": {},
   "outputs": [],
   "source": [
    "education_dict = credit_new[['education_id', 'education']]                # Выделили Словари\n",
    "family_status_dict = credit_new[['family_status_id', 'family_status']]\n",
    "display(education_dict.head())\n",
    "display(family_status_dict.head())"
   ]
  },
  {
   "cell_type": "markdown",
   "metadata": {},
   "source": [
    "### Вывод\n",
    "Подавбляющие большинство людей, берущих кредиты это средний класс, примерно в 3 раза меньше бедных, в 4 раза меньше богатых и в 10 раз меньше зажиточных."
   ]
  },
  {
   "cell_type": "markdown",
   "metadata": {},
   "source": [
    "### Шаг 3. Ответьте на вопросы"
   ]
  },
  {
   "cell_type": "markdown",
   "metadata": {},
   "source": [
    "- Есть ли зависимость между наличием детей и возвратом кредита в срок?"
   ]
  },
  {
   "cell_type": "code",
   "execution_count": null,
   "metadata": {},
   "outputs": [],
   "source": [
    "goal_credit_children_c = credit_new['children'].value_counts()\n",
    "print(goal_credit_children_c)"
   ]
  },
  {
   "cell_type": "code",
   "execution_count": null,
   "metadata": {},
   "outputs": [],
   "source": [
    "credit_new.pivot_table(index = 'children', columns = 'debt', values = 'education_id', aggfunc = 'count')"
   ]
  },
  {
   "cell_type": "code",
   "execution_count": null,
   "metadata": {},
   "outputs": [],
   "source": [
    "goal_credit_children_debt = credit_new.groupby('children')['debt'].sum()\n",
    "print(goal_credit_children_debt)"
   ]
  },
  {
   "cell_type": "code",
   "execution_count": null,
   "metadata": {},
   "outputs": [],
   "source": [
    "goal_childre_debt = goal_credit_children_debt / goal_credit_children_c # Посчитаем долю невозвращаемых кредитов каждой категории\n",
    "print(goal_childre_debt)"
   ]
  },
  {
   "cell_type": "code",
   "execution_count": null,
   "metadata": {},
   "outputs": [],
   "source": [
    "total_children_debt = goal_credit_children_debt.loc[1:].sum() / goal_credit_children_c.loc[1:].sum() # Посчитали сколько % людей с детьми имею просрочек по кредитам ( в независимости от количества детей (1-5))\n",
    "total_children_debt"
   ]
  },
  {
   "cell_type": "code",
   "execution_count": null,
   "metadata": {},
   "outputs": [],
   "source": [
    "total_children_debt - goal_childre_debt.loc[0] # Посчитали на сколько доля просроченных кредитов у людей с детьми больше тем у бездетных"
   ]
  },
  {
   "cell_type": "markdown",
   "metadata": {},
   "source": [
    "### Вывод\n",
    "Люди с детьми в общем имеют больше просроченных кредитов чем те, кто детей не имеет. При этом нет прямой корреляции между количеством детей и начиличем задолженности по кредитам. Следовательно рейтин бездетных людей можно поставить повыше. Возможно это связанно с тем, что у людей с детьми больше непредвиденных трат и обязательных расходов."
   ]
  },
  {
   "cell_type": "markdown",
   "metadata": {},
   "source": [
    "- Есть ли зависимость между семейным положением и возвратом кредита в срок?"
   ]
  },
  {
   "cell_type": "code",
   "execution_count": null,
   "metadata": {},
   "outputs": [],
   "source": [
    "goal_credit_family = credit_new['family_status'].value_counts()"
   ]
  },
  {
   "cell_type": "code",
   "execution_count": null,
   "metadata": {},
   "outputs": [],
   "source": [
    "goal_credit_family_debt = credit_new.groupby('family_status')['debt'].sum().sort_values(ascending = False)"
   ]
  },
  {
   "cell_type": "code",
   "execution_count": null,
   "metadata": {},
   "outputs": [],
   "source": [
    "goal_family_debt = goal_credit_family_debt / goal_credit_family\n",
    "print(goal_family_debt)"
   ]
  },
  {
   "cell_type": "code",
   "execution_count": null,
   "metadata": {},
   "outputs": [],
   "source": [
    "goal_family_debt_2 = 1 - goal_family_debt\n",
    "goal_family_debt_2"
   ]
  },
  {
   "cell_type": "code",
   "execution_count": null,
   "metadata": {},
   "outputs": [],
   "source": [
    "goal_family_debt_coef = goal_family_debt_2 / 0.934307 # Посчитали коэффициенты значений данного параметра по разным вариантам для модели кредитного скоринга\n",
    "goal_family_debt_coef"
   ]
  },
  {
   "cell_type": "markdown",
   "metadata": {},
   "source": [
    "### Вывод\n",
    "Люди, которые были (или продолжают) связаны с браком имеют меньше просроченных кредитов. Следовательно их рейтинг в кредитном скоринге можно поставить повыше. Возможно люди, знающие что такое брак, лучше научились планировать свои доходы и расходы, а также лучше понимают последствия просрочек по кредитам и в связи с этим чаще своевременно гасят долги. "
   ]
  },
  {
   "cell_type": "markdown",
   "metadata": {},
   "source": [
    "- Есть ли зависимость между уровнем дохода и возвратом кредита в срок?"
   ]
  },
  {
   "cell_type": "code",
   "execution_count": null,
   "metadata": {},
   "outputs": [],
   "source": [
    "print(goal_income_debt) # Для наглядности"
   ]
  },
  {
   "cell_type": "code",
   "execution_count": null,
   "metadata": {},
   "outputs": [],
   "source": [
    "print(goal_income)      # Для наглядности"
   ]
  },
  {
   "cell_type": "code",
   "execution_count": null,
   "metadata": {},
   "outputs": [],
   "source": [
    "result_income_debt = goal_income_debt / goal_income\n",
    "print(result_income_debt)"
   ]
  },
  {
   "cell_type": "code",
   "execution_count": null,
   "metadata": {},
   "outputs": [],
   "source": [
    "qcut_income_pivot['coef'] = qcut_income_pivot[1] / qcut_income_pivot.sum(axis =1) # Втопрой способ категоризации\n",
    "qcut_income_pivot.sort_values(by = 'coef', ascending =False)"
   ]
  },
  {
   "cell_type": "code",
   "execution_count": null,
   "metadata": {},
   "outputs": [],
   "source": [
    "qcut_income_pivot['1-coef'] = 1 - qcut_income_pivot['coef']            # Посчитали коэффициенты значений данного параметра по разным вариантам для модели кредитного скоринга\n",
    "qcut_income_pivot['scor_coef'] = qcut_income_pivot['1-coef'] / 0.930136\n",
    "qcut_income_pivot.sort_values(by = '1-coef', ascending = False)"
   ]
  },
  {
   "cell_type": "code",
   "execution_count": null,
   "metadata": {},
   "outputs": [],
   "source": [
    "qcut_income_pivot['scor_coef'].sort_values(ascending = False)"
   ]
  },
  {
   "cell_type": "markdown",
   "metadata": {},
   "source": [
    "### Вывод\n",
    "Люди с большими зарплатами (200000+) реже просрочивают кредиты чем те у кого заработок меньше. Людей с маленьким доходом (меньше 100000) которые имеют просрочки по кредитам примерно на 0,9% больше чем богатых и зажиточных. Чаще всех не успевает вернуть кредит в срок средний класс (доход 100000 - 200000) 8,6 % не возвращают кредиты во время.\n",
    "Возможно причина в том, что богатые люди имеют меньше просрочек в том, что они лучше умеют обращаться с деньгами, планировать и понимать риски. Возможно бедные имею меньше просроченных задолженностей так как у них каждая копейка на счету, потерять небольшое количество денег (по меркам среднего класса например) для них критично, они бояться и как следствие чаще платят вовремя.\n",
    "Можно сделать вывод: что рейтинг в кредитном скоринге у богатых и зажиточных групп должен быть выше чем у бедных, а у бедных выше чем у среднего класса за счет их дисциплины гашения."
   ]
  },
  {
   "cell_type": "markdown",
   "metadata": {},
   "source": [
    "- Как разные цели кредита влияют на его возврат в срок?"
   ]
  },
  {
   "cell_type": "code",
   "execution_count": null,
   "metadata": {},
   "outputs": [],
   "source": [
    "lemmas_group_count_sum = credit_new.groupby('lemmas_group').agg({'debt': ['count', 'sum']}).sort_values(by = [('debt', 'count')], ascending = False)\n",
    "print(lemmas_group_count_sum)"
   ]
  },
  {
   "cell_type": "code",
   "execution_count": null,
   "metadata": {},
   "outputs": [],
   "source": [
    "lemmas_group_count_sum['share_debt'] = lemmas_group_count_sum['debt']['sum'] / lemmas_group_count_sum['debt']['count']\n",
    "lemmas_group_count_sum = lemmas_group_count_sum.sort_values(by = 'share_debt', ascending = False)\n",
    "print(lemmas_group_count_sum)"
   ]
  },
  {
   "cell_type": "code",
   "execution_count": null,
   "metadata": {},
   "outputs": [],
   "source": [
    "lemmas_group_count_sum['1-share_debt'] = 1 - lemmas_group_count_sum['share_debt']                  # Посчитали коэффициенты значений данного параметра по разным вариантам для модели кредитного скоринга\n",
    "lemmas_group_count_sum['1-share_debt/0.930957'] = lemmas_group_count_sum['1-share_debt'] / 0.930957\n",
    "display(lemmas_group_count_sum.sort_values(by = '1-share_debt/0.930957', ascending =False))"
   ]
  },
  {
   "cell_type": "code",
   "execution_count": null,
   "metadata": {},
   "outputs": [],
   "source": [
    "display(lemmas_group_count_sum['1-share_debt/0.930957'].sort_values(ascending =False))"
   ]
  },
  {
   "cell_type": "markdown",
   "metadata": {},
   "source": [
    "### Вывод\n",
    "По разным целям кредита разные доли просрочек, просрочки с целью покупки авто и образования имеют максимальную долю (9.2 -9.4%) и примерно равны между собой. Свадьба, недвижимость и жилье имеют соотношение невозврат 7.9%, 7.4% и 6.9% соответственно (шаг в 0.5%). Минимальное колличество просрочек по кредиту на жилье. \n",
    "Гипотеза: кридиты на личные покупки (авто и образование) чаще просрачивают чем на совместные и обязательные (свадьба, недвижимость, жилье), следовательно кредитный скоринг во всех аспектах одинаковых кредитов кроме цели должен быть выше у авто и оборазования, далее последовательно идут свадьба, недвижимость, жилье."
   ]
  },
  {
   "cell_type": "markdown",
   "metadata": {},
   "source": [
    "### Шаг 4. Общий вывод "
   ]
  },
  {
   "cell_type": "markdown",
   "metadata": {},
   "source": [
    "Возврат кредита в срок обратно кореллирует с семейным положением человека (чем ближе он к браку тем меньше просрочек). Богатые и зажиточные люди реже имеют просрочки чем бедные и средний класс (максимальное количество просрочек). Кредиты на глобальные и объединяющие людей цели реже просрачивают. \n",
    "Исходя из этого можно скорректировать кредитный скоринг, используя коэффициенты просрочек теми или иными группами людей."
   ]
  },
  {
   "cell_type": "markdown",
   "metadata": {},
   "source": [
    "В ходе работы была обработанна, переданная от банка статистика о платёжеспособности клиентов. Были заполненны пропущенные значения, изменен тип данных с float на int, удалены дубликаты, выделены лемы, категоризованны данные, сделаны выводы и сформированы гипотезы по поставленным вопросам (Есть ли зависимость между наличием детей и возвратом кредита в срок? Есть ли зависимость между семейным положением и возвратом кредита в срок? Есть ли зависимость между уровнем дохода и возвратом кредита в срок? Как разные цели кредита влияют на его возврат в срок?).\n",
    "В изначальных данных было много ошибок: \n",
    "- children - были отрицательные и слишком большие значения - (-1 поменяли на 1, 20 поменяли на 2);\n",
    "- days_emploed - были отрицательные, невозможные и пропущенные значенияж (столбец не нуэен для задания, но были убраны отрицательные значения);\n",
    "- education - данные написаны в разном регистре - (все данные поменяли на мелкий регистр);\n",
    "- total_income - были пропущенные значения - (пропущенные значения заполнили медианными значениями по типу занятости);\n",
    "\n",
    "Есть ли зависимость между наличием детей и возвратом кредита в срок?\n",
    "Люди с детьми в общем имеют на 1,7% больше просроченных кредитов чем те, кто детей не имеет примерно. При этом нет прямой корреляции между количеством детей и начиличем задолженности по кредитам. Следовательно рейтин бездетных людей можно поставить повыше. Возможно это связанно с тем, что у людей с детьми больше непредвиденных трат и обязательных расходов.\n",
    "\n",
    "Есть ли зависимость между семейным положением и возвратом кредита в срок?\n",
    "Люди, которые были (или продолжают) связаны с браком имеют меньше просроченных кредитов. Следовательно их рейтинг в кредитном скоринге можно поставить повыше. Возможно люди, знающие что такое брак, лучше научились планировать свои доходы и расходы, а также лучше понимают последствия просрочек по кредитам и в связи с этим чаще своевременно гасят долги. \n",
    "Посчитали коэффициенты значений данного параметра по разным вариантам для модели кредитного скоринга:\n",
    "\n",
    "женат / замужем          0.989588\n",
    "гражданский брак         0.970557\n",
    "Не женат / не замужем    0.965947\n",
    "в разводе                0.994181\n",
    "вдовец / вдова           1.000000\n",
    "\n",
    "Есть ли зависимость между уровнем дохода и возвратом кредита в срок?\n",
    "Люди с большими зарплатами (200000+) реже просрочивают кредиты чем те у кого заработок меньше. Людей с маленьким доходом (меньше 100000) которые имеют просрочки по кредитам примерно на 0,9% больше чем богатых и зажиточных. Чаще всех не успевает вернуть кредит в срок средний класс (доход 100000 - 200000) 8,6 % не возвращают кредиты во время. Возможно причина в том, что богатые люди имеют меньше просрочек в том, что они лучше умеют обращаться с деньгами, планировать и понимать риски. Возможно бедные имею меньше просроченных задолженностей так как у них каждая копейка на счету, потерять небольшое количество денег (по меркам среднего класса например) для них критично, они бояться и как следствие чаще платят вовремя. Можно сделать вывод: что рейтинг в кредитном скоринге у богатых и зажиточных групп должен быть выше чем у бедных, а у бедных выше чем у среднего класса за счет их дисциплины гашения.\n",
    "\n",
    "Посчитали коэффициенты значений данного параметра по разным вариантам для модели кредитного скоринга:\n",
    "\n",
    "богатые                  1.000000\n",
    "бедные                   0.989004\n",
    "нижний средний класс     0.984728\n",
    "верхний средний класс    0.984728\n",
    "средний класс            0.981223\n",
    "\n",
    "Как разные цели кредита влияют на его возврат в срок?\n",
    "По разным целям кредита разные доли просрочек, просрочки с целью покупки авто и образования имеют максимальную долю (9.2 -9.4%) и примерно равны между собой. Свадьба, недвижимость и жилье имеют соотношение невозврат 7.9%, 7.4% и 6.9% соответственно (шаг в 0.5%). Минимальное колличество просрочек по кредиту на жилье. Гипотеза: кридиты на личные покупки (авто и образование) чаще просрачивают чем на совместные и обязательные (свадьба, недвижимость, жилье), следовательно кредитный скоринг во всех аспектах одинаковых кредитов кроме цели должен быть выше у авто и оборазования, далее последовательно идут свадьба, недвижимость, жилье.\n",
    "\n",
    "Посчитали коэффициенты значений данного параметра по разным вариантам для модели кредитного скоринга:\n",
    "\n",
    "жилье           1.000000\n",
    "недвижимость    0.994020\n",
    "свадьба         0.988598\n",
    "образование     0.975150\n",
    "автомобиль      0.973679"
   ]
  }
 ],
 "metadata": {
  "kernelspec": {
   "display_name": "Python 3",
   "language": "python",
   "name": "python3"
  },
  "language_info": {
   "codemirror_mode": {
    "name": "ipython",
    "version": 3
   },
   "file_extension": ".py",
   "mimetype": "text/x-python",
   "name": "python",
   "nbconvert_exporter": "python",
   "pygments_lexer": "ipython3",
   "version": "3.8.8"
  }
 },
 "nbformat": 4,
 "nbformat_minor": 2
}
