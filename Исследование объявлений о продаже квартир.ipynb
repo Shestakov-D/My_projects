{
 "cells": [
  {
   "cell_type": "markdown",
   "metadata": {},
   "source": [
    "# Исследование объявлений о продаже квартир"
   ]
  },
  {
   "cell_type": "markdown",
   "metadata": {},
   "source": [
    "Задачи:\n",
    "- Научиться определять рыночную стоимость объектов недвижимости;\n",
    "- установить параметры для построения автоматизированной системы, которая отследит аномалии и мошенническую деятельность. \n",
    "\n",
    "План Работы:\n",
    "\n",
    "- Загрузка исходных данных;\n",
    "- подготовка данных;\n",
    "- исследовательский анализ и ответы на поставленные вопросы;\n",
    "- формирование выводов\n",
    "\n",
    " Данные — архив объявлений о продаже квартир в Санкт-Петербурге и соседних населённых пунктах за несколько лет. По каждой продаваемой квартире есть два вида данных. Первые — вносили сами пользователи при публикации объявлений, вторые — получены на основе картографических данных: расстояния до центра, аэропорта, ближайшего парка и водоёма.\n",
    " \n",
    " Описание данных:\n",
    " \n",
    "- airports_nearest — расстояние до ближайшего аэропорта в метрах (м)\n",
    "- balcony — число балконов\n",
    "- ceiling_height — высота потолков (м)\n",
    "- cityCenters_nearest — расстояние до центра города (м)\n",
    "- Описание проекта 4\n",
    "- days_exposition — сколько дней было размещено объявление (от публикации до снятия)\n",
    "- first_day_exposition — дата публикации\n",
    "- floor — этаж\n",
    "- floors_total — всего этажей в доме\n",
    "- is_apartment — апартаменты (булев тип)\n",
    "- kitchen_area — площадь кухни (м²)\n",
    "- last_price — цена на момент снятия с публикации\n",
    "- living_area — жилая площадь (м²)\n",
    "- locality_name — название населённого пункта\n",
    "- open_plan — свободная планировка (булев тип)\n",
    "- parks_around3000 — число парков в радиусе 3 км\n",
    "- parks_nearest — расстояние до ближайшего парка (м)\n",
    "- ponds_around3000 — число водоёмов в радиусе 3 км\n",
    "- ponds_nearest — расстояние до ближайшего водоёма (м)\n",
    "- rooms — число комнат\n",
    "- studio — квартира-студия (булев тип)\n",
    "- total_area — площадь квартиры в квадратных метрах (м²)\n",
    "- total_images — число фотографий квартиры в объявлении"
   ]
  },
  {
   "cell_type": "markdown",
   "metadata": {},
   "source": [
    "### Шаг 1. Откройте файл с данными и изучите общую информацию. "
   ]
  },
  {
   "cell_type": "code",
   "execution_count": 1,
   "metadata": {},
   "outputs": [],
   "source": [
    "import pandas as pd"
   ]
  },
  {
   "cell_type": "code",
   "execution_count": 2,
   "metadata": {},
   "outputs": [
    {
     "name": "stdout",
     "output_type": "stream",
     "text": [
      "<class 'pandas.core.frame.DataFrame'>\n",
      "RangeIndex: 23699 entries, 0 to 23698\n",
      "Data columns (total 22 columns):\n",
      "total_images            23699 non-null int64\n",
      "last_price              23699 non-null float64\n",
      "total_area              23699 non-null float64\n",
      "first_day_exposition    23699 non-null object\n",
      "rooms                   23699 non-null int64\n",
      "ceiling_height          14504 non-null float64\n",
      "floors_total            23613 non-null float64\n",
      "living_area             21796 non-null float64\n",
      "floor                   23699 non-null int64\n",
      "is_apartment            2775 non-null object\n",
      "studio                  23699 non-null bool\n",
      "open_plan               23699 non-null bool\n",
      "kitchen_area            21421 non-null float64\n",
      "balcony                 12180 non-null float64\n",
      "locality_name           23650 non-null object\n",
      "airports_nearest        18157 non-null float64\n",
      "cityCenters_nearest     18180 non-null float64\n",
      "parks_around3000        18181 non-null float64\n",
      "parks_nearest           8079 non-null float64\n",
      "ponds_around3000        18181 non-null float64\n",
      "ponds_nearest           9110 non-null float64\n",
      "days_exposition         20518 non-null float64\n",
      "dtypes: bool(2), float64(14), int64(3), object(3)\n",
      "memory usage: 3.7+ MB\n"
     ]
    },
    {
     "data": {
      "text/plain": [
       "Index(['total_images', 'last_price', 'total_area', 'first_day_exposition',\n",
       "       'rooms', 'ceiling_height', 'floors_total', 'living_area', 'floor',\n",
       "       'is_apartment', 'studio', 'open_plan', 'kitchen_area', 'balcony',\n",
       "       'locality_name', 'airports_nearest', 'cityCenters_nearest',\n",
       "       'parks_around3000', 'parks_nearest', 'ponds_around3000',\n",
       "       'ponds_nearest', 'days_exposition'],\n",
       "      dtype='object')"
      ]
     },
     "execution_count": 2,
     "metadata": {},
     "output_type": "execute_result"
    }
   ],
   "source": [
    "df = pd.read_csv('/datasets/real_estate_data.csv', sep ='\\t')\n",
    "df.info()\n",
    "df.columns     "
   ]
  },
  {
   "cell_type": "code",
   "execution_count": 3,
   "metadata": {},
   "outputs": [
    {
     "data": {
      "text/html": [
       "<div>\n",
       "<style scoped>\n",
       "    .dataframe tbody tr th:only-of-type {\n",
       "        vertical-align: middle;\n",
       "    }\n",
       "\n",
       "    .dataframe tbody tr th {\n",
       "        vertical-align: top;\n",
       "    }\n",
       "\n",
       "    .dataframe thead th {\n",
       "        text-align: right;\n",
       "    }\n",
       "</style>\n",
       "<table border=\"1\" class=\"dataframe\">\n",
       "  <thead>\n",
       "    <tr style=\"text-align: right;\">\n",
       "      <th></th>\n",
       "      <th>total_images</th>\n",
       "      <th>last_price</th>\n",
       "      <th>total_area</th>\n",
       "      <th>first_day_exposition</th>\n",
       "      <th>rooms</th>\n",
       "      <th>ceiling_height</th>\n",
       "      <th>floors_total</th>\n",
       "      <th>living_area</th>\n",
       "      <th>floor</th>\n",
       "      <th>is_apartment</th>\n",
       "      <th>studio</th>\n",
       "      <th>open_plan</th>\n",
       "      <th>kitchen_area</th>\n",
       "      <th>balcony</th>\n",
       "      <th>locality_name</th>\n",
       "      <th>airports_nearest</th>\n",
       "      <th>cityCenters_nearest</th>\n",
       "      <th>parks_around3000</th>\n",
       "      <th>parks_nearest</th>\n",
       "      <th>ponds_around3000</th>\n",
       "      <th>ponds_nearest</th>\n",
       "      <th>days_exposition</th>\n",
       "    </tr>\n",
       "  </thead>\n",
       "  <tbody>\n",
       "    <tr>\n",
       "      <td>0</td>\n",
       "      <td>20</td>\n",
       "      <td>13000000.0</td>\n",
       "      <td>108.00</td>\n",
       "      <td>2019-03-07T00:00:00</td>\n",
       "      <td>3</td>\n",
       "      <td>2.70</td>\n",
       "      <td>16.0</td>\n",
       "      <td>51.00</td>\n",
       "      <td>8</td>\n",
       "      <td>NaN</td>\n",
       "      <td>False</td>\n",
       "      <td>False</td>\n",
       "      <td>25.00</td>\n",
       "      <td>NaN</td>\n",
       "      <td>Санкт-Петербург</td>\n",
       "      <td>18863.0</td>\n",
       "      <td>16028.0</td>\n",
       "      <td>1.0</td>\n",
       "      <td>482.0</td>\n",
       "      <td>2.0</td>\n",
       "      <td>755.0</td>\n",
       "      <td>NaN</td>\n",
       "    </tr>\n",
       "    <tr>\n",
       "      <td>1</td>\n",
       "      <td>7</td>\n",
       "      <td>3350000.0</td>\n",
       "      <td>40.40</td>\n",
       "      <td>2018-12-04T00:00:00</td>\n",
       "      <td>1</td>\n",
       "      <td>NaN</td>\n",
       "      <td>11.0</td>\n",
       "      <td>18.60</td>\n",
       "      <td>1</td>\n",
       "      <td>NaN</td>\n",
       "      <td>False</td>\n",
       "      <td>False</td>\n",
       "      <td>11.00</td>\n",
       "      <td>2.0</td>\n",
       "      <td>посёлок Шушары</td>\n",
       "      <td>12817.0</td>\n",
       "      <td>18603.0</td>\n",
       "      <td>0.0</td>\n",
       "      <td>NaN</td>\n",
       "      <td>0.0</td>\n",
       "      <td>NaN</td>\n",
       "      <td>81.0</td>\n",
       "    </tr>\n",
       "    <tr>\n",
       "      <td>2</td>\n",
       "      <td>10</td>\n",
       "      <td>5196000.0</td>\n",
       "      <td>56.00</td>\n",
       "      <td>2015-08-20T00:00:00</td>\n",
       "      <td>2</td>\n",
       "      <td>NaN</td>\n",
       "      <td>5.0</td>\n",
       "      <td>34.30</td>\n",
       "      <td>4</td>\n",
       "      <td>NaN</td>\n",
       "      <td>False</td>\n",
       "      <td>False</td>\n",
       "      <td>8.30</td>\n",
       "      <td>0.0</td>\n",
       "      <td>Санкт-Петербург</td>\n",
       "      <td>21741.0</td>\n",
       "      <td>13933.0</td>\n",
       "      <td>1.0</td>\n",
       "      <td>90.0</td>\n",
       "      <td>2.0</td>\n",
       "      <td>574.0</td>\n",
       "      <td>558.0</td>\n",
       "    </tr>\n",
       "    <tr>\n",
       "      <td>3</td>\n",
       "      <td>0</td>\n",
       "      <td>64900000.0</td>\n",
       "      <td>159.00</td>\n",
       "      <td>2015-07-24T00:00:00</td>\n",
       "      <td>3</td>\n",
       "      <td>NaN</td>\n",
       "      <td>14.0</td>\n",
       "      <td>NaN</td>\n",
       "      <td>9</td>\n",
       "      <td>NaN</td>\n",
       "      <td>False</td>\n",
       "      <td>False</td>\n",
       "      <td>NaN</td>\n",
       "      <td>0.0</td>\n",
       "      <td>Санкт-Петербург</td>\n",
       "      <td>28098.0</td>\n",
       "      <td>6800.0</td>\n",
       "      <td>2.0</td>\n",
       "      <td>84.0</td>\n",
       "      <td>3.0</td>\n",
       "      <td>234.0</td>\n",
       "      <td>424.0</td>\n",
       "    </tr>\n",
       "    <tr>\n",
       "      <td>4</td>\n",
       "      <td>2</td>\n",
       "      <td>10000000.0</td>\n",
       "      <td>100.00</td>\n",
       "      <td>2018-06-19T00:00:00</td>\n",
       "      <td>2</td>\n",
       "      <td>3.03</td>\n",
       "      <td>14.0</td>\n",
       "      <td>32.00</td>\n",
       "      <td>13</td>\n",
       "      <td>NaN</td>\n",
       "      <td>False</td>\n",
       "      <td>False</td>\n",
       "      <td>41.00</td>\n",
       "      <td>NaN</td>\n",
       "      <td>Санкт-Петербург</td>\n",
       "      <td>31856.0</td>\n",
       "      <td>8098.0</td>\n",
       "      <td>2.0</td>\n",
       "      <td>112.0</td>\n",
       "      <td>1.0</td>\n",
       "      <td>48.0</td>\n",
       "      <td>121.0</td>\n",
       "    </tr>\n",
       "    <tr>\n",
       "      <td>5</td>\n",
       "      <td>10</td>\n",
       "      <td>2890000.0</td>\n",
       "      <td>30.40</td>\n",
       "      <td>2018-09-10T00:00:00</td>\n",
       "      <td>1</td>\n",
       "      <td>NaN</td>\n",
       "      <td>12.0</td>\n",
       "      <td>14.40</td>\n",
       "      <td>5</td>\n",
       "      <td>NaN</td>\n",
       "      <td>False</td>\n",
       "      <td>False</td>\n",
       "      <td>9.10</td>\n",
       "      <td>NaN</td>\n",
       "      <td>городской посёлок Янино-1</td>\n",
       "      <td>NaN</td>\n",
       "      <td>NaN</td>\n",
       "      <td>NaN</td>\n",
       "      <td>NaN</td>\n",
       "      <td>NaN</td>\n",
       "      <td>NaN</td>\n",
       "      <td>55.0</td>\n",
       "    </tr>\n",
       "    <tr>\n",
       "      <td>6</td>\n",
       "      <td>6</td>\n",
       "      <td>3700000.0</td>\n",
       "      <td>37.30</td>\n",
       "      <td>2017-11-02T00:00:00</td>\n",
       "      <td>1</td>\n",
       "      <td>NaN</td>\n",
       "      <td>26.0</td>\n",
       "      <td>10.60</td>\n",
       "      <td>6</td>\n",
       "      <td>NaN</td>\n",
       "      <td>False</td>\n",
       "      <td>False</td>\n",
       "      <td>14.40</td>\n",
       "      <td>1.0</td>\n",
       "      <td>посёлок Парголово</td>\n",
       "      <td>52996.0</td>\n",
       "      <td>19143.0</td>\n",
       "      <td>0.0</td>\n",
       "      <td>NaN</td>\n",
       "      <td>0.0</td>\n",
       "      <td>NaN</td>\n",
       "      <td>155.0</td>\n",
       "    </tr>\n",
       "    <tr>\n",
       "      <td>7</td>\n",
       "      <td>5</td>\n",
       "      <td>7915000.0</td>\n",
       "      <td>71.60</td>\n",
       "      <td>2019-04-18T00:00:00</td>\n",
       "      <td>2</td>\n",
       "      <td>NaN</td>\n",
       "      <td>24.0</td>\n",
       "      <td>NaN</td>\n",
       "      <td>22</td>\n",
       "      <td>NaN</td>\n",
       "      <td>False</td>\n",
       "      <td>False</td>\n",
       "      <td>18.90</td>\n",
       "      <td>2.0</td>\n",
       "      <td>Санкт-Петербург</td>\n",
       "      <td>23982.0</td>\n",
       "      <td>11634.0</td>\n",
       "      <td>0.0</td>\n",
       "      <td>NaN</td>\n",
       "      <td>0.0</td>\n",
       "      <td>NaN</td>\n",
       "      <td>NaN</td>\n",
       "    </tr>\n",
       "    <tr>\n",
       "      <td>8</td>\n",
       "      <td>20</td>\n",
       "      <td>2900000.0</td>\n",
       "      <td>33.16</td>\n",
       "      <td>2018-05-23T00:00:00</td>\n",
       "      <td>1</td>\n",
       "      <td>NaN</td>\n",
       "      <td>27.0</td>\n",
       "      <td>15.43</td>\n",
       "      <td>26</td>\n",
       "      <td>NaN</td>\n",
       "      <td>False</td>\n",
       "      <td>False</td>\n",
       "      <td>8.81</td>\n",
       "      <td>NaN</td>\n",
       "      <td>посёлок Мурино</td>\n",
       "      <td>NaN</td>\n",
       "      <td>NaN</td>\n",
       "      <td>NaN</td>\n",
       "      <td>NaN</td>\n",
       "      <td>NaN</td>\n",
       "      <td>NaN</td>\n",
       "      <td>189.0</td>\n",
       "    </tr>\n",
       "    <tr>\n",
       "      <td>9</td>\n",
       "      <td>18</td>\n",
       "      <td>5400000.0</td>\n",
       "      <td>61.00</td>\n",
       "      <td>2017-02-26T00:00:00</td>\n",
       "      <td>3</td>\n",
       "      <td>2.50</td>\n",
       "      <td>9.0</td>\n",
       "      <td>43.60</td>\n",
       "      <td>7</td>\n",
       "      <td>NaN</td>\n",
       "      <td>False</td>\n",
       "      <td>False</td>\n",
       "      <td>6.50</td>\n",
       "      <td>2.0</td>\n",
       "      <td>Санкт-Петербург</td>\n",
       "      <td>50898.0</td>\n",
       "      <td>15008.0</td>\n",
       "      <td>0.0</td>\n",
       "      <td>NaN</td>\n",
       "      <td>0.0</td>\n",
       "      <td>NaN</td>\n",
       "      <td>289.0</td>\n",
       "    </tr>\n",
       "  </tbody>\n",
       "</table>\n",
       "</div>"
      ],
      "text/plain": [
       "   total_images  last_price  total_area first_day_exposition  rooms  \\\n",
       "0            20  13000000.0      108.00  2019-03-07T00:00:00      3   \n",
       "1             7   3350000.0       40.40  2018-12-04T00:00:00      1   \n",
       "2            10   5196000.0       56.00  2015-08-20T00:00:00      2   \n",
       "3             0  64900000.0      159.00  2015-07-24T00:00:00      3   \n",
       "4             2  10000000.0      100.00  2018-06-19T00:00:00      2   \n",
       "5            10   2890000.0       30.40  2018-09-10T00:00:00      1   \n",
       "6             6   3700000.0       37.30  2017-11-02T00:00:00      1   \n",
       "7             5   7915000.0       71.60  2019-04-18T00:00:00      2   \n",
       "8            20   2900000.0       33.16  2018-05-23T00:00:00      1   \n",
       "9            18   5400000.0       61.00  2017-02-26T00:00:00      3   \n",
       "\n",
       "   ceiling_height  floors_total  living_area  floor is_apartment  studio  \\\n",
       "0            2.70          16.0        51.00      8          NaN   False   \n",
       "1             NaN          11.0        18.60      1          NaN   False   \n",
       "2             NaN           5.0        34.30      4          NaN   False   \n",
       "3             NaN          14.0          NaN      9          NaN   False   \n",
       "4            3.03          14.0        32.00     13          NaN   False   \n",
       "5             NaN          12.0        14.40      5          NaN   False   \n",
       "6             NaN          26.0        10.60      6          NaN   False   \n",
       "7             NaN          24.0          NaN     22          NaN   False   \n",
       "8             NaN          27.0        15.43     26          NaN   False   \n",
       "9            2.50           9.0        43.60      7          NaN   False   \n",
       "\n",
       "   open_plan  kitchen_area  balcony              locality_name  \\\n",
       "0      False         25.00      NaN            Санкт-Петербург   \n",
       "1      False         11.00      2.0             посёлок Шушары   \n",
       "2      False          8.30      0.0            Санкт-Петербург   \n",
       "3      False           NaN      0.0            Санкт-Петербург   \n",
       "4      False         41.00      NaN            Санкт-Петербург   \n",
       "5      False          9.10      NaN  городской посёлок Янино-1   \n",
       "6      False         14.40      1.0          посёлок Парголово   \n",
       "7      False         18.90      2.0            Санкт-Петербург   \n",
       "8      False          8.81      NaN             посёлок Мурино   \n",
       "9      False          6.50      2.0            Санкт-Петербург   \n",
       "\n",
       "   airports_nearest  cityCenters_nearest  parks_around3000  parks_nearest  \\\n",
       "0           18863.0              16028.0               1.0          482.0   \n",
       "1           12817.0              18603.0               0.0            NaN   \n",
       "2           21741.0              13933.0               1.0           90.0   \n",
       "3           28098.0               6800.0               2.0           84.0   \n",
       "4           31856.0               8098.0               2.0          112.0   \n",
       "5               NaN                  NaN               NaN            NaN   \n",
       "6           52996.0              19143.0               0.0            NaN   \n",
       "7           23982.0              11634.0               0.0            NaN   \n",
       "8               NaN                  NaN               NaN            NaN   \n",
       "9           50898.0              15008.0               0.0            NaN   \n",
       "\n",
       "   ponds_around3000  ponds_nearest  days_exposition  \n",
       "0               2.0          755.0              NaN  \n",
       "1               0.0            NaN             81.0  \n",
       "2               2.0          574.0            558.0  \n",
       "3               3.0          234.0            424.0  \n",
       "4               1.0           48.0            121.0  \n",
       "5               NaN            NaN             55.0  \n",
       "6               0.0            NaN            155.0  \n",
       "7               0.0            NaN              NaN  \n",
       "8               NaN            NaN            189.0  \n",
       "9               0.0            NaN            289.0  "
      ]
     },
     "execution_count": 3,
     "metadata": {},
     "output_type": "execute_result"
    }
   ],
   "source": [
    "pd.set_option('display.max_columns', 30) \n",
    "df.head(10)"
   ]
  },
  {
   "cell_type": "markdown",
   "metadata": {},
   "source": [
    "Расстояние до аэропорта, центра берется прямолинейно (отрезок на карте) или кратчайший путь до аэропорта и центра соотвтетственно?"
   ]
  },
  {
   "cell_type": "markdown",
   "metadata": {},
   "source": [
    "### Вывод \n",
    "Видим большое количество пропущенных значений: 1) ceiling_height, floors_total, living_area,  kitchen_area, locality_name - скорей всего это данные, вносимые пользователем, их не заполнили сами пользователи по каким-то причинам (скорей всего это непривлекательные характеристики жилья, возможно случайно пропустили или не знали точные значения).Также возможно проблемы в выгрузке. locality_name - скорей всего пропустили случайно, так как без наличия этой характеристики дом продать нельзя. Данную характеристику лучше запросить у продавца, но можно и по остальным характеристикам определить наиболее вероятную локацию для предложения.\n",
    "\n",
    "2) days_exposition - пропуски могут быть обусловлены тем, что объявление еще не снято, также возможно проблемы в выгрузке.\n",
    "\n",
    "3) is_apartment - скорей всего пользователи тут ничего не писали, так как не знали, что имеется ввиду или хотели это скрыть. Данный фактор можно отследить соотношением цены и других факторов в таблице, так как апартаменты как правило дешевле квартир. \n",
    "\n",
    "4) balcony - Возможны случайные пропуски, оданко скорей всего люди без балконов просто не заполняли этот пункт. Заполним пропуски 0.\n",
    "\n",
    "5) airports_nearest, cityCenters_nearest, parks_around3000, parks_nearest, ponds_around3000, ponds_nearest - Данные полученные на основе картографическиз данных, возможны проблемы в обработке (например, в отдаленных районах можно разными путями добираться до аэропорта и следовательно будут разные расстояния), проблемы в выгрузке. Необходимо проверить, что parks_around3000 соответствует верное parks_nearest и ponds_around3000 соответствует ponds_nearest."
   ]
  },
  {
   "cell_type": "markdown",
   "metadata": {},
   "source": [
    "### Шаг 2. Предобработка данных"
   ]
  },
  {
   "cell_type": "code",
   "execution_count": 4,
   "metadata": {},
   "outputs": [
    {
     "data": {
      "text/plain": [
       "Index(['total_images', 'last_price', 'total_area', 'first_day_exposition',\n",
       "       'rooms', 'ceiling_height', 'floors_total', 'living_area', 'floor',\n",
       "       'is_apartment', 'studio', 'open_plan', 'kitchen_area', 'balcony',\n",
       "       'locality_name', 'airports_nearest', 'citycenters_nearest',\n",
       "       'parks_around3000', 'parks_nearest', 'ponds_around3000',\n",
       "       'ponds_nearest', 'days_exposition'],\n",
       "      dtype='object')"
      ]
     },
     "execution_count": 4,
     "metadata": {},
     "output_type": "execute_result"
    }
   ],
   "source": [
    "df.columns = df.columns.str.lower()  # Привели к нижнему регистру 'cityCenters_nearest'\n",
    "df.columns                           # Исправил"
   ]
  },
  {
   "cell_type": "code",
   "execution_count": 5,
   "metadata": {},
   "outputs": [],
   "source": [
    "### Код ревьювера ###\n",
    "\n",
    "#df.columns = df.columns.str.lower()"
   ]
  },
  {
   "cell_type": "code",
   "execution_count": 6,
   "metadata": {},
   "outputs": [
    {
     "data": {
      "text/plain": [
       "50"
      ]
     },
     "execution_count": 6,
     "metadata": {},
     "output_type": "execute_result"
    }
   ],
   "source": [
    "df['is_apartment'].sum() # Проверка, возможно все значения были 1,\n",
    "                         # тогда можно было предположить, что остальные 0 "
   ]
  },
  {
   "cell_type": "code",
   "execution_count": 7,
   "metadata": {},
   "outputs": [
    {
     "data": {
      "text/plain": [
       "0"
      ]
     },
     "execution_count": 7,
     "metadata": {},
     "output_type": "execute_result"
    }
   ],
   "source": [
    "df['balcony'] = df['balcony'].fillna(0) # Замена пропущенных значений в количестве балконов на 0\n",
    "df['balcony'].isna().sum()              #  Проверка"
   ]
  },
  {
   "cell_type": "code",
   "execution_count": 8,
   "metadata": {},
   "outputs": [
    {
     "data": {
      "text/html": [
       "<div>\n",
       "<style scoped>\n",
       "    .dataframe tbody tr th:only-of-type {\n",
       "        vertical-align: middle;\n",
       "    }\n",
       "\n",
       "    .dataframe tbody tr th {\n",
       "        vertical-align: top;\n",
       "    }\n",
       "\n",
       "    .dataframe thead tr th {\n",
       "        text-align: left;\n",
       "    }\n",
       "\n",
       "    .dataframe thead tr:last-of-type th {\n",
       "        text-align: right;\n",
       "    }\n",
       "</style>\n",
       "<table border=\"1\" class=\"dataframe\">\n",
       "  <thead>\n",
       "    <tr>\n",
       "      <th></th>\n",
       "      <th>max</th>\n",
       "      <th>count</th>\n",
       "    </tr>\n",
       "    <tr>\n",
       "      <th></th>\n",
       "      <th>parks_nearest</th>\n",
       "      <th>parks_nearest</th>\n",
       "    </tr>\n",
       "    <tr>\n",
       "      <th>parks_around3000</th>\n",
       "      <th></th>\n",
       "      <th></th>\n",
       "    </tr>\n",
       "  </thead>\n",
       "  <tbody>\n",
       "    <tr>\n",
       "      <td>0.0</td>\n",
       "      <td>3190.0</td>\n",
       "      <td>4</td>\n",
       "    </tr>\n",
       "    <tr>\n",
       "      <td>1.0</td>\n",
       "      <td>2984.0</td>\n",
       "      <td>5681</td>\n",
       "    </tr>\n",
       "    <tr>\n",
       "      <td>2.0</td>\n",
       "      <td>2747.0</td>\n",
       "      <td>1747</td>\n",
       "    </tr>\n",
       "    <tr>\n",
       "      <td>3.0</td>\n",
       "      <td>700.0</td>\n",
       "      <td>647</td>\n",
       "    </tr>\n",
       "  </tbody>\n",
       "</table>\n",
       "</div>"
      ],
      "text/plain": [
       "                           max         count\n",
       "                 parks_nearest parks_nearest\n",
       "parks_around3000                            \n",
       "0.0                     3190.0             4\n",
       "1.0                     2984.0          5681\n",
       "2.0                     2747.0          1747\n",
       "3.0                      700.0           647"
      ]
     },
     "metadata": {},
     "output_type": "display_data"
    },
    {
     "data": {
      "text/html": [
       "<div>\n",
       "<style scoped>\n",
       "    .dataframe tbody tr th:only-of-type {\n",
       "        vertical-align: middle;\n",
       "    }\n",
       "\n",
       "    .dataframe tbody tr th {\n",
       "        vertical-align: top;\n",
       "    }\n",
       "\n",
       "    .dataframe thead th {\n",
       "        text-align: right;\n",
       "    }\n",
       "</style>\n",
       "<table border=\"1\" class=\"dataframe\">\n",
       "  <thead>\n",
       "    <tr style=\"text-align: right;\">\n",
       "      <th></th>\n",
       "      <th>parks_nearest</th>\n",
       "    </tr>\n",
       "    <tr>\n",
       "      <th>parks_around3000</th>\n",
       "      <th></th>\n",
       "    </tr>\n",
       "  </thead>\n",
       "  <tbody>\n",
       "    <tr>\n",
       "      <td>0.0</td>\n",
       "      <td>3013.0</td>\n",
       "    </tr>\n",
       "    <tr>\n",
       "      <td>1.0</td>\n",
       "      <td>1.0</td>\n",
       "    </tr>\n",
       "    <tr>\n",
       "      <td>2.0</td>\n",
       "      <td>9.0</td>\n",
       "    </tr>\n",
       "    <tr>\n",
       "      <td>3.0</td>\n",
       "      <td>4.0</td>\n",
       "    </tr>\n",
       "  </tbody>\n",
       "</table>\n",
       "</div>"
      ],
      "text/plain": [
       "                  parks_nearest\n",
       "parks_around3000               \n",
       "0.0                      3013.0\n",
       "1.0                         1.0\n",
       "2.0                         9.0\n",
       "3.0                         4.0"
      ]
     },
     "metadata": {},
     "output_type": "display_data"
    },
    {
     "data": {
      "text/plain": [
       "max    parks_nearest    9621.0\n",
       "count  parks_nearest    8079.0\n",
       "dtype: float64"
      ]
     },
     "metadata": {},
     "output_type": "display_data"
    },
    {
     "data": {
      "text/html": [
       "<div>\n",
       "<style scoped>\n",
       "    .dataframe tbody tr th:only-of-type {\n",
       "        vertical-align: middle;\n",
       "    }\n",
       "\n",
       "    .dataframe tbody tr th {\n",
       "        vertical-align: top;\n",
       "    }\n",
       "\n",
       "    .dataframe thead tr th {\n",
       "        text-align: left;\n",
       "    }\n",
       "\n",
       "    .dataframe thead tr:last-of-type th {\n",
       "        text-align: right;\n",
       "    }\n",
       "</style>\n",
       "<table border=\"1\" class=\"dataframe\">\n",
       "  <thead>\n",
       "    <tr>\n",
       "      <th></th>\n",
       "      <th>max</th>\n",
       "      <th>count</th>\n",
       "    </tr>\n",
       "    <tr>\n",
       "      <th></th>\n",
       "      <th>ponds_nearest</th>\n",
       "      <th>ponds_nearest</th>\n",
       "    </tr>\n",
       "    <tr>\n",
       "      <th>ponds_around3000</th>\n",
       "      <th></th>\n",
       "      <th></th>\n",
       "    </tr>\n",
       "  </thead>\n",
       "  <tbody>\n",
       "    <tr>\n",
       "      <td>0.0</td>\n",
       "      <td>NaN</td>\n",
       "      <td>0</td>\n",
       "    </tr>\n",
       "    <tr>\n",
       "      <td>1.0</td>\n",
       "      <td>1344.0</td>\n",
       "      <td>5717</td>\n",
       "    </tr>\n",
       "    <tr>\n",
       "      <td>2.0</td>\n",
       "      <td>1096.0</td>\n",
       "      <td>1892</td>\n",
       "    </tr>\n",
       "    <tr>\n",
       "      <td>3.0</td>\n",
       "      <td>950.0</td>\n",
       "      <td>1501</td>\n",
       "    </tr>\n",
       "  </tbody>\n",
       "</table>\n",
       "</div>"
      ],
      "text/plain": [
       "                           max         count\n",
       "                 ponds_nearest ponds_nearest\n",
       "ponds_around3000                            \n",
       "0.0                        NaN             0\n",
       "1.0                     1344.0          5717\n",
       "2.0                     1096.0          1892\n",
       "3.0                      950.0          1501"
      ]
     },
     "metadata": {},
     "output_type": "display_data"
    },
    {
     "data": {
      "text/html": [
       "<div>\n",
       "<style scoped>\n",
       "    .dataframe tbody tr th:only-of-type {\n",
       "        vertical-align: middle;\n",
       "    }\n",
       "\n",
       "    .dataframe tbody tr th {\n",
       "        vertical-align: top;\n",
       "    }\n",
       "\n",
       "    .dataframe thead th {\n",
       "        text-align: right;\n",
       "    }\n",
       "</style>\n",
       "<table border=\"1\" class=\"dataframe\">\n",
       "  <thead>\n",
       "    <tr style=\"text-align: right;\">\n",
       "      <th></th>\n",
       "      <th>ponds_nearest</th>\n",
       "    </tr>\n",
       "    <tr>\n",
       "      <th>ponds_around3000</th>\n",
       "      <th></th>\n",
       "    </tr>\n",
       "  </thead>\n",
       "  <tbody>\n",
       "    <tr>\n",
       "      <td>1.0</td>\n",
       "      <td>20.0</td>\n",
       "    </tr>\n",
       "    <tr>\n",
       "      <td>2.0</td>\n",
       "      <td>13.0</td>\n",
       "    </tr>\n",
       "    <tr>\n",
       "      <td>3.0</td>\n",
       "      <td>22.0</td>\n",
       "    </tr>\n",
       "  </tbody>\n",
       "</table>\n",
       "</div>"
      ],
      "text/plain": [
       "                  ponds_nearest\n",
       "ponds_around3000               \n",
       "1.0                        20.0\n",
       "2.0                        13.0\n",
       "3.0                        22.0"
      ]
     },
     "metadata": {},
     "output_type": "display_data"
    },
    {
     "data": {
      "text/plain": [
       "max    ponds_nearest    3390.0\n",
       "count  ponds_nearest    9110.0\n",
       "dtype: float64"
      ]
     },
     "metadata": {},
     "output_type": "display_data"
    }
   ],
   "source": [
    "display(df.pivot_table(index = 'parks_around3000', values = 'parks_nearest', aggfunc = ['max', 'count']))       # Проверка\n",
    "display(df.pivot_table(index = 'parks_around3000', values = 'parks_nearest', aggfunc = 'min'))\n",
    "display(df.pivot_table(index = 'parks_around3000', values = 'parks_nearest', aggfunc = ['max', 'count']).sum())\n",
    "display(df.pivot_table(index = 'ponds_around3000', values = 'ponds_nearest', aggfunc = ['max', 'count']))\n",
    "display(df.pivot_table(index = 'ponds_around3000', values = 'ponds_nearest', aggfunc = 'min'))\n",
    "display(df.pivot_table(index = 'ponds_around3000', values = 'ponds_nearest', aggfunc = ['max', 'count']).sum())"
   ]
  },
  {
   "cell_type": "code",
   "execution_count": 9,
   "metadata": {},
   "outputs": [
    {
     "data": {
      "text/plain": [
       "total_images            5518\n",
       "last_price              5518\n",
       "total_area              5518\n",
       "first_day_exposition    5518\n",
       "rooms                   5518\n",
       "ceiling_height          2943\n",
       "floors_total            5508\n",
       "living_area             4895\n",
       "floor                   5518\n",
       "is_apartment             628\n",
       "studio                  5518\n",
       "open_plan               5518\n",
       "kitchen_area            4803\n",
       "balcony                 5518\n",
       "locality_name           5510\n",
       "airports_nearest           0\n",
       "citycenters_nearest        0\n",
       "parks_around3000           0\n",
       "parks_nearest              0\n",
       "ponds_around3000           0\n",
       "ponds_nearest              0\n",
       "days_exposition         4653\n",
       "dtype: int64"
      ]
     },
     "metadata": {},
     "output_type": "display_data"
    }
   ],
   "source": [
    "display(df.query('ponds_around3000.isna()').count())"
   ]
  },
  {
   "cell_type": "markdown",
   "metadata": {},
   "source": [
    "Пропуски совпадают в стоблцах: airports_nearest, citycenters_nearest, parks_around3000, parks_nearest, ponds_around3000, ponds_nearest."
   ]
  },
  {
   "cell_type": "code",
   "execution_count": 10,
   "metadata": {},
   "outputs": [
    {
     "data": {
      "text/plain": [
       "array(['городской посёлок Янино-1', 'посёлок Мурино', 'Сертолово',\n",
       "       'деревня Кудрово', 'Коммунар',\n",
       "       'поселок городского типа Красный Бор', 'Гатчина', 'поселок Мурино',\n",
       "       'деревня Фёдоровское', 'Выборг', 'Кировск',\n",
       "       'деревня Новое Девяткино', 'Санкт-Петербург',\n",
       "       'посёлок городского типа Лебяжье',\n",
       "       'посёлок городского типа Сиверский', 'поселок Молодцово',\n",
       "       'поселок городского типа Кузьмоловский',\n",
       "       'садовое товарищество Новая Ропша', 'деревня Пикколово',\n",
       "       'Всеволожск', 'Волхов', 'Кингисепп', 'Приозерск',\n",
       "       'деревня Куттузи', 'посёлок Аннино',\n",
       "       'поселок городского типа Ефимовский', 'посёлок Плодовое',\n",
       "       'деревня Заклинье', 'поселок Торковичи', 'поселок Первомайское',\n",
       "       'Сясьстрой', 'деревня Старая', 'деревня Лесколово',\n",
       "       'посёлок Новый Свет', 'Сланцы', 'село Путилово', 'Ивангород',\n",
       "       'Мурино', 'Шлиссельбург', 'Никольское', 'Сосновый Бор',\n",
       "       'поселок Новый Свет', 'деревня Оржицы', 'деревня Кальтино',\n",
       "       'Кудрово', 'поселок Романовка', 'посёлок Бугры', 'поселок Бугры',\n",
       "       'поселок городского типа Рощино', 'Кириши', 'Луга', 'Волосово',\n",
       "       'Отрадное', 'село Павлово', 'поселок Оредеж', 'село Копорье',\n",
       "       'посёлок городского типа Красный Бор', 'Тихвин', 'посёлок Победа',\n",
       "       'деревня Нурма', 'поселок городского типа Синявино',\n",
       "       'посёлок Шушары', 'Тосно', 'посёлок городского типа Кузьмоловский',\n",
       "       'Бокситогорск', 'деревня Лопухинка', 'Пикалёво',\n",
       "       'поселок Терволово', 'поселок городского типа Советский',\n",
       "       'Подпорожье', 'посёлок Петровское',\n",
       "       'посёлок городского типа Токсово', 'поселок Сельцо',\n",
       "       'посёлок городского типа Вырица', 'деревня Кипень',\n",
       "       'деревня Келози', 'деревня Вартемяги', 'посёлок Тельмана',\n",
       "       'поселок Севастьяново', 'городской поселок Большая Ижора',\n",
       "       'городской посёлок Павлово', 'деревня Агалатово',\n",
       "       'посёлок Новогорелово', 'городской посёлок Лесогорский',\n",
       "       'деревня Лаголово', 'поселок Цвелодубово',\n",
       "       'поселок городского типа Рахья', 'поселок городского типа Вырица',\n",
       "       'деревня Белогорка', 'поселок Заводской',\n",
       "       'городской посёлок Новоселье', 'деревня Большие Колпаны',\n",
       "       'деревня Горбунки', 'деревня Батово', 'деревня Заневка',\n",
       "       'деревня Иссад', 'Приморск', 'городской посёлок Фёдоровское',\n",
       "       'деревня Мистолово', 'Новая Ладога', 'поселок Зимитицы',\n",
       "       'поселок Барышево', 'деревня Разметелево',\n",
       "       'поселок городского типа имени Свердлова', 'деревня Пеники',\n",
       "       'поселок Рябово', 'деревня Пудомяги', 'поселок станции Корнево',\n",
       "       'деревня Низино', 'деревня Бегуницы', 'посёлок Поляны',\n",
       "       'городской посёлок Мга', 'поселок Елизаветино',\n",
       "       'посёлок городского типа Кузнечное', 'деревня Колтуши',\n",
       "       'поселок Запорожское', 'посёлок городского типа Рощино',\n",
       "       'деревня Гостилицы', 'деревня Малое Карлино',\n",
       "       'посёлок Мичуринское', 'посёлок городского типа имени Морозова',\n",
       "       'посёлок Сосново', 'деревня Аро', 'поселок Ильичёво',\n",
       "       'посёлок городского типа Тайцы', 'деревня Малое Верево',\n",
       "       'деревня Извара', 'поселок станции Вещево', 'село Паша',\n",
       "       'деревня Калитино', nan, 'посёлок городского типа Ульяновка',\n",
       "       'деревня Чудской Бор', 'поселок городского типа Дубровка',\n",
       "       'деревня Мины', 'поселок Войсковицы',\n",
       "       'посёлок городского типа имени Свердлова', 'деревня Коркино',\n",
       "       'посёлок Ропша', 'поселок городского типа Приладожский',\n",
       "       'посёлок Щеглово', 'посёлок Гаврилово', 'Лодейное Поле',\n",
       "       'деревня Рабитицы', 'поселок городского типа Никольский',\n",
       "       'деревня Кузьмолово', 'деревня Малые Колпаны', 'поселок Тельмана',\n",
       "       'городской посёлок Назия', 'посёлок Ильичёво', 'поселок Углово',\n",
       "       'поселок Старая Малукса', 'садовое товарищество Рахья',\n",
       "       'поселок Аннино', 'поселок Победа', 'деревня Меньково',\n",
       "       'деревня Старые Бегуницы', 'поселок Семрино', 'поселок Гаврилово',\n",
       "       'поселок Глажево', 'поселок Кобринское', 'деревня Гарболово',\n",
       "       'деревня Юкки', 'поселок станции Приветнинское',\n",
       "       'деревня Мануйлово', 'деревня Пчева', 'поселок Поляны',\n",
       "       'поселок Цвылёво', 'поселок Мельниково', 'посёлок Пудость',\n",
       "       'посёлок Усть-Луга', 'Светогорск', 'Любань', 'поселок Селезнёво',\n",
       "       'поселок городского типа Рябово', 'Каменногорск', 'деревня Кривко',\n",
       "       'поселок Глебычево', 'деревня Парицы', 'поселок Жилпосёлок',\n",
       "       'посёлок городского типа Мга', 'городской поселок Янино-1',\n",
       "       'посёлок Войскорово', 'село Никольское', 'посёлок Терволово',\n",
       "       'поселок Стеклянный', 'посёлок городского типа Важины',\n",
       "       'посёлок Мыза-Ивановка', 'село Русско-Высоцкое',\n",
       "       'поселок городского типа Лебяжье',\n",
       "       'поселок городского типа Форносово', 'Красное Село',\n",
       "       'село Старая Ладога', 'поселок Житково',\n",
       "       'городской посёлок Виллози', 'деревня Лампово',\n",
       "       'деревня Шпаньково', 'деревня Лаврики', 'посёлок Сумино',\n",
       "       'посёлок Возрождение', 'деревня Старосиверская',\n",
       "       'посёлок Кикерино', 'поселок Возрождение',\n",
       "       'деревня Старое Хинколово', 'посёлок Пригородный',\n",
       "       'посёлок Торфяное', 'городской посёлок Будогощь',\n",
       "       'поселок Суходолье', 'поселок Красная Долина', 'деревня Хапо-Ое',\n",
       "       'поселок городского типа Дружная Горка', 'деревня Яльгелево',\n",
       "       'посёлок Стеклянный', 'село Рождествено', 'деревня Старополье',\n",
       "       'деревня Сяськелево', 'деревня Камышовка',\n",
       "       'садоводческое некоммерческое товарищество Лесная Поляна',\n",
       "       'деревня Хязельки', 'поселок Жилгородок',\n",
       "       'посёлок городского типа Павлово', 'деревня Ялгино', 'Ломоносов',\n",
       "       'поселок Новый Учхоз', 'городской посёлок Рощино',\n",
       "       'поселок Гончарово', 'поселок Почап', 'посёлок Сапёрное',\n",
       "       'посёлок Платформа 69-й километр', 'поселок Каложицы',\n",
       "       'деревня Фалилеево', 'деревня Пельгора',\n",
       "       'поселок городского типа Лесогорский', 'деревня Торошковичи',\n",
       "       'посёлок Алексеевка', 'поселок Серебрянский', 'поселок Лукаши',\n",
       "       'поселок Петровское', 'деревня Щеглово', 'Кронштадт',\n",
       "       'поселок Мичуринское', 'деревня Тарасово', 'поселок Кингисеппский',\n",
       "       'посёлок при железнодорожной станции Вещево', 'поселок Ушаки',\n",
       "       'деревня Котлы', 'деревня Сижно', 'деревня Торосово',\n",
       "       'посёлок Форт Красная Горка', 'поселок городского типа Токсово',\n",
       "       'деревня Новолисино', 'посёлок станции Громово', 'деревня Глинка',\n",
       "       'посёлок Мельниково', 'поселок городского типа Назия',\n",
       "       'деревня Старая Пустошь', 'поселок Коммунары', 'поселок Починок',\n",
       "       'посёлок городского типа Вознесенье', 'деревня Разбегаево',\n",
       "       'посёлок городского типа Рябово', 'поселок Гладкое',\n",
       "       'посёлок при железнодорожной станции Приветнинское',\n",
       "       'поселок Тёсово-4', 'посёлок Жилгородок', 'деревня Бор',\n",
       "       'посёлок Коробицыно', 'деревня Большая Вруда', 'деревня Курковицы',\n",
       "       'городской посёлок Советский', 'посёлок Кобралово',\n",
       "       'деревня Суоранда', 'поселок Кобралово',\n",
       "       'поселок городского типа Кондратьево',\n",
       "       'коттеджный поселок Счастье', 'поселок Любань', 'деревня Реброво',\n",
       "       'деревня Зимитицы', 'деревня Тойворово', 'поселок Семиозерье',\n",
       "       'поселок Лесное', 'поселок Совхозный', 'поселок Усть-Луга',\n",
       "       'посёлок Ленинское', 'посёлок Суйда',\n",
       "       'посёлок городского типа Форносово', 'деревня Нижние Осельки',\n",
       "       'посёлок станции Свирь', 'поселок Перово', 'Высоцк',\n",
       "       'поселок Гарболово', 'село Шум', 'поселок Котельский',\n",
       "       'поселок станции Лужайка', 'деревня Большая Пустомержа',\n",
       "       'поселок Красносельское', 'деревня Вахнова Кара', 'деревня Пижма',\n",
       "       'коттеджный поселок Кивеннапа Север', 'поселок Коробицыно',\n",
       "       'поселок Ромашки', 'посёлок Перово', 'деревня Каськово',\n",
       "       'деревня Куровицы', 'посёлок Плоское', 'поселок Сумино',\n",
       "       'поселок городского типа Большая Ижора', 'поселок Кирпичное',\n",
       "       'деревня Ям-Тесово', 'деревня Раздолье', 'деревня Терпилицы',\n",
       "       'посёлок Шугозеро', 'деревня Ваганово', 'поселок Пушное',\n",
       "       'садовое товарищество Садко', 'деревня Выскатка',\n",
       "       'городской посёлок Свирьстрой', 'поселок Громово',\n",
       "       'деревня Кисельня', 'посёлок Старая Малукса',\n",
       "       'деревня Трубников Бор', 'поселок Калитино',\n",
       "       'посёлок Высокоключевой', 'садовое товарищество Приладожский',\n",
       "       'посёлок Пансионат Зелёный Бор', 'деревня Ненимяки',\n",
       "       'поселок Пансионат Зелёный Бор', 'деревня Снегирёвка',\n",
       "       'деревня Рапполово', 'деревня Пустынка', 'Колпино',\n",
       "       'поселок Рабитицы', 'деревня Большой Сабск', 'деревня Русско',\n",
       "       'деревня Лупполово', 'деревня Большое Рейзино',\n",
       "       'деревня Малая Романовка', 'поселок Дружноселье', 'поселок Пчевжа',\n",
       "       'поселок Володарское', 'деревня Нижняя',\n",
       "       'коттеджный посёлок Лесное', 'деревня Тихковицы',\n",
       "       'деревня Борисова Грива', 'посёлок Дзержинского'], dtype=object)"
      ]
     },
     "execution_count": 10,
     "metadata": {},
     "output_type": "execute_result"
    }
   ],
   "source": [
    "df.query('ponds_around3000.isnull()')['locality_name'].unique() # Определяем географию, где не были определены расстояния"
   ]
  },
  {
   "cell_type": "code",
   "execution_count": 11,
   "metadata": {},
   "outputs": [
    {
     "data": {
      "text/html": [
       "<div>\n",
       "<style scoped>\n",
       "    .dataframe tbody tr th:only-of-type {\n",
       "        vertical-align: middle;\n",
       "    }\n",
       "\n",
       "    .dataframe tbody tr th {\n",
       "        vertical-align: top;\n",
       "    }\n",
       "\n",
       "    .dataframe thead th {\n",
       "        text-align: right;\n",
       "    }\n",
       "</style>\n",
       "<table border=\"1\" class=\"dataframe\">\n",
       "  <thead>\n",
       "    <tr style=\"text-align: right;\">\n",
       "      <th></th>\n",
       "      <th>total_images</th>\n",
       "      <th>last_price</th>\n",
       "      <th>total_area</th>\n",
       "      <th>first_day_exposition</th>\n",
       "      <th>rooms</th>\n",
       "      <th>ceiling_height</th>\n",
       "      <th>floors_total</th>\n",
       "      <th>living_area</th>\n",
       "      <th>floor</th>\n",
       "      <th>is_apartment</th>\n",
       "      <th>studio</th>\n",
       "      <th>open_plan</th>\n",
       "      <th>kitchen_area</th>\n",
       "      <th>balcony</th>\n",
       "      <th>locality_name</th>\n",
       "      <th>airports_nearest</th>\n",
       "      <th>citycenters_nearest</th>\n",
       "      <th>parks_around3000</th>\n",
       "      <th>parks_nearest</th>\n",
       "      <th>ponds_around3000</th>\n",
       "      <th>ponds_nearest</th>\n",
       "      <th>days_exposition</th>\n",
       "    </tr>\n",
       "  </thead>\n",
       "  <tbody>\n",
       "    <tr>\n",
       "      <td>0</td>\n",
       "      <td>20</td>\n",
       "      <td>13000000.0</td>\n",
       "      <td>108.00</td>\n",
       "      <td>2019-03-07</td>\n",
       "      <td>3</td>\n",
       "      <td>2.70</td>\n",
       "      <td>16.0</td>\n",
       "      <td>51.0</td>\n",
       "      <td>8</td>\n",
       "      <td>NaN</td>\n",
       "      <td>False</td>\n",
       "      <td>False</td>\n",
       "      <td>25.00</td>\n",
       "      <td>0.0</td>\n",
       "      <td>Санкт-Петербург</td>\n",
       "      <td>18863.0</td>\n",
       "      <td>16028.0</td>\n",
       "      <td>1.0</td>\n",
       "      <td>482.0</td>\n",
       "      <td>2.0</td>\n",
       "      <td>755.0</td>\n",
       "      <td>NaN</td>\n",
       "    </tr>\n",
       "    <tr>\n",
       "      <td>1</td>\n",
       "      <td>7</td>\n",
       "      <td>3350000.0</td>\n",
       "      <td>40.40</td>\n",
       "      <td>2018-12-04</td>\n",
       "      <td>1</td>\n",
       "      <td>NaN</td>\n",
       "      <td>11.0</td>\n",
       "      <td>18.6</td>\n",
       "      <td>1</td>\n",
       "      <td>NaN</td>\n",
       "      <td>False</td>\n",
       "      <td>False</td>\n",
       "      <td>11.00</td>\n",
       "      <td>2.0</td>\n",
       "      <td>посёлок Шушары</td>\n",
       "      <td>12817.0</td>\n",
       "      <td>18603.0</td>\n",
       "      <td>0.0</td>\n",
       "      <td>NaN</td>\n",
       "      <td>0.0</td>\n",
       "      <td>NaN</td>\n",
       "      <td>81.0</td>\n",
       "    </tr>\n",
       "    <tr>\n",
       "      <td>2</td>\n",
       "      <td>10</td>\n",
       "      <td>5196000.0</td>\n",
       "      <td>56.00</td>\n",
       "      <td>2015-08-20</td>\n",
       "      <td>2</td>\n",
       "      <td>NaN</td>\n",
       "      <td>5.0</td>\n",
       "      <td>34.3</td>\n",
       "      <td>4</td>\n",
       "      <td>NaN</td>\n",
       "      <td>False</td>\n",
       "      <td>False</td>\n",
       "      <td>8.30</td>\n",
       "      <td>0.0</td>\n",
       "      <td>Санкт-Петербург</td>\n",
       "      <td>21741.0</td>\n",
       "      <td>13933.0</td>\n",
       "      <td>1.0</td>\n",
       "      <td>90.0</td>\n",
       "      <td>2.0</td>\n",
       "      <td>574.0</td>\n",
       "      <td>558.0</td>\n",
       "    </tr>\n",
       "    <tr>\n",
       "      <td>3</td>\n",
       "      <td>0</td>\n",
       "      <td>64900000.0</td>\n",
       "      <td>159.00</td>\n",
       "      <td>2015-07-24</td>\n",
       "      <td>3</td>\n",
       "      <td>NaN</td>\n",
       "      <td>14.0</td>\n",
       "      <td>NaN</td>\n",
       "      <td>9</td>\n",
       "      <td>NaN</td>\n",
       "      <td>False</td>\n",
       "      <td>False</td>\n",
       "      <td>NaN</td>\n",
       "      <td>0.0</td>\n",
       "      <td>Санкт-Петербург</td>\n",
       "      <td>28098.0</td>\n",
       "      <td>6800.0</td>\n",
       "      <td>2.0</td>\n",
       "      <td>84.0</td>\n",
       "      <td>3.0</td>\n",
       "      <td>234.0</td>\n",
       "      <td>424.0</td>\n",
       "    </tr>\n",
       "    <tr>\n",
       "      <td>4</td>\n",
       "      <td>2</td>\n",
       "      <td>10000000.0</td>\n",
       "      <td>100.00</td>\n",
       "      <td>2018-06-19</td>\n",
       "      <td>2</td>\n",
       "      <td>3.03</td>\n",
       "      <td>14.0</td>\n",
       "      <td>32.0</td>\n",
       "      <td>13</td>\n",
       "      <td>NaN</td>\n",
       "      <td>False</td>\n",
       "      <td>False</td>\n",
       "      <td>41.00</td>\n",
       "      <td>0.0</td>\n",
       "      <td>Санкт-Петербург</td>\n",
       "      <td>31856.0</td>\n",
       "      <td>8098.0</td>\n",
       "      <td>2.0</td>\n",
       "      <td>112.0</td>\n",
       "      <td>1.0</td>\n",
       "      <td>48.0</td>\n",
       "      <td>121.0</td>\n",
       "    </tr>\n",
       "    <tr>\n",
       "      <td>...</td>\n",
       "      <td>...</td>\n",
       "      <td>...</td>\n",
       "      <td>...</td>\n",
       "      <td>...</td>\n",
       "      <td>...</td>\n",
       "      <td>...</td>\n",
       "      <td>...</td>\n",
       "      <td>...</td>\n",
       "      <td>...</td>\n",
       "      <td>...</td>\n",
       "      <td>...</td>\n",
       "      <td>...</td>\n",
       "      <td>...</td>\n",
       "      <td>...</td>\n",
       "      <td>...</td>\n",
       "      <td>...</td>\n",
       "      <td>...</td>\n",
       "      <td>...</td>\n",
       "      <td>...</td>\n",
       "      <td>...</td>\n",
       "      <td>...</td>\n",
       "      <td>...</td>\n",
       "    </tr>\n",
       "    <tr>\n",
       "      <td>23694</td>\n",
       "      <td>9</td>\n",
       "      <td>9700000.0</td>\n",
       "      <td>133.81</td>\n",
       "      <td>2017-03-21</td>\n",
       "      <td>3</td>\n",
       "      <td>3.70</td>\n",
       "      <td>5.0</td>\n",
       "      <td>73.3</td>\n",
       "      <td>3</td>\n",
       "      <td>NaN</td>\n",
       "      <td>False</td>\n",
       "      <td>False</td>\n",
       "      <td>13.83</td>\n",
       "      <td>0.0</td>\n",
       "      <td>Санкт-Петербург</td>\n",
       "      <td>24665.0</td>\n",
       "      <td>4232.0</td>\n",
       "      <td>1.0</td>\n",
       "      <td>796.0</td>\n",
       "      <td>3.0</td>\n",
       "      <td>381.0</td>\n",
       "      <td>NaN</td>\n",
       "    </tr>\n",
       "    <tr>\n",
       "      <td>23695</td>\n",
       "      <td>14</td>\n",
       "      <td>3100000.0</td>\n",
       "      <td>59.00</td>\n",
       "      <td>2018-01-15</td>\n",
       "      <td>3</td>\n",
       "      <td>NaN</td>\n",
       "      <td>5.0</td>\n",
       "      <td>38.0</td>\n",
       "      <td>4</td>\n",
       "      <td>NaN</td>\n",
       "      <td>False</td>\n",
       "      <td>False</td>\n",
       "      <td>8.50</td>\n",
       "      <td>0.0</td>\n",
       "      <td>Тосно</td>\n",
       "      <td>NaN</td>\n",
       "      <td>NaN</td>\n",
       "      <td>NaN</td>\n",
       "      <td>NaN</td>\n",
       "      <td>NaN</td>\n",
       "      <td>NaN</td>\n",
       "      <td>45.0</td>\n",
       "    </tr>\n",
       "    <tr>\n",
       "      <td>23696</td>\n",
       "      <td>18</td>\n",
       "      <td>2500000.0</td>\n",
       "      <td>56.70</td>\n",
       "      <td>2018-02-11</td>\n",
       "      <td>2</td>\n",
       "      <td>NaN</td>\n",
       "      <td>3.0</td>\n",
       "      <td>29.7</td>\n",
       "      <td>1</td>\n",
       "      <td>NaN</td>\n",
       "      <td>False</td>\n",
       "      <td>False</td>\n",
       "      <td>NaN</td>\n",
       "      <td>0.0</td>\n",
       "      <td>село Рождествено</td>\n",
       "      <td>NaN</td>\n",
       "      <td>NaN</td>\n",
       "      <td>NaN</td>\n",
       "      <td>NaN</td>\n",
       "      <td>NaN</td>\n",
       "      <td>NaN</td>\n",
       "      <td>NaN</td>\n",
       "    </tr>\n",
       "    <tr>\n",
       "      <td>23697</td>\n",
       "      <td>13</td>\n",
       "      <td>11475000.0</td>\n",
       "      <td>76.75</td>\n",
       "      <td>2017-03-28</td>\n",
       "      <td>2</td>\n",
       "      <td>3.00</td>\n",
       "      <td>17.0</td>\n",
       "      <td>NaN</td>\n",
       "      <td>12</td>\n",
       "      <td>NaN</td>\n",
       "      <td>False</td>\n",
       "      <td>False</td>\n",
       "      <td>23.30</td>\n",
       "      <td>2.0</td>\n",
       "      <td>Санкт-Петербург</td>\n",
       "      <td>39140.0</td>\n",
       "      <td>10364.0</td>\n",
       "      <td>2.0</td>\n",
       "      <td>173.0</td>\n",
       "      <td>3.0</td>\n",
       "      <td>196.0</td>\n",
       "      <td>602.0</td>\n",
       "    </tr>\n",
       "    <tr>\n",
       "      <td>23698</td>\n",
       "      <td>4</td>\n",
       "      <td>1350000.0</td>\n",
       "      <td>32.30</td>\n",
       "      <td>2017-07-21</td>\n",
       "      <td>1</td>\n",
       "      <td>2.50</td>\n",
       "      <td>5.0</td>\n",
       "      <td>12.3</td>\n",
       "      <td>1</td>\n",
       "      <td>NaN</td>\n",
       "      <td>False</td>\n",
       "      <td>False</td>\n",
       "      <td>9.00</td>\n",
       "      <td>0.0</td>\n",
       "      <td>поселок Новый Учхоз</td>\n",
       "      <td>NaN</td>\n",
       "      <td>NaN</td>\n",
       "      <td>NaN</td>\n",
       "      <td>NaN</td>\n",
       "      <td>NaN</td>\n",
       "      <td>NaN</td>\n",
       "      <td>NaN</td>\n",
       "    </tr>\n",
       "  </tbody>\n",
       "</table>\n",
       "<p>23699 rows × 22 columns</p>\n",
       "</div>"
      ],
      "text/plain": [
       "       total_images  last_price  total_area first_day_exposition  rooms  \\\n",
       "0                20  13000000.0      108.00           2019-03-07      3   \n",
       "1                 7   3350000.0       40.40           2018-12-04      1   \n",
       "2                10   5196000.0       56.00           2015-08-20      2   \n",
       "3                 0  64900000.0      159.00           2015-07-24      3   \n",
       "4                 2  10000000.0      100.00           2018-06-19      2   \n",
       "...             ...         ...         ...                  ...    ...   \n",
       "23694             9   9700000.0      133.81           2017-03-21      3   \n",
       "23695            14   3100000.0       59.00           2018-01-15      3   \n",
       "23696            18   2500000.0       56.70           2018-02-11      2   \n",
       "23697            13  11475000.0       76.75           2017-03-28      2   \n",
       "23698             4   1350000.0       32.30           2017-07-21      1   \n",
       "\n",
       "       ceiling_height  floors_total  living_area  floor is_apartment  studio  \\\n",
       "0                2.70          16.0         51.0      8          NaN   False   \n",
       "1                 NaN          11.0         18.6      1          NaN   False   \n",
       "2                 NaN           5.0         34.3      4          NaN   False   \n",
       "3                 NaN          14.0          NaN      9          NaN   False   \n",
       "4                3.03          14.0         32.0     13          NaN   False   \n",
       "...               ...           ...          ...    ...          ...     ...   \n",
       "23694            3.70           5.0         73.3      3          NaN   False   \n",
       "23695             NaN           5.0         38.0      4          NaN   False   \n",
       "23696             NaN           3.0         29.7      1          NaN   False   \n",
       "23697            3.00          17.0          NaN     12          NaN   False   \n",
       "23698            2.50           5.0         12.3      1          NaN   False   \n",
       "\n",
       "       open_plan  kitchen_area  balcony        locality_name  \\\n",
       "0          False         25.00      0.0      Санкт-Петербург   \n",
       "1          False         11.00      2.0       посёлок Шушары   \n",
       "2          False          8.30      0.0      Санкт-Петербург   \n",
       "3          False           NaN      0.0      Санкт-Петербург   \n",
       "4          False         41.00      0.0      Санкт-Петербург   \n",
       "...          ...           ...      ...                  ...   \n",
       "23694      False         13.83      0.0      Санкт-Петербург   \n",
       "23695      False          8.50      0.0                Тосно   \n",
       "23696      False           NaN      0.0     село Рождествено   \n",
       "23697      False         23.30      2.0      Санкт-Петербург   \n",
       "23698      False          9.00      0.0  поселок Новый Учхоз   \n",
       "\n",
       "       airports_nearest  citycenters_nearest  parks_around3000  parks_nearest  \\\n",
       "0               18863.0              16028.0               1.0          482.0   \n",
       "1               12817.0              18603.0               0.0            NaN   \n",
       "2               21741.0              13933.0               1.0           90.0   \n",
       "3               28098.0               6800.0               2.0           84.0   \n",
       "4               31856.0               8098.0               2.0          112.0   \n",
       "...                 ...                  ...               ...            ...   \n",
       "23694           24665.0               4232.0               1.0          796.0   \n",
       "23695               NaN                  NaN               NaN            NaN   \n",
       "23696               NaN                  NaN               NaN            NaN   \n",
       "23697           39140.0              10364.0               2.0          173.0   \n",
       "23698               NaN                  NaN               NaN            NaN   \n",
       "\n",
       "       ponds_around3000  ponds_nearest  days_exposition  \n",
       "0                   2.0          755.0              NaN  \n",
       "1                   0.0            NaN             81.0  \n",
       "2                   2.0          574.0            558.0  \n",
       "3                   3.0          234.0            424.0  \n",
       "4                   1.0           48.0            121.0  \n",
       "...                 ...            ...              ...  \n",
       "23694               3.0          381.0              NaN  \n",
       "23695               NaN            NaN             45.0  \n",
       "23696               NaN            NaN              NaN  \n",
       "23697               3.0          196.0            602.0  \n",
       "23698               NaN            NaN              NaN  \n",
       "\n",
       "[23699 rows x 22 columns]"
      ]
     },
     "execution_count": 11,
     "metadata": {},
     "output_type": "execute_result"
    }
   ],
   "source": [
    "df['first_day_exposition'] = pd.to_datetime(df['first_day_exposition'], format='%Y.%m.%dT%H:%M:%S')\n",
    "df"
   ]
  },
  {
   "cell_type": "code",
   "execution_count": 83,
   "metadata": {},
   "outputs": [
    {
     "data": {
      "text/plain": [
       "1        11.0\n",
       "2         5.0\n",
       "5        12.0\n",
       "6        26.0\n",
       "7        24.0\n",
       "         ... \n",
       "23692     5.0\n",
       "23693     9.0\n",
       "23695     5.0\n",
       "23696     3.0\n",
       "23698     5.0\n",
       "Name: floors_total, Length: 20703, dtype: float64"
      ]
     },
     "execution_count": 83,
     "metadata": {},
     "output_type": "execute_result"
    }
   ],
   "source": [
    "df['floors_total'].astype('Int64') # Изменил тип данных, так как значения столбца должны быть целочисленными\n",
    "df['floors_total']"
   ]
  },
  {
   "cell_type": "code",
   "execution_count": 13,
   "metadata": {},
   "outputs": [
    {
     "data": {
      "text/plain": [
       "0.0    15277\n",
       "1.0     4195\n",
       "2.0     3659\n",
       "5.0      304\n",
       "4.0      183\n",
       "3.0       81\n",
       "Name: balcony, dtype: int64"
      ]
     },
     "execution_count": 13,
     "metadata": {},
     "output_type": "execute_result"
    }
   ],
   "source": [
    "df['balcony'].astype('int') # Изменил тип данных, так как значения столбца должны быть целочисленными\n",
    "df['balcony'].value_counts()"
   ]
  },
  {
   "cell_type": "code",
   "execution_count": 82,
   "metadata": {},
   "outputs": [
    {
     "data": {
      "text/plain": [
       "1        3350000.0\n",
       "2        5196000.0\n",
       "5        2890000.0\n",
       "6        3700000.0\n",
       "7        7915000.0\n",
       "           ...    \n",
       "23692    1350000.0\n",
       "23693    4600000.0\n",
       "23695    3100000.0\n",
       "23696    2500000.0\n",
       "23698    1350000.0\n",
       "Name: last_price, Length: 20703, dtype: float64"
      ]
     },
     "execution_count": 82,
     "metadata": {},
     "output_type": "execute_result"
    }
   ],
   "source": [
    "df['last_price'].astype('Int64')\n",
    "df['last_price']"
   ]
  },
  {
   "cell_type": "code",
   "execution_count": 15,
   "metadata": {},
   "outputs": [
    {
     "data": {
      "text/plain": [
       "0"
      ]
     },
     "execution_count": 15,
     "metadata": {},
     "output_type": "execute_result"
    }
   ],
   "source": [
    "df.duplicated().sum() # Проверка дубликатов"
   ]
  },
  {
   "cell_type": "markdown",
   "metadata": {},
   "source": [
    "Привели все названия колонок к нижнему регистру, проанализировали целесообразность заполнения пропусков, заполнили пропуски в столбце balcony. обнаружили, что пропуски совпадают в стоблцах: airports_nearest, citycenters_nearest, parks_around3000, parks_nearest, ponds_around3000, ponds_nearest. Возможно по этим квартирам нет геоданных. Увидели, что география у пропущенных значений обширная. Перевели столбец с датой публикации в формат даты, а также 'floors_total' и 'balcony' в int. Дубликатов в таблице не выявлено."
   ]
  },
  {
   "cell_type": "markdown",
   "metadata": {},
   "source": [
    "### Шаг 3. Посчитайте и добавьте в таблицу"
   ]
  },
  {
   "cell_type": "code",
   "execution_count": 16,
   "metadata": {},
   "outputs": [
    {
     "data": {
      "text/plain": [
       "0        120370.370370\n",
       "1         82920.792079\n",
       "2         92785.714286\n",
       "3        408176.100629\n",
       "4        100000.000000\n",
       "             ...      \n",
       "23694     72490.845228\n",
       "23695     52542.372881\n",
       "23696     44091.710758\n",
       "23697    149511.400651\n",
       "23698     41795.665635\n",
       "Name: meter_price, Length: 23699, dtype: float64"
      ]
     },
     "execution_count": 16,
     "metadata": {},
     "output_type": "execute_result"
    }
   ],
   "source": [
    "df['meter_price'] = df['last_price'] / df['total_area'] # Добавли цену квадратного метра\n",
    "df['meter_price']"
   ]
  },
  {
   "cell_type": "code",
   "execution_count": 17,
   "metadata": {},
   "outputs": [
    {
     "data": {
      "text/html": [
       "<div>\n",
       "<style scoped>\n",
       "    .dataframe tbody tr th:only-of-type {\n",
       "        vertical-align: middle;\n",
       "    }\n",
       "\n",
       "    .dataframe tbody tr th {\n",
       "        vertical-align: top;\n",
       "    }\n",
       "\n",
       "    .dataframe thead th {\n",
       "        text-align: right;\n",
       "    }\n",
       "</style>\n",
       "<table border=\"1\" class=\"dataframe\">\n",
       "  <thead>\n",
       "    <tr style=\"text-align: right;\">\n",
       "      <th></th>\n",
       "      <th>total_images</th>\n",
       "      <th>last_price</th>\n",
       "      <th>total_area</th>\n",
       "      <th>first_day_exposition</th>\n",
       "      <th>rooms</th>\n",
       "      <th>ceiling_height</th>\n",
       "      <th>floors_total</th>\n",
       "      <th>living_area</th>\n",
       "      <th>floor</th>\n",
       "      <th>is_apartment</th>\n",
       "      <th>studio</th>\n",
       "      <th>open_plan</th>\n",
       "      <th>kitchen_area</th>\n",
       "      <th>balcony</th>\n",
       "      <th>locality_name</th>\n",
       "      <th>airports_nearest</th>\n",
       "      <th>citycenters_nearest</th>\n",
       "      <th>parks_around3000</th>\n",
       "      <th>parks_nearest</th>\n",
       "      <th>ponds_around3000</th>\n",
       "      <th>ponds_nearest</th>\n",
       "      <th>days_exposition</th>\n",
       "      <th>meter_price</th>\n",
       "      <th>day_public</th>\n",
       "      <th>month_public</th>\n",
       "      <th>year_public</th>\n",
       "    </tr>\n",
       "  </thead>\n",
       "  <tbody>\n",
       "    <tr>\n",
       "      <td>0</td>\n",
       "      <td>20</td>\n",
       "      <td>13000000.0</td>\n",
       "      <td>108.00</td>\n",
       "      <td>2019-03-07</td>\n",
       "      <td>3</td>\n",
       "      <td>2.70</td>\n",
       "      <td>16.0</td>\n",
       "      <td>51.0</td>\n",
       "      <td>8</td>\n",
       "      <td>NaN</td>\n",
       "      <td>False</td>\n",
       "      <td>False</td>\n",
       "      <td>25.00</td>\n",
       "      <td>0.0</td>\n",
       "      <td>Санкт-Петербург</td>\n",
       "      <td>18863.0</td>\n",
       "      <td>16028.0</td>\n",
       "      <td>1.0</td>\n",
       "      <td>482.0</td>\n",
       "      <td>2.0</td>\n",
       "      <td>755.0</td>\n",
       "      <td>NaN</td>\n",
       "      <td>120370.370370</td>\n",
       "      <td>3</td>\n",
       "      <td>3</td>\n",
       "      <td>2019</td>\n",
       "    </tr>\n",
       "    <tr>\n",
       "      <td>1</td>\n",
       "      <td>7</td>\n",
       "      <td>3350000.0</td>\n",
       "      <td>40.40</td>\n",
       "      <td>2018-12-04</td>\n",
       "      <td>1</td>\n",
       "      <td>NaN</td>\n",
       "      <td>11.0</td>\n",
       "      <td>18.6</td>\n",
       "      <td>1</td>\n",
       "      <td>NaN</td>\n",
       "      <td>False</td>\n",
       "      <td>False</td>\n",
       "      <td>11.00</td>\n",
       "      <td>2.0</td>\n",
       "      <td>посёлок Шушары</td>\n",
       "      <td>12817.0</td>\n",
       "      <td>18603.0</td>\n",
       "      <td>0.0</td>\n",
       "      <td>NaN</td>\n",
       "      <td>0.0</td>\n",
       "      <td>NaN</td>\n",
       "      <td>81.0</td>\n",
       "      <td>82920.792079</td>\n",
       "      <td>1</td>\n",
       "      <td>12</td>\n",
       "      <td>2018</td>\n",
       "    </tr>\n",
       "    <tr>\n",
       "      <td>2</td>\n",
       "      <td>10</td>\n",
       "      <td>5196000.0</td>\n",
       "      <td>56.00</td>\n",
       "      <td>2015-08-20</td>\n",
       "      <td>2</td>\n",
       "      <td>NaN</td>\n",
       "      <td>5.0</td>\n",
       "      <td>34.3</td>\n",
       "      <td>4</td>\n",
       "      <td>NaN</td>\n",
       "      <td>False</td>\n",
       "      <td>False</td>\n",
       "      <td>8.30</td>\n",
       "      <td>0.0</td>\n",
       "      <td>Санкт-Петербург</td>\n",
       "      <td>21741.0</td>\n",
       "      <td>13933.0</td>\n",
       "      <td>1.0</td>\n",
       "      <td>90.0</td>\n",
       "      <td>2.0</td>\n",
       "      <td>574.0</td>\n",
       "      <td>558.0</td>\n",
       "      <td>92785.714286</td>\n",
       "      <td>3</td>\n",
       "      <td>8</td>\n",
       "      <td>2015</td>\n",
       "    </tr>\n",
       "    <tr>\n",
       "      <td>3</td>\n",
       "      <td>0</td>\n",
       "      <td>64900000.0</td>\n",
       "      <td>159.00</td>\n",
       "      <td>2015-07-24</td>\n",
       "      <td>3</td>\n",
       "      <td>NaN</td>\n",
       "      <td>14.0</td>\n",
       "      <td>NaN</td>\n",
       "      <td>9</td>\n",
       "      <td>NaN</td>\n",
       "      <td>False</td>\n",
       "      <td>False</td>\n",
       "      <td>NaN</td>\n",
       "      <td>0.0</td>\n",
       "      <td>Санкт-Петербург</td>\n",
       "      <td>28098.0</td>\n",
       "      <td>6800.0</td>\n",
       "      <td>2.0</td>\n",
       "      <td>84.0</td>\n",
       "      <td>3.0</td>\n",
       "      <td>234.0</td>\n",
       "      <td>424.0</td>\n",
       "      <td>408176.100629</td>\n",
       "      <td>4</td>\n",
       "      <td>7</td>\n",
       "      <td>2015</td>\n",
       "    </tr>\n",
       "    <tr>\n",
       "      <td>4</td>\n",
       "      <td>2</td>\n",
       "      <td>10000000.0</td>\n",
       "      <td>100.00</td>\n",
       "      <td>2018-06-19</td>\n",
       "      <td>2</td>\n",
       "      <td>3.03</td>\n",
       "      <td>14.0</td>\n",
       "      <td>32.0</td>\n",
       "      <td>13</td>\n",
       "      <td>NaN</td>\n",
       "      <td>False</td>\n",
       "      <td>False</td>\n",
       "      <td>41.00</td>\n",
       "      <td>0.0</td>\n",
       "      <td>Санкт-Петербург</td>\n",
       "      <td>31856.0</td>\n",
       "      <td>8098.0</td>\n",
       "      <td>2.0</td>\n",
       "      <td>112.0</td>\n",
       "      <td>1.0</td>\n",
       "      <td>48.0</td>\n",
       "      <td>121.0</td>\n",
       "      <td>100000.000000</td>\n",
       "      <td>1</td>\n",
       "      <td>6</td>\n",
       "      <td>2018</td>\n",
       "    </tr>\n",
       "    <tr>\n",
       "      <td>...</td>\n",
       "      <td>...</td>\n",
       "      <td>...</td>\n",
       "      <td>...</td>\n",
       "      <td>...</td>\n",
       "      <td>...</td>\n",
       "      <td>...</td>\n",
       "      <td>...</td>\n",
       "      <td>...</td>\n",
       "      <td>...</td>\n",
       "      <td>...</td>\n",
       "      <td>...</td>\n",
       "      <td>...</td>\n",
       "      <td>...</td>\n",
       "      <td>...</td>\n",
       "      <td>...</td>\n",
       "      <td>...</td>\n",
       "      <td>...</td>\n",
       "      <td>...</td>\n",
       "      <td>...</td>\n",
       "      <td>...</td>\n",
       "      <td>...</td>\n",
       "      <td>...</td>\n",
       "      <td>...</td>\n",
       "      <td>...</td>\n",
       "      <td>...</td>\n",
       "      <td>...</td>\n",
       "    </tr>\n",
       "    <tr>\n",
       "      <td>23694</td>\n",
       "      <td>9</td>\n",
       "      <td>9700000.0</td>\n",
       "      <td>133.81</td>\n",
       "      <td>2017-03-21</td>\n",
       "      <td>3</td>\n",
       "      <td>3.70</td>\n",
       "      <td>5.0</td>\n",
       "      <td>73.3</td>\n",
       "      <td>3</td>\n",
       "      <td>NaN</td>\n",
       "      <td>False</td>\n",
       "      <td>False</td>\n",
       "      <td>13.83</td>\n",
       "      <td>0.0</td>\n",
       "      <td>Санкт-Петербург</td>\n",
       "      <td>24665.0</td>\n",
       "      <td>4232.0</td>\n",
       "      <td>1.0</td>\n",
       "      <td>796.0</td>\n",
       "      <td>3.0</td>\n",
       "      <td>381.0</td>\n",
       "      <td>NaN</td>\n",
       "      <td>72490.845228</td>\n",
       "      <td>1</td>\n",
       "      <td>3</td>\n",
       "      <td>2017</td>\n",
       "    </tr>\n",
       "    <tr>\n",
       "      <td>23695</td>\n",
       "      <td>14</td>\n",
       "      <td>3100000.0</td>\n",
       "      <td>59.00</td>\n",
       "      <td>2018-01-15</td>\n",
       "      <td>3</td>\n",
       "      <td>NaN</td>\n",
       "      <td>5.0</td>\n",
       "      <td>38.0</td>\n",
       "      <td>4</td>\n",
       "      <td>NaN</td>\n",
       "      <td>False</td>\n",
       "      <td>False</td>\n",
       "      <td>8.50</td>\n",
       "      <td>0.0</td>\n",
       "      <td>Тосно</td>\n",
       "      <td>NaN</td>\n",
       "      <td>NaN</td>\n",
       "      <td>NaN</td>\n",
       "      <td>NaN</td>\n",
       "      <td>NaN</td>\n",
       "      <td>NaN</td>\n",
       "      <td>45.0</td>\n",
       "      <td>52542.372881</td>\n",
       "      <td>0</td>\n",
       "      <td>1</td>\n",
       "      <td>2018</td>\n",
       "    </tr>\n",
       "    <tr>\n",
       "      <td>23696</td>\n",
       "      <td>18</td>\n",
       "      <td>2500000.0</td>\n",
       "      <td>56.70</td>\n",
       "      <td>2018-02-11</td>\n",
       "      <td>2</td>\n",
       "      <td>NaN</td>\n",
       "      <td>3.0</td>\n",
       "      <td>29.7</td>\n",
       "      <td>1</td>\n",
       "      <td>NaN</td>\n",
       "      <td>False</td>\n",
       "      <td>False</td>\n",
       "      <td>NaN</td>\n",
       "      <td>0.0</td>\n",
       "      <td>село Рождествено</td>\n",
       "      <td>NaN</td>\n",
       "      <td>NaN</td>\n",
       "      <td>NaN</td>\n",
       "      <td>NaN</td>\n",
       "      <td>NaN</td>\n",
       "      <td>NaN</td>\n",
       "      <td>NaN</td>\n",
       "      <td>44091.710758</td>\n",
       "      <td>6</td>\n",
       "      <td>2</td>\n",
       "      <td>2018</td>\n",
       "    </tr>\n",
       "    <tr>\n",
       "      <td>23697</td>\n",
       "      <td>13</td>\n",
       "      <td>11475000.0</td>\n",
       "      <td>76.75</td>\n",
       "      <td>2017-03-28</td>\n",
       "      <td>2</td>\n",
       "      <td>3.00</td>\n",
       "      <td>17.0</td>\n",
       "      <td>NaN</td>\n",
       "      <td>12</td>\n",
       "      <td>NaN</td>\n",
       "      <td>False</td>\n",
       "      <td>False</td>\n",
       "      <td>23.30</td>\n",
       "      <td>2.0</td>\n",
       "      <td>Санкт-Петербург</td>\n",
       "      <td>39140.0</td>\n",
       "      <td>10364.0</td>\n",
       "      <td>2.0</td>\n",
       "      <td>173.0</td>\n",
       "      <td>3.0</td>\n",
       "      <td>196.0</td>\n",
       "      <td>602.0</td>\n",
       "      <td>149511.400651</td>\n",
       "      <td>1</td>\n",
       "      <td>3</td>\n",
       "      <td>2017</td>\n",
       "    </tr>\n",
       "    <tr>\n",
       "      <td>23698</td>\n",
       "      <td>4</td>\n",
       "      <td>1350000.0</td>\n",
       "      <td>32.30</td>\n",
       "      <td>2017-07-21</td>\n",
       "      <td>1</td>\n",
       "      <td>2.50</td>\n",
       "      <td>5.0</td>\n",
       "      <td>12.3</td>\n",
       "      <td>1</td>\n",
       "      <td>NaN</td>\n",
       "      <td>False</td>\n",
       "      <td>False</td>\n",
       "      <td>9.00</td>\n",
       "      <td>0.0</td>\n",
       "      <td>поселок Новый Учхоз</td>\n",
       "      <td>NaN</td>\n",
       "      <td>NaN</td>\n",
       "      <td>NaN</td>\n",
       "      <td>NaN</td>\n",
       "      <td>NaN</td>\n",
       "      <td>NaN</td>\n",
       "      <td>NaN</td>\n",
       "      <td>41795.665635</td>\n",
       "      <td>4</td>\n",
       "      <td>7</td>\n",
       "      <td>2017</td>\n",
       "    </tr>\n",
       "  </tbody>\n",
       "</table>\n",
       "<p>23699 rows × 26 columns</p>\n",
       "</div>"
      ],
      "text/plain": [
       "       total_images  last_price  total_area first_day_exposition  rooms  \\\n",
       "0                20  13000000.0      108.00           2019-03-07      3   \n",
       "1                 7   3350000.0       40.40           2018-12-04      1   \n",
       "2                10   5196000.0       56.00           2015-08-20      2   \n",
       "3                 0  64900000.0      159.00           2015-07-24      3   \n",
       "4                 2  10000000.0      100.00           2018-06-19      2   \n",
       "...             ...         ...         ...                  ...    ...   \n",
       "23694             9   9700000.0      133.81           2017-03-21      3   \n",
       "23695            14   3100000.0       59.00           2018-01-15      3   \n",
       "23696            18   2500000.0       56.70           2018-02-11      2   \n",
       "23697            13  11475000.0       76.75           2017-03-28      2   \n",
       "23698             4   1350000.0       32.30           2017-07-21      1   \n",
       "\n",
       "       ceiling_height  floors_total  living_area  floor is_apartment  studio  \\\n",
       "0                2.70          16.0         51.0      8          NaN   False   \n",
       "1                 NaN          11.0         18.6      1          NaN   False   \n",
       "2                 NaN           5.0         34.3      4          NaN   False   \n",
       "3                 NaN          14.0          NaN      9          NaN   False   \n",
       "4                3.03          14.0         32.0     13          NaN   False   \n",
       "...               ...           ...          ...    ...          ...     ...   \n",
       "23694            3.70           5.0         73.3      3          NaN   False   \n",
       "23695             NaN           5.0         38.0      4          NaN   False   \n",
       "23696             NaN           3.0         29.7      1          NaN   False   \n",
       "23697            3.00          17.0          NaN     12          NaN   False   \n",
       "23698            2.50           5.0         12.3      1          NaN   False   \n",
       "\n",
       "       open_plan  kitchen_area  balcony        locality_name  \\\n",
       "0          False         25.00      0.0      Санкт-Петербург   \n",
       "1          False         11.00      2.0       посёлок Шушары   \n",
       "2          False          8.30      0.0      Санкт-Петербург   \n",
       "3          False           NaN      0.0      Санкт-Петербург   \n",
       "4          False         41.00      0.0      Санкт-Петербург   \n",
       "...          ...           ...      ...                  ...   \n",
       "23694      False         13.83      0.0      Санкт-Петербург   \n",
       "23695      False          8.50      0.0                Тосно   \n",
       "23696      False           NaN      0.0     село Рождествено   \n",
       "23697      False         23.30      2.0      Санкт-Петербург   \n",
       "23698      False          9.00      0.0  поселок Новый Учхоз   \n",
       "\n",
       "       airports_nearest  citycenters_nearest  parks_around3000  parks_nearest  \\\n",
       "0               18863.0              16028.0               1.0          482.0   \n",
       "1               12817.0              18603.0               0.0            NaN   \n",
       "2               21741.0              13933.0               1.0           90.0   \n",
       "3               28098.0               6800.0               2.0           84.0   \n",
       "4               31856.0               8098.0               2.0          112.0   \n",
       "...                 ...                  ...               ...            ...   \n",
       "23694           24665.0               4232.0               1.0          796.0   \n",
       "23695               NaN                  NaN               NaN            NaN   \n",
       "23696               NaN                  NaN               NaN            NaN   \n",
       "23697           39140.0              10364.0               2.0          173.0   \n",
       "23698               NaN                  NaN               NaN            NaN   \n",
       "\n",
       "       ponds_around3000  ponds_nearest  days_exposition    meter_price  \\\n",
       "0                   2.0          755.0              NaN  120370.370370   \n",
       "1                   0.0            NaN             81.0   82920.792079   \n",
       "2                   2.0          574.0            558.0   92785.714286   \n",
       "3                   3.0          234.0            424.0  408176.100629   \n",
       "4                   1.0           48.0            121.0  100000.000000   \n",
       "...                 ...            ...              ...            ...   \n",
       "23694               3.0          381.0              NaN   72490.845228   \n",
       "23695               NaN            NaN             45.0   52542.372881   \n",
       "23696               NaN            NaN              NaN   44091.710758   \n",
       "23697               3.0          196.0            602.0  149511.400651   \n",
       "23698               NaN            NaN              NaN   41795.665635   \n",
       "\n",
       "       day_public  month_public  year_public  \n",
       "0               3             3         2019  \n",
       "1               1            12         2018  \n",
       "2               3             8         2015  \n",
       "3               4             7         2015  \n",
       "4               1             6         2018  \n",
       "...           ...           ...          ...  \n",
       "23694           1             3         2017  \n",
       "23695           0             1         2018  \n",
       "23696           6             2         2018  \n",
       "23697           1             3         2017  \n",
       "23698           4             7         2017  \n",
       "\n",
       "[23699 rows x 26 columns]"
      ]
     },
     "execution_count": 17,
     "metadata": {},
     "output_type": "execute_result"
    }
   ],
   "source": [
    "df['day_public'] = pd.DatetimeIndex(df['first_day_exposition']).weekday  # Добавили день недели, месяц \n",
    "df['month_public'] = pd.DatetimeIndex(df['first_day_exposition']).month  #  и год публикации объявления\n",
    "df['year_public'] = pd.DatetimeIndex(df['first_day_exposition']).year\n",
    "df"
   ]
  },
  {
   "cell_type": "code",
   "execution_count": 18,
   "metadata": {},
   "outputs": [],
   "source": [
    "def flat_flor(row):                            # Добавляем столбец со значениями этажа\n",
    "    if row['floor'] == 1:\n",
    "        return \"первый\"\n",
    "    elif row['floor'] == row['floors_total']:\n",
    "        return 'последний'\n",
    "    elif not pd.isna(row['floors_total']):\n",
    "        return 'другой'\n",
    "    else:\n",
    "        return 'неизвестно'\n",
    "    \n",
    "df['flat_flor'] = df.apply(flat_flor, axis = 1)"
   ]
  },
  {
   "cell_type": "code",
   "execution_count": 19,
   "metadata": {},
   "outputs": [
    {
     "data": {
      "text/plain": [
       "другой        17363\n",
       "последний      3336\n",
       "первый         2917\n",
       "неизвестно       83\n",
       "Name: flat_flor, dtype: int64"
      ]
     },
     "execution_count": 19,
     "metadata": {},
     "output_type": "execute_result"
    }
   ],
   "source": [
    "df['flat_flor'].value_counts() # Проверка"
   ]
  },
  {
   "cell_type": "code",
   "execution_count": 20,
   "metadata": {},
   "outputs": [],
   "source": [
    "df['live_to_toal_area'] = df['living_area'] / df['total_area']       # Соотношение жилой и общей площади\n",
    "df['kitchen_to_total_area'] = df['kitchen_area'] / df['total_area']  # Соотнношение площади кухни к общей"
   ]
  },
  {
   "cell_type": "code",
   "execution_count": 21,
   "metadata": {},
   "outputs": [
    {
     "data": {
      "text/html": [
       "<div>\n",
       "<style scoped>\n",
       "    .dataframe tbody tr th:only-of-type {\n",
       "        vertical-align: middle;\n",
       "    }\n",
       "\n",
       "    .dataframe tbody tr th {\n",
       "        vertical-align: top;\n",
       "    }\n",
       "\n",
       "    .dataframe thead th {\n",
       "        text-align: right;\n",
       "    }\n",
       "</style>\n",
       "<table border=\"1\" class=\"dataframe\">\n",
       "  <thead>\n",
       "    <tr style=\"text-align: right;\">\n",
       "      <th></th>\n",
       "      <th>total_images</th>\n",
       "      <th>last_price</th>\n",
       "      <th>total_area</th>\n",
       "      <th>first_day_exposition</th>\n",
       "      <th>rooms</th>\n",
       "      <th>ceiling_height</th>\n",
       "      <th>floors_total</th>\n",
       "      <th>living_area</th>\n",
       "      <th>floor</th>\n",
       "      <th>is_apartment</th>\n",
       "      <th>studio</th>\n",
       "      <th>open_plan</th>\n",
       "      <th>kitchen_area</th>\n",
       "      <th>balcony</th>\n",
       "      <th>locality_name</th>\n",
       "      <th>airports_nearest</th>\n",
       "      <th>citycenters_nearest</th>\n",
       "      <th>parks_around3000</th>\n",
       "      <th>parks_nearest</th>\n",
       "      <th>ponds_around3000</th>\n",
       "      <th>ponds_nearest</th>\n",
       "      <th>days_exposition</th>\n",
       "      <th>meter_price</th>\n",
       "      <th>day_public</th>\n",
       "      <th>month_public</th>\n",
       "      <th>year_public</th>\n",
       "      <th>flat_flor</th>\n",
       "      <th>live_to_toal_area</th>\n",
       "      <th>kitchen_to_total_area</th>\n",
       "    </tr>\n",
       "  </thead>\n",
       "  <tbody>\n",
       "    <tr>\n",
       "      <td>0</td>\n",
       "      <td>20</td>\n",
       "      <td>13000000.0</td>\n",
       "      <td>108.00</td>\n",
       "      <td>2019-03-07</td>\n",
       "      <td>3</td>\n",
       "      <td>2.70</td>\n",
       "      <td>16.0</td>\n",
       "      <td>51.0</td>\n",
       "      <td>8</td>\n",
       "      <td>NaN</td>\n",
       "      <td>False</td>\n",
       "      <td>False</td>\n",
       "      <td>25.00</td>\n",
       "      <td>0.0</td>\n",
       "      <td>Санкт-Петербург</td>\n",
       "      <td>18863.0</td>\n",
       "      <td>16028.0</td>\n",
       "      <td>1.0</td>\n",
       "      <td>482.0</td>\n",
       "      <td>2.0</td>\n",
       "      <td>755.0</td>\n",
       "      <td>NaN</td>\n",
       "      <td>120370.370370</td>\n",
       "      <td>3</td>\n",
       "      <td>3</td>\n",
       "      <td>2019</td>\n",
       "      <td>другой</td>\n",
       "      <td>0.472222</td>\n",
       "      <td>0.231481</td>\n",
       "    </tr>\n",
       "    <tr>\n",
       "      <td>1</td>\n",
       "      <td>7</td>\n",
       "      <td>3350000.0</td>\n",
       "      <td>40.40</td>\n",
       "      <td>2018-12-04</td>\n",
       "      <td>1</td>\n",
       "      <td>NaN</td>\n",
       "      <td>11.0</td>\n",
       "      <td>18.6</td>\n",
       "      <td>1</td>\n",
       "      <td>NaN</td>\n",
       "      <td>False</td>\n",
       "      <td>False</td>\n",
       "      <td>11.00</td>\n",
       "      <td>2.0</td>\n",
       "      <td>посёлок Шушары</td>\n",
       "      <td>12817.0</td>\n",
       "      <td>18603.0</td>\n",
       "      <td>0.0</td>\n",
       "      <td>NaN</td>\n",
       "      <td>0.0</td>\n",
       "      <td>NaN</td>\n",
       "      <td>81.0</td>\n",
       "      <td>82920.792079</td>\n",
       "      <td>1</td>\n",
       "      <td>12</td>\n",
       "      <td>2018</td>\n",
       "      <td>первый</td>\n",
       "      <td>0.460396</td>\n",
       "      <td>0.272277</td>\n",
       "    </tr>\n",
       "    <tr>\n",
       "      <td>2</td>\n",
       "      <td>10</td>\n",
       "      <td>5196000.0</td>\n",
       "      <td>56.00</td>\n",
       "      <td>2015-08-20</td>\n",
       "      <td>2</td>\n",
       "      <td>NaN</td>\n",
       "      <td>5.0</td>\n",
       "      <td>34.3</td>\n",
       "      <td>4</td>\n",
       "      <td>NaN</td>\n",
       "      <td>False</td>\n",
       "      <td>False</td>\n",
       "      <td>8.30</td>\n",
       "      <td>0.0</td>\n",
       "      <td>Санкт-Петербург</td>\n",
       "      <td>21741.0</td>\n",
       "      <td>13933.0</td>\n",
       "      <td>1.0</td>\n",
       "      <td>90.0</td>\n",
       "      <td>2.0</td>\n",
       "      <td>574.0</td>\n",
       "      <td>558.0</td>\n",
       "      <td>92785.714286</td>\n",
       "      <td>3</td>\n",
       "      <td>8</td>\n",
       "      <td>2015</td>\n",
       "      <td>другой</td>\n",
       "      <td>0.612500</td>\n",
       "      <td>0.148214</td>\n",
       "    </tr>\n",
       "    <tr>\n",
       "      <td>3</td>\n",
       "      <td>0</td>\n",
       "      <td>64900000.0</td>\n",
       "      <td>159.00</td>\n",
       "      <td>2015-07-24</td>\n",
       "      <td>3</td>\n",
       "      <td>NaN</td>\n",
       "      <td>14.0</td>\n",
       "      <td>NaN</td>\n",
       "      <td>9</td>\n",
       "      <td>NaN</td>\n",
       "      <td>False</td>\n",
       "      <td>False</td>\n",
       "      <td>NaN</td>\n",
       "      <td>0.0</td>\n",
       "      <td>Санкт-Петербург</td>\n",
       "      <td>28098.0</td>\n",
       "      <td>6800.0</td>\n",
       "      <td>2.0</td>\n",
       "      <td>84.0</td>\n",
       "      <td>3.0</td>\n",
       "      <td>234.0</td>\n",
       "      <td>424.0</td>\n",
       "      <td>408176.100629</td>\n",
       "      <td>4</td>\n",
       "      <td>7</td>\n",
       "      <td>2015</td>\n",
       "      <td>другой</td>\n",
       "      <td>NaN</td>\n",
       "      <td>NaN</td>\n",
       "    </tr>\n",
       "    <tr>\n",
       "      <td>4</td>\n",
       "      <td>2</td>\n",
       "      <td>10000000.0</td>\n",
       "      <td>100.00</td>\n",
       "      <td>2018-06-19</td>\n",
       "      <td>2</td>\n",
       "      <td>3.03</td>\n",
       "      <td>14.0</td>\n",
       "      <td>32.0</td>\n",
       "      <td>13</td>\n",
       "      <td>NaN</td>\n",
       "      <td>False</td>\n",
       "      <td>False</td>\n",
       "      <td>41.00</td>\n",
       "      <td>0.0</td>\n",
       "      <td>Санкт-Петербург</td>\n",
       "      <td>31856.0</td>\n",
       "      <td>8098.0</td>\n",
       "      <td>2.0</td>\n",
       "      <td>112.0</td>\n",
       "      <td>1.0</td>\n",
       "      <td>48.0</td>\n",
       "      <td>121.0</td>\n",
       "      <td>100000.000000</td>\n",
       "      <td>1</td>\n",
       "      <td>6</td>\n",
       "      <td>2018</td>\n",
       "      <td>другой</td>\n",
       "      <td>0.320000</td>\n",
       "      <td>0.410000</td>\n",
       "    </tr>\n",
       "    <tr>\n",
       "      <td>...</td>\n",
       "      <td>...</td>\n",
       "      <td>...</td>\n",
       "      <td>...</td>\n",
       "      <td>...</td>\n",
       "      <td>...</td>\n",
       "      <td>...</td>\n",
       "      <td>...</td>\n",
       "      <td>...</td>\n",
       "      <td>...</td>\n",
       "      <td>...</td>\n",
       "      <td>...</td>\n",
       "      <td>...</td>\n",
       "      <td>...</td>\n",
       "      <td>...</td>\n",
       "      <td>...</td>\n",
       "      <td>...</td>\n",
       "      <td>...</td>\n",
       "      <td>...</td>\n",
       "      <td>...</td>\n",
       "      <td>...</td>\n",
       "      <td>...</td>\n",
       "      <td>...</td>\n",
       "      <td>...</td>\n",
       "      <td>...</td>\n",
       "      <td>...</td>\n",
       "      <td>...</td>\n",
       "      <td>...</td>\n",
       "      <td>...</td>\n",
       "      <td>...</td>\n",
       "    </tr>\n",
       "    <tr>\n",
       "      <td>23694</td>\n",
       "      <td>9</td>\n",
       "      <td>9700000.0</td>\n",
       "      <td>133.81</td>\n",
       "      <td>2017-03-21</td>\n",
       "      <td>3</td>\n",
       "      <td>3.70</td>\n",
       "      <td>5.0</td>\n",
       "      <td>73.3</td>\n",
       "      <td>3</td>\n",
       "      <td>NaN</td>\n",
       "      <td>False</td>\n",
       "      <td>False</td>\n",
       "      <td>13.83</td>\n",
       "      <td>0.0</td>\n",
       "      <td>Санкт-Петербург</td>\n",
       "      <td>24665.0</td>\n",
       "      <td>4232.0</td>\n",
       "      <td>1.0</td>\n",
       "      <td>796.0</td>\n",
       "      <td>3.0</td>\n",
       "      <td>381.0</td>\n",
       "      <td>NaN</td>\n",
       "      <td>72490.845228</td>\n",
       "      <td>1</td>\n",
       "      <td>3</td>\n",
       "      <td>2017</td>\n",
       "      <td>другой</td>\n",
       "      <td>0.547792</td>\n",
       "      <td>0.103356</td>\n",
       "    </tr>\n",
       "    <tr>\n",
       "      <td>23695</td>\n",
       "      <td>14</td>\n",
       "      <td>3100000.0</td>\n",
       "      <td>59.00</td>\n",
       "      <td>2018-01-15</td>\n",
       "      <td>3</td>\n",
       "      <td>NaN</td>\n",
       "      <td>5.0</td>\n",
       "      <td>38.0</td>\n",
       "      <td>4</td>\n",
       "      <td>NaN</td>\n",
       "      <td>False</td>\n",
       "      <td>False</td>\n",
       "      <td>8.50</td>\n",
       "      <td>0.0</td>\n",
       "      <td>Тосно</td>\n",
       "      <td>NaN</td>\n",
       "      <td>NaN</td>\n",
       "      <td>NaN</td>\n",
       "      <td>NaN</td>\n",
       "      <td>NaN</td>\n",
       "      <td>NaN</td>\n",
       "      <td>45.0</td>\n",
       "      <td>52542.372881</td>\n",
       "      <td>0</td>\n",
       "      <td>1</td>\n",
       "      <td>2018</td>\n",
       "      <td>другой</td>\n",
       "      <td>0.644068</td>\n",
       "      <td>0.144068</td>\n",
       "    </tr>\n",
       "    <tr>\n",
       "      <td>23696</td>\n",
       "      <td>18</td>\n",
       "      <td>2500000.0</td>\n",
       "      <td>56.70</td>\n",
       "      <td>2018-02-11</td>\n",
       "      <td>2</td>\n",
       "      <td>NaN</td>\n",
       "      <td>3.0</td>\n",
       "      <td>29.7</td>\n",
       "      <td>1</td>\n",
       "      <td>NaN</td>\n",
       "      <td>False</td>\n",
       "      <td>False</td>\n",
       "      <td>NaN</td>\n",
       "      <td>0.0</td>\n",
       "      <td>село Рождествено</td>\n",
       "      <td>NaN</td>\n",
       "      <td>NaN</td>\n",
       "      <td>NaN</td>\n",
       "      <td>NaN</td>\n",
       "      <td>NaN</td>\n",
       "      <td>NaN</td>\n",
       "      <td>NaN</td>\n",
       "      <td>44091.710758</td>\n",
       "      <td>6</td>\n",
       "      <td>2</td>\n",
       "      <td>2018</td>\n",
       "      <td>первый</td>\n",
       "      <td>0.523810</td>\n",
       "      <td>NaN</td>\n",
       "    </tr>\n",
       "    <tr>\n",
       "      <td>23697</td>\n",
       "      <td>13</td>\n",
       "      <td>11475000.0</td>\n",
       "      <td>76.75</td>\n",
       "      <td>2017-03-28</td>\n",
       "      <td>2</td>\n",
       "      <td>3.00</td>\n",
       "      <td>17.0</td>\n",
       "      <td>NaN</td>\n",
       "      <td>12</td>\n",
       "      <td>NaN</td>\n",
       "      <td>False</td>\n",
       "      <td>False</td>\n",
       "      <td>23.30</td>\n",
       "      <td>2.0</td>\n",
       "      <td>Санкт-Петербург</td>\n",
       "      <td>39140.0</td>\n",
       "      <td>10364.0</td>\n",
       "      <td>2.0</td>\n",
       "      <td>173.0</td>\n",
       "      <td>3.0</td>\n",
       "      <td>196.0</td>\n",
       "      <td>602.0</td>\n",
       "      <td>149511.400651</td>\n",
       "      <td>1</td>\n",
       "      <td>3</td>\n",
       "      <td>2017</td>\n",
       "      <td>другой</td>\n",
       "      <td>NaN</td>\n",
       "      <td>0.303583</td>\n",
       "    </tr>\n",
       "    <tr>\n",
       "      <td>23698</td>\n",
       "      <td>4</td>\n",
       "      <td>1350000.0</td>\n",
       "      <td>32.30</td>\n",
       "      <td>2017-07-21</td>\n",
       "      <td>1</td>\n",
       "      <td>2.50</td>\n",
       "      <td>5.0</td>\n",
       "      <td>12.3</td>\n",
       "      <td>1</td>\n",
       "      <td>NaN</td>\n",
       "      <td>False</td>\n",
       "      <td>False</td>\n",
       "      <td>9.00</td>\n",
       "      <td>0.0</td>\n",
       "      <td>поселок Новый Учхоз</td>\n",
       "      <td>NaN</td>\n",
       "      <td>NaN</td>\n",
       "      <td>NaN</td>\n",
       "      <td>NaN</td>\n",
       "      <td>NaN</td>\n",
       "      <td>NaN</td>\n",
       "      <td>NaN</td>\n",
       "      <td>41795.665635</td>\n",
       "      <td>4</td>\n",
       "      <td>7</td>\n",
       "      <td>2017</td>\n",
       "      <td>первый</td>\n",
       "      <td>0.380805</td>\n",
       "      <td>0.278638</td>\n",
       "    </tr>\n",
       "  </tbody>\n",
       "</table>\n",
       "<p>23699 rows × 29 columns</p>\n",
       "</div>"
      ],
      "text/plain": [
       "       total_images  last_price  total_area first_day_exposition  rooms  \\\n",
       "0                20  13000000.0      108.00           2019-03-07      3   \n",
       "1                 7   3350000.0       40.40           2018-12-04      1   \n",
       "2                10   5196000.0       56.00           2015-08-20      2   \n",
       "3                 0  64900000.0      159.00           2015-07-24      3   \n",
       "4                 2  10000000.0      100.00           2018-06-19      2   \n",
       "...             ...         ...         ...                  ...    ...   \n",
       "23694             9   9700000.0      133.81           2017-03-21      3   \n",
       "23695            14   3100000.0       59.00           2018-01-15      3   \n",
       "23696            18   2500000.0       56.70           2018-02-11      2   \n",
       "23697            13  11475000.0       76.75           2017-03-28      2   \n",
       "23698             4   1350000.0       32.30           2017-07-21      1   \n",
       "\n",
       "       ceiling_height  floors_total  living_area  floor is_apartment  studio  \\\n",
       "0                2.70          16.0         51.0      8          NaN   False   \n",
       "1                 NaN          11.0         18.6      1          NaN   False   \n",
       "2                 NaN           5.0         34.3      4          NaN   False   \n",
       "3                 NaN          14.0          NaN      9          NaN   False   \n",
       "4                3.03          14.0         32.0     13          NaN   False   \n",
       "...               ...           ...          ...    ...          ...     ...   \n",
       "23694            3.70           5.0         73.3      3          NaN   False   \n",
       "23695             NaN           5.0         38.0      4          NaN   False   \n",
       "23696             NaN           3.0         29.7      1          NaN   False   \n",
       "23697            3.00          17.0          NaN     12          NaN   False   \n",
       "23698            2.50           5.0         12.3      1          NaN   False   \n",
       "\n",
       "       open_plan  kitchen_area  balcony        locality_name  \\\n",
       "0          False         25.00      0.0      Санкт-Петербург   \n",
       "1          False         11.00      2.0       посёлок Шушары   \n",
       "2          False          8.30      0.0      Санкт-Петербург   \n",
       "3          False           NaN      0.0      Санкт-Петербург   \n",
       "4          False         41.00      0.0      Санкт-Петербург   \n",
       "...          ...           ...      ...                  ...   \n",
       "23694      False         13.83      0.0      Санкт-Петербург   \n",
       "23695      False          8.50      0.0                Тосно   \n",
       "23696      False           NaN      0.0     село Рождествено   \n",
       "23697      False         23.30      2.0      Санкт-Петербург   \n",
       "23698      False          9.00      0.0  поселок Новый Учхоз   \n",
       "\n",
       "       airports_nearest  citycenters_nearest  parks_around3000  parks_nearest  \\\n",
       "0               18863.0              16028.0               1.0          482.0   \n",
       "1               12817.0              18603.0               0.0            NaN   \n",
       "2               21741.0              13933.0               1.0           90.0   \n",
       "3               28098.0               6800.0               2.0           84.0   \n",
       "4               31856.0               8098.0               2.0          112.0   \n",
       "...                 ...                  ...               ...            ...   \n",
       "23694           24665.0               4232.0               1.0          796.0   \n",
       "23695               NaN                  NaN               NaN            NaN   \n",
       "23696               NaN                  NaN               NaN            NaN   \n",
       "23697           39140.0              10364.0               2.0          173.0   \n",
       "23698               NaN                  NaN               NaN            NaN   \n",
       "\n",
       "       ponds_around3000  ponds_nearest  days_exposition    meter_price  \\\n",
       "0                   2.0          755.0              NaN  120370.370370   \n",
       "1                   0.0            NaN             81.0   82920.792079   \n",
       "2                   2.0          574.0            558.0   92785.714286   \n",
       "3                   3.0          234.0            424.0  408176.100629   \n",
       "4                   1.0           48.0            121.0  100000.000000   \n",
       "...                 ...            ...              ...            ...   \n",
       "23694               3.0          381.0              NaN   72490.845228   \n",
       "23695               NaN            NaN             45.0   52542.372881   \n",
       "23696               NaN            NaN              NaN   44091.710758   \n",
       "23697               3.0          196.0            602.0  149511.400651   \n",
       "23698               NaN            NaN              NaN   41795.665635   \n",
       "\n",
       "       day_public  month_public  year_public flat_flor  live_to_toal_area  \\\n",
       "0               3             3         2019    другой           0.472222   \n",
       "1               1            12         2018    первый           0.460396   \n",
       "2               3             8         2015    другой           0.612500   \n",
       "3               4             7         2015    другой                NaN   \n",
       "4               1             6         2018    другой           0.320000   \n",
       "...           ...           ...          ...       ...                ...   \n",
       "23694           1             3         2017    другой           0.547792   \n",
       "23695           0             1         2018    другой           0.644068   \n",
       "23696           6             2         2018    первый           0.523810   \n",
       "23697           1             3         2017    другой                NaN   \n",
       "23698           4             7         2017    первый           0.380805   \n",
       "\n",
       "       kitchen_to_total_area  \n",
       "0                   0.231481  \n",
       "1                   0.272277  \n",
       "2                   0.148214  \n",
       "3                        NaN  \n",
       "4                   0.410000  \n",
       "...                      ...  \n",
       "23694               0.103356  \n",
       "23695               0.144068  \n",
       "23696                    NaN  \n",
       "23697               0.303583  \n",
       "23698               0.278638  \n",
       "\n",
       "[23699 rows x 29 columns]"
      ]
     },
     "execution_count": 21,
     "metadata": {},
     "output_type": "execute_result"
    }
   ],
   "source": [
    "df # Проверка"
   ]
  },
  {
   "cell_type": "markdown",
   "metadata": {},
   "source": [
    "Необходимые для анализа данные посчитанны и вставленны в исходную таблицу. Можно переходить к анализу"
   ]
  },
  {
   "cell_type": "markdown",
   "metadata": {},
   "source": [
    "### Шаг 4. Проведите исследовательский анализ данных и выполните инструкции:"
   ]
  },
  {
   "cell_type": "markdown",
   "metadata": {},
   "source": [
    "Наиболее важные характеристики на мой взгляд: \n",
    "    - locality_name — название населённого пункта\n",
    "    - is_apartment — апартаменты (булев тип)\n",
    "    - last_price — цена на момент снятия с публикации\n",
    "    - total_area — площадь квартиры в квадратных метрах (м²)\n",
    "    - citycenters_nearest — расстояние до центра города (м)\n",
    "    - ceiling_height — высота потолков (м)\n",
    "    - rooms — число комнат"
   ]
  },
  {
   "cell_type": "code",
   "execution_count": 22,
   "metadata": {},
   "outputs": [],
   "source": [
    "import matplotlib.pyplot as plt"
   ]
  },
  {
   "cell_type": "code",
   "execution_count": 23,
   "metadata": {},
   "outputs": [],
   "source": [
    "def visualization(column, range_min, range_max):\n",
    "    df.boxplot(column = column)\n",
    "    plt.show()\n",
    "    print(df[column].describe())\n",
    "    df[column].hist(bins=50)\n",
    "    plt.show()\n",
    "    df[column].hist(bins=30,range=(range_min, range_max))\n",
    "    plt.show()"
   ]
  },
  {
   "cell_type": "code",
   "execution_count": 24,
   "metadata": {},
   "outputs": [
    {
     "data": {
      "image/png": "[encoded data removed]",
      "text/plain": [
       "<Figure size 432x288 with 1 Axes>"
      ]
     },
     "metadata": {
      "needs_background": "light"
     },
     "output_type": "display_data"
    },
    {
     "name": "stdout",
     "output_type": "stream",
     "text": [
      "count    23699.000000\n",
      "mean        60.348651\n",
      "std         35.654083\n",
      "min         12.000000\n",
      "25%         40.000000\n",
      "50%         52.000000\n",
      "75%         69.900000\n",
      "max        900.000000\n",
      "Name: total_area, dtype: float64\n"
     ]
    },
    {
     "data": {
      "image/png": "[encoded data removed]",
      "text/plain": [
       "<Figure size 432x288 with 1 Axes>"
      ]
     },
     "metadata": {
      "needs_background": "light"
     },
     "output_type": "display_data"
    },
    {
     "data": {
      "image/png": "[encoded data removed]",
      "text/plain": [
       "<Figure size 432x288 with 1 Axes>"
      ]
     },
     "metadata": {
      "needs_background": "light"
     },
     "output_type": "display_data"
    }
   ],
   "source": [
    "visualization('total_area', 0, 100)"
   ]
  },
  {
   "cell_type": "code",
   "execution_count": 25,
   "metadata": {},
   "outputs": [],
   "source": [
    "import numpy as np # Нашел такой вариант для выделения квантилей и границ нормальных значений."
   ]
  },
  {
   "cell_type": "code",
   "execution_count": 26,
   "metadata": {},
   "outputs": [
    {
     "data": {
      "text/plain": [
       "29.900000000000006"
      ]
     },
     "execution_count": 26,
     "metadata": {},
     "output_type": "execute_result"
    }
   ],
   "source": [
    "Q1_total_area = np.percentile(df['total_area'], 25, interpolation = 'midpoint')\n",
    "Q3_total_area = np.percentile(df['total_area'], 75, interpolation = 'midpoint')\n",
    "IQR_total_area = Q3_total_area - Q1_total_area\n",
    "IQR_total_area"
   ]
  },
  {
   "cell_type": "code",
   "execution_count": 27,
   "metadata": {},
   "outputs": [
    {
     "name": "stdout",
     "output_type": "stream",
     "text": [
      "10.099999999999994\n",
      "99.80000000000001\n"
     ]
    }
   ],
   "source": [
    "min_norm_total_area = Q1_total_area - IQR_total_area\n",
    "max_norm_total_area = Q3_total_area + IQR_total_area\n",
    "print(min_norm_total_area)\n",
    "print(max_norm_total_area)"
   ]
  },
  {
   "cell_type": "markdown",
   "metadata": {},
   "source": [
    "Типичная площадь квартир в выборке 30 - 70 м². Большое стандартное отклонение, следовательно разброс значений большой (в нашем случае есть несколько квартир сильно отличающихся по площади от стандарта)."
   ]
  },
  {
   "cell_type": "code",
   "execution_count": 28,
   "metadata": {},
   "outputs": [
    {
     "data": {
      "image/png": "[encoded data removed]",
      "text/plain": [
       "<Figure size 432x288 with 1 Axes>"
      ]
     },
     "metadata": {
      "needs_background": "light"
     },
     "output_type": "display_data"
    },
    {
     "name": "stdout",
     "output_type": "stream",
     "text": [
      "count    2.369900e+04\n",
      "mean     6.541549e+06\n",
      "std      1.088701e+07\n",
      "min      1.219000e+04\n",
      "25%      3.400000e+06\n",
      "50%      4.650000e+06\n",
      "75%      6.800000e+06\n",
      "max      7.630000e+08\n",
      "Name: last_price, dtype: float64\n"
     ]
    },
    {
     "data": {
      "image/png": "[encoded data removed]",
      "text/plain": [
       "<Figure size 432x288 with 1 Axes>"
      ]
     },
     "metadata": {
      "needs_background": "light"
     },
     "output_type": "display_data"
    },
    {
     "data": {
      "image/png": "[encoded data removed]",
      "text/plain": [
       "<Figure size 432x288 with 1 Axes>"
      ]
     },
     "metadata": {
      "needs_background": "light"
     },
     "output_type": "display_data"
    }
   ],
   "source": [
    "visualization('last_price', 1e+07, 1e+08) "
   ]
  },
  {
   "cell_type": "code",
   "execution_count": 29,
   "metadata": {},
   "outputs": [
    {
     "data": {
      "text/plain": [
       "3400000.0"
      ]
     },
     "execution_count": 29,
     "metadata": {},
     "output_type": "execute_result"
    }
   ],
   "source": [
    "Q1_last_price = np.percentile(df['last_price'], 25, interpolation = 'midpoint')\n",
    "Q3_last_price = np.percentile(df['last_price'], 75, interpolation = 'midpoint')\n",
    "IQR_last_price = Q3_last_price - Q1_last_price\n",
    "IQR_last_price"
   ]
  },
  {
   "cell_type": "code",
   "execution_count": 30,
   "metadata": {},
   "outputs": [
    {
     "name": "stdout",
     "output_type": "stream",
     "text": [
      "0.0\n",
      "10200000.0\n"
     ]
    }
   ],
   "source": [
    "min_norm_last_price = Q1_last_price - IQR_last_price\n",
    "max_norm_last_price = Q3_last_price + IQR_last_price\n",
    "print(min_norm_last_price)\n",
    "print(max_norm_last_price)"
   ]
  },
  {
   "cell_type": "markdown",
   "metadata": {},
   "source": [
    "Типичная цена квартир в выборке 3,5 - 6,8 млн. Большое стандартное отклонение, следовательно разброс значений большой (в нашем случае есть несколько квартир сильно отличающихся по площади от стандарта)."
   ]
  },
  {
   "cell_type": "code",
   "execution_count": 31,
   "metadata": {},
   "outputs": [
    {
     "data": {
      "image/png": "[encoded data removed]",
      "text/plain": [
       "<Figure size 432x288 with 1 Axes>"
      ]
     },
     "metadata": {
      "needs_background": "light"
     },
     "output_type": "display_data"
    },
    {
     "name": "stdout",
     "output_type": "stream",
     "text": [
      "count    14504.000000\n",
      "mean         2.771499\n",
      "std          1.261056\n",
      "min          1.000000\n",
      "25%          2.520000\n",
      "50%          2.650000\n",
      "75%          2.800000\n",
      "max        100.000000\n",
      "Name: ceiling_height, dtype: float64\n"
     ]
    },
    {
     "data": {
      "image/png": "[encoded data removed]",
      "text/plain": [
       "<Figure size 432x288 with 1 Axes>"
      ]
     },
     "metadata": {
      "needs_background": "light"
     },
     "output_type": "display_data"
    },
    {
     "data": {
      "image/png": "[encoded data removed]",
      "text/plain": [
       "<Figure size 432x288 with 1 Axes>"
      ]
     },
     "metadata": {
      "needs_background": "light"
     },
     "output_type": "display_data"
    }
   ],
   "source": [
    "visualization('ceiling_height', 0, 5)"
   ]
  },
  {
   "cell_type": "markdown",
   "metadata": {},
   "source": [
    "2.5-2.8 м. - типичные значения высоты потолков. "
   ]
  },
  {
   "cell_type": "code",
   "execution_count": 32,
   "metadata": {},
   "outputs": [
    {
     "data": {
      "image/png": "[encoded data removed]",
      "text/plain": [
       "<Figure size 432x288 with 1 Axes>"
      ]
     },
     "metadata": {
      "needs_background": "light"
     },
     "output_type": "display_data"
    },
    {
     "name": "stdout",
     "output_type": "stream",
     "text": [
      "count    23699.000000\n",
      "mean         2.070636\n",
      "std          1.078405\n",
      "min          0.000000\n",
      "25%          1.000000\n",
      "50%          2.000000\n",
      "75%          3.000000\n",
      "max         19.000000\n",
      "Name: rooms, dtype: float64\n"
     ]
    },
    {
     "data": {
      "image/png": "[encoded data removed]",
      "text/plain": [
       "<Figure size 432x288 with 1 Axes>"
      ]
     },
     "metadata": {
      "needs_background": "light"
     },
     "output_type": "display_data"
    },
    {
     "data": {
      "image/png": "[encoded data removed]",
      "text/plain": [
       "<Figure size 432x288 with 1 Axes>"
      ]
     },
     "metadata": {
      "needs_background": "light"
     },
     "output_type": "display_data"
    }
   ],
   "source": [
    "visualization('rooms', 0, 5)"
   ]
  },
  {
   "cell_type": "code",
   "execution_count": 33,
   "metadata": {},
   "outputs": [
    {
     "data": {
      "text/plain": [
       "1     8244\n",
       "2     7940\n",
       "3     5814\n",
       "4     1180\n",
       "5      326\n",
       "6      105\n",
       "7       59\n",
       "8       12\n",
       "9        8\n",
       "10       3\n",
       "14       2\n",
       "11       2\n",
       "15       1\n",
       "12       1\n",
       "19       1\n",
       "16       1\n",
       "Name: rooms, dtype: int64"
      ]
     },
     "metadata": {},
     "output_type": "display_data"
    },
    {
     "data": {
      "image/png": "[encoded data removed]",
      "text/plain": [
       "<Figure size 432x288 with 1 Axes>"
      ]
     },
     "metadata": {
      "needs_background": "light"
     },
     "output_type": "display_data"
    }
   ],
   "source": [
    "df['rooms'].hist(bins=30)\n",
    "df['rooms'] = df['rooms'].replace(0, 1)\n",
    "df['rooms'].describe()\n",
    "display(df['rooms'].value_counts())"
   ]
  },
  {
   "cell_type": "markdown",
   "metadata": {},
   "source": [
    "Подавляющее большинство квартир продается с числом комнт 1-3."
   ]
  },
  {
   "cell_type": "code",
   "execution_count": 34,
   "metadata": {},
   "outputs": [
    {
     "data": {
      "image/png": "[encoded data removed]",
      "text/plain": [
       "<Figure size 432x288 with 1 Axes>"
      ]
     },
     "metadata": {
      "needs_background": "light"
     },
     "output_type": "display_data"
    },
    {
     "name": "stdout",
     "output_type": "stream",
     "text": [
      "count    20518.000000\n",
      "mean       180.888634\n",
      "std        219.727988\n",
      "min          1.000000\n",
      "25%         45.000000\n",
      "50%         95.000000\n",
      "75%        232.000000\n",
      "max       1580.000000\n",
      "Name: days_exposition, dtype: float64\n"
     ]
    },
    {
     "data": {
      "image/png": "[encoded data removed]",
      "text/plain": [
       "<Figure size 432x288 with 1 Axes>"
      ]
     },
     "metadata": {
      "needs_background": "light"
     },
     "output_type": "display_data"
    },
    {
     "data": {
      "image/png": "[encoded data removed]",
      "text/plain": [
       "<Figure size 432x288 with 1 Axes>"
      ]
     },
     "metadata": {
      "needs_background": "light"
     },
     "output_type": "display_data"
    }
   ],
   "source": [
    "visualization('days_exposition', 0, 400)"
   ]
  },
  {
   "cell_type": "markdown",
   "metadata": {},
   "source": [
    "Процесс типичной продажи из выборки длится 25 - 200 дней. Продажа прошла быстро если заняла менее 45 дней. Необычно долгая продажа это более 250 дней. "
   ]
  },
  {
   "cell_type": "code",
   "execution_count": 35,
   "metadata": {},
   "outputs": [
    {
     "name": "stdout",
     "output_type": "stream",
     "text": [
      "<class 'pandas.core.frame.DataFrame'>\n",
      "Int64Index: 20703 entries, 1 to 23698\n",
      "Data columns (total 29 columns):\n",
      "total_images             20703 non-null int64\n",
      "last_price               20703 non-null float64\n",
      "total_area               20703 non-null float64\n",
      "first_day_exposition     20703 non-null datetime64[ns]\n",
      "rooms                    20703 non-null int64\n",
      "ceiling_height           12469 non-null float64\n",
      "floors_total             20634 non-null float64\n",
      "living_area              19098 non-null float64\n",
      "floor                    20703 non-null int64\n",
      "is_apartment             2400 non-null object\n",
      "studio                   20703 non-null bool\n",
      "open_plan                20703 non-null bool\n",
      "kitchen_area             18707 non-null float64\n",
      "balcony                  20703 non-null float64\n",
      "locality_name            20663 non-null object\n",
      "airports_nearest         15274 non-null float64\n",
      "citycenters_nearest      15286 non-null float64\n",
      "parks_around3000         15286 non-null float64\n",
      "parks_nearest            6246 non-null float64\n",
      "ponds_around3000         15286 non-null float64\n",
      "ponds_nearest            7256 non-null float64\n",
      "days_exposition          18252 non-null float64\n",
      "meter_price              20703 non-null float64\n",
      "day_public               20703 non-null int64\n",
      "month_public             20703 non-null int64\n",
      "year_public              20703 non-null int64\n",
      "flat_flor                20703 non-null object\n",
      "live_to_toal_area        19098 non-null float64\n",
      "kitchen_to_total_area    18707 non-null float64\n",
      "dtypes: bool(2), datetime64[ns](1), float64(17), int64(6), object(3)\n",
      "memory usage: 4.5+ MB\n"
     ]
    }
   ],
   "source": [
    "df= df.query('last_price <= @max_norm_last_price and total_area <= @max_norm_total_area') # Убрали квартиры с очень большой ценой и площадью\n",
    "df.info()"
   ]
  },
  {
   "cell_type": "code",
   "execution_count": 36,
   "metadata": {},
   "outputs": [
    {
     "data": {
      "text/plain": [
       "0.8735811637621841"
      ]
     },
     "execution_count": 36,
     "metadata": {},
     "output_type": "execute_result"
    }
   ],
   "source": [
    "### Код ревьювера ###\n",
    "\n",
    "len(df) / 23699"
   ]
  },
  {
   "cell_type": "code",
   "execution_count": 37,
   "metadata": {},
   "outputs": [
    {
     "data": {
      "text/html": [
       "<style  type=\"text/css\" >\n",
       "    #T_c5b5f648_cad9_11ea_820c_02420a3916e1row0_col0 {\n",
       "            background-color:  #00441b;\n",
       "            color:  #f1f1f1;\n",
       "        }    #T_c5b5f648_cad9_11ea_820c_02420a3916e1row1_col0 {\n",
       "            background-color:  #258d47;\n",
       "            color:  #000000;\n",
       "        }    #T_c5b5f648_cad9_11ea_820c_02420a3916e1row2_col0 {\n",
       "            background-color:  #29914a;\n",
       "            color:  #000000;\n",
       "        }    #T_c5b5f648_cad9_11ea_820c_02420a3916e1row3_col0 {\n",
       "            background-color:  #3da65a;\n",
       "            color:  #000000;\n",
       "        }    #T_c5b5f648_cad9_11ea_820c_02420a3916e1row4_col0 {\n",
       "            background-color:  #55b567;\n",
       "            color:  #000000;\n",
       "        }    #T_c5b5f648_cad9_11ea_820c_02420a3916e1row5_col0 {\n",
       "            background-color:  #5eb96b;\n",
       "            color:  #000000;\n",
       "        }    #T_c5b5f648_cad9_11ea_820c_02420a3916e1row6_col0 {\n",
       "            background-color:  #94d390;\n",
       "            color:  #000000;\n",
       "        }    #T_c5b5f648_cad9_11ea_820c_02420a3916e1row7_col0 {\n",
       "            background-color:  #a2d99c;\n",
       "            color:  #000000;\n",
       "        }    #T_c5b5f648_cad9_11ea_820c_02420a3916e1row8_col0 {\n",
       "            background-color:  #a5db9f;\n",
       "            color:  #000000;\n",
       "        }    #T_c5b5f648_cad9_11ea_820c_02420a3916e1row9_col0 {\n",
       "            background-color:  #acdea6;\n",
       "            color:  #000000;\n",
       "        }    #T_c5b5f648_cad9_11ea_820c_02420a3916e1row10_col0 {\n",
       "            background-color:  #b2e0ac;\n",
       "            color:  #000000;\n",
       "        }    #T_c5b5f648_cad9_11ea_820c_02420a3916e1row11_col0 {\n",
       "            background-color:  #b5e1ae;\n",
       "            color:  #000000;\n",
       "        }    #T_c5b5f648_cad9_11ea_820c_02420a3916e1row12_col0 {\n",
       "            background-color:  #b7e2b1;\n",
       "            color:  #000000;\n",
       "        }    #T_c5b5f648_cad9_11ea_820c_02420a3916e1row13_col0 {\n",
       "            background-color:  #bbe4b4;\n",
       "            color:  #000000;\n",
       "        }    #T_c5b5f648_cad9_11ea_820c_02420a3916e1row14_col0 {\n",
       "            background-color:  #bee5b8;\n",
       "            color:  #000000;\n",
       "        }    #T_c5b5f648_cad9_11ea_820c_02420a3916e1row15_col0 {\n",
       "            background-color:  #c3e7bc;\n",
       "            color:  #000000;\n",
       "        }    #T_c5b5f648_cad9_11ea_820c_02420a3916e1row16_col0 {\n",
       "            background-color:  #c4e8bd;\n",
       "            color:  #000000;\n",
       "        }    #T_c5b5f648_cad9_11ea_820c_02420a3916e1row17_col0 {\n",
       "            background-color:  #c8e9c1;\n",
       "            color:  #000000;\n",
       "        }    #T_c5b5f648_cad9_11ea_820c_02420a3916e1row18_col0 {\n",
       "            background-color:  #c9eac2;\n",
       "            color:  #000000;\n",
       "        }    #T_c5b5f648_cad9_11ea_820c_02420a3916e1row19_col0 {\n",
       "            background-color:  #ccebc6;\n",
       "            color:  #000000;\n",
       "        }    #T_c5b5f648_cad9_11ea_820c_02420a3916e1row20_col0 {\n",
       "            background-color:  #ceecc8;\n",
       "            color:  #000000;\n",
       "        }    #T_c5b5f648_cad9_11ea_820c_02420a3916e1row21_col0 {\n",
       "            background-color:  #d0edca;\n",
       "            color:  #000000;\n",
       "        }    #T_c5b5f648_cad9_11ea_820c_02420a3916e1row22_col0 {\n",
       "            background-color:  #d4eece;\n",
       "            color:  #000000;\n",
       "        }    #T_c5b5f648_cad9_11ea_820c_02420a3916e1row23_col0 {\n",
       "            background-color:  #daf0d4;\n",
       "            color:  #000000;\n",
       "        }    #T_c5b5f648_cad9_11ea_820c_02420a3916e1row24_col0 {\n",
       "            background-color:  #f7fcf5;\n",
       "            color:  #000000;\n",
       "        }</style><table id=\"T_c5b5f648_cad9_11ea_820c_02420a3916e1\" ><thead>    <tr>        <th class=\"blank level0\" ></th>        <th class=\"col_heading level0 col0\" >last_price</th>    </tr></thead><tbody>\n",
       "                <tr>\n",
       "                        <th id=\"T_c5b5f648_cad9_11ea_820c_02420a3916e1level0_row0\" class=\"row_heading level0 row0\" >last_price</th>\n",
       "                        <td id=\"T_c5b5f648_cad9_11ea_820c_02420a3916e1row0_col0\" class=\"data row0 col0\" >1</td>\n",
       "            </tr>\n",
       "            <tr>\n",
       "                        <th id=\"T_c5b5f648_cad9_11ea_820c_02420a3916e1level0_row1\" class=\"row_heading level0 row1\" >total_area</th>\n",
       "                        <td id=\"T_c5b5f648_cad9_11ea_820c_02420a3916e1row1_col0\" class=\"data row1 col0\" >0.65598</td>\n",
       "            </tr>\n",
       "            <tr>\n",
       "                        <th id=\"T_c5b5f648_cad9_11ea_820c_02420a3916e1level0_row2\" class=\"row_heading level0 row2\" >meter_price</th>\n",
       "                        <td id=\"T_c5b5f648_cad9_11ea_820c_02420a3916e1row2_col0\" class=\"data row2 col0\" >0.631631</td>\n",
       "            </tr>\n",
       "            <tr>\n",
       "                        <th id=\"T_c5b5f648_cad9_11ea_820c_02420a3916e1level0_row3\" class=\"row_heading level0 row3\" >living_area</th>\n",
       "                        <td id=\"T_c5b5f648_cad9_11ea_820c_02420a3916e1row3_col0\" class=\"data row3 col0\" >0.523428</td>\n",
       "            </tr>\n",
       "            <tr>\n",
       "                        <th id=\"T_c5b5f648_cad9_11ea_820c_02420a3916e1level0_row4\" class=\"row_heading level0 row4\" >kitchen_area</th>\n",
       "                        <td id=\"T_c5b5f648_cad9_11ea_820c_02420a3916e1row4_col0\" class=\"data row4 col0\" >0.435829</td>\n",
       "            </tr>\n",
       "            <tr>\n",
       "                        <th id=\"T_c5b5f648_cad9_11ea_820c_02420a3916e1level0_row5\" class=\"row_heading level0 row5\" >rooms</th>\n",
       "                        <td id=\"T_c5b5f648_cad9_11ea_820c_02420a3916e1row5_col0\" class=\"data row5 col0\" >0.402037</td>\n",
       "            </tr>\n",
       "            <tr>\n",
       "                        <th id=\"T_c5b5f648_cad9_11ea_820c_02420a3916e1level0_row6\" class=\"row_heading level0 row6\" >floors_total</th>\n",
       "                        <td id=\"T_c5b5f648_cad9_11ea_820c_02420a3916e1row6_col0\" class=\"data row6 col0\" >0.218036</td>\n",
       "            </tr>\n",
       "            <tr>\n",
       "                        <th id=\"T_c5b5f648_cad9_11ea_820c_02420a3916e1level0_row7\" class=\"row_heading level0 row7\" >total_images</th>\n",
       "                        <td id=\"T_c5b5f648_cad9_11ea_820c_02420a3916e1row7_col0\" class=\"data row7 col0\" >0.16299</td>\n",
       "            </tr>\n",
       "            <tr>\n",
       "                        <th id=\"T_c5b5f648_cad9_11ea_820c_02420a3916e1level0_row8\" class=\"row_heading level0 row8\" >floor</th>\n",
       "                        <td id=\"T_c5b5f648_cad9_11ea_820c_02420a3916e1row8_col0\" class=\"data row8 col0\" >0.147602</td>\n",
       "            </tr>\n",
       "            <tr>\n",
       "                        <th id=\"T_c5b5f648_cad9_11ea_820c_02420a3916e1level0_row9\" class=\"row_heading level0 row9\" >ponds_around3000</th>\n",
       "                        <td id=\"T_c5b5f648_cad9_11ea_820c_02420a3916e1row9_col0\" class=\"data row9 col0\" >0.115906</td>\n",
       "            </tr>\n",
       "            <tr>\n",
       "                        <th id=\"T_c5b5f648_cad9_11ea_820c_02420a3916e1level0_row10\" class=\"row_heading level0 row10\" >parks_around3000</th>\n",
       "                        <td id=\"T_c5b5f648_cad9_11ea_820c_02420a3916e1row10_col0\" class=\"data row10 col0\" >0.0929928</td>\n",
       "            </tr>\n",
       "            <tr>\n",
       "                        <th id=\"T_c5b5f648_cad9_11ea_820c_02420a3916e1level0_row11\" class=\"row_heading level0 row11\" >ceiling_height</th>\n",
       "                        <td id=\"T_c5b5f648_cad9_11ea_820c_02420a3916e1row11_col0\" class=\"data row11 col0\" >0.0799979</td>\n",
       "            </tr>\n",
       "            <tr>\n",
       "                        <th id=\"T_c5b5f648_cad9_11ea_820c_02420a3916e1level0_row12\" class=\"row_heading level0 row12\" >balcony</th>\n",
       "                        <td id=\"T_c5b5f648_cad9_11ea_820c_02420a3916e1row12_col0\" class=\"data row12 col0\" >0.0689101</td>\n",
       "            </tr>\n",
       "            <tr>\n",
       "                        <th id=\"T_c5b5f648_cad9_11ea_820c_02420a3916e1level0_row13\" class=\"row_heading level0 row13\" >days_exposition</th>\n",
       "                        <td id=\"T_c5b5f648_cad9_11ea_820c_02420a3916e1row13_col0\" class=\"data row13 col0\" >0.0533411</td>\n",
       "            </tr>\n",
       "            <tr>\n",
       "                        <th id=\"T_c5b5f648_cad9_11ea_820c_02420a3916e1level0_row14\" class=\"row_heading level0 row14\" >parks_nearest</th>\n",
       "                        <td id=\"T_c5b5f648_cad9_11ea_820c_02420a3916e1row14_col0\" class=\"data row14 col0\" >0.037186</td>\n",
       "            </tr>\n",
       "            <tr>\n",
       "                        <th id=\"T_c5b5f648_cad9_11ea_820c_02420a3916e1level0_row15\" class=\"row_heading level0 row15\" >year_public</th>\n",
       "                        <td id=\"T_c5b5f648_cad9_11ea_820c_02420a3916e1row15_col0\" class=\"data row15 col0\" >0.0160409</td>\n",
       "            </tr>\n",
       "            <tr>\n",
       "                        <th id=\"T_c5b5f648_cad9_11ea_820c_02420a3916e1level0_row16\" class=\"row_heading level0 row16\" >live_to_toal_area</th>\n",
       "                        <td id=\"T_c5b5f648_cad9_11ea_820c_02420a3916e1row16_col0\" class=\"data row16 col0\" >0.0135759</td>\n",
       "            </tr>\n",
       "            <tr>\n",
       "                        <th id=\"T_c5b5f648_cad9_11ea_820c_02420a3916e1level0_row17\" class=\"row_heading level0 row17\" >month_public</th>\n",
       "                        <td id=\"T_c5b5f648_cad9_11ea_820c_02420a3916e1row17_col0\" class=\"data row17 col0\" >-0.000802663</td>\n",
       "            </tr>\n",
       "            <tr>\n",
       "                        <th id=\"T_c5b5f648_cad9_11ea_820c_02420a3916e1level0_row18\" class=\"row_heading level0 row18\" >day_public</th>\n",
       "                        <td id=\"T_c5b5f648_cad9_11ea_820c_02420a3916e1row18_col0\" class=\"data row18 col0\" >-0.00958094</td>\n",
       "            </tr>\n",
       "            <tr>\n",
       "                        <th id=\"T_c5b5f648_cad9_11ea_820c_02420a3916e1level0_row19\" class=\"row_heading level0 row19\" >airports_nearest</th>\n",
       "                        <td id=\"T_c5b5f648_cad9_11ea_820c_02420a3916e1row19_col0\" class=\"data row19 col0\" >-0.0283835</td>\n",
       "            </tr>\n",
       "            <tr>\n",
       "                        <th id=\"T_c5b5f648_cad9_11ea_820c_02420a3916e1level0_row20\" class=\"row_heading level0 row20\" >ponds_nearest</th>\n",
       "                        <td id=\"T_c5b5f648_cad9_11ea_820c_02420a3916e1row20_col0\" class=\"data row20 col0\" >-0.0373704</td>\n",
       "            </tr>\n",
       "            <tr>\n",
       "                        <th id=\"T_c5b5f648_cad9_11ea_820c_02420a3916e1level0_row21\" class=\"row_heading level0 row21\" >open_plan</th>\n",
       "                        <td id=\"T_c5b5f648_cad9_11ea_820c_02420a3916e1row21_col0\" class=\"data row21 col0\" >-0.0489536</td>\n",
       "            </tr>\n",
       "            <tr>\n",
       "                        <th id=\"T_c5b5f648_cad9_11ea_820c_02420a3916e1level0_row22\" class=\"row_heading level0 row22\" >studio</th>\n",
       "                        <td id=\"T_c5b5f648_cad9_11ea_820c_02420a3916e1row22_col0\" class=\"data row22 col0\" >-0.0712834</td>\n",
       "            </tr>\n",
       "            <tr>\n",
       "                        <th id=\"T_c5b5f648_cad9_11ea_820c_02420a3916e1level0_row23\" class=\"row_heading level0 row23\" >kitchen_to_total_area</th>\n",
       "                        <td id=\"T_c5b5f648_cad9_11ea_820c_02420a3916e1row23_col0\" class=\"data row23 col0\" >-0.100185</td>\n",
       "            </tr>\n",
       "            <tr>\n",
       "                        <th id=\"T_c5b5f648_cad9_11ea_820c_02420a3916e1level0_row24\" class=\"row_heading level0 row24\" >citycenters_nearest</th>\n",
       "                        <td id=\"T_c5b5f648_cad9_11ea_820c_02420a3916e1row24_col0\" class=\"data row24 col0\" >-0.333723</td>\n",
       "            </tr>\n",
       "    </tbody></table>"
      ],
      "text/plain": [
       "<pandas.io.formats.style.Styler at 0x7ff354cbb550>"
      ]
     },
     "metadata": {},
     "output_type": "display_data"
    },
    {
     "name": "stdout",
     "output_type": "stream",
     "text": [
      "\n"
     ]
    },
    {
     "data": {
      "text/html": [
       "<style  type=\"text/css\" >\n",
       "    #T_c5c92768_cad9_11ea_820c_02420a3916e1row0_col0 {\n",
       "            background-color:  #00441b;\n",
       "            color:  #f1f1f1;\n",
       "        }    #T_c5c92768_cad9_11ea_820c_02420a3916e1row1_col0 {\n",
       "            background-color:  #268e47;\n",
       "            color:  #000000;\n",
       "        }    #T_c5c92768_cad9_11ea_820c_02420a3916e1row2_col0 {\n",
       "            background-color:  #65bd6f;\n",
       "            color:  #000000;\n",
       "        }    #T_c5c92768_cad9_11ea_820c_02420a3916e1row3_col0 {\n",
       "            background-color:  #70c274;\n",
       "            color:  #000000;\n",
       "        }    #T_c5c92768_cad9_11ea_820c_02420a3916e1row4_col0 {\n",
       "            background-color:  #80ca80;\n",
       "            color:  #000000;\n",
       "        }    #T_c5c92768_cad9_11ea_820c_02420a3916e1row5_col0 {\n",
       "            background-color:  #8bcf89;\n",
       "            color:  #000000;\n",
       "        }    #T_c5c92768_cad9_11ea_820c_02420a3916e1row6_col0 {\n",
       "            background-color:  #a4da9e;\n",
       "            color:  #000000;\n",
       "        }    #T_c5c92768_cad9_11ea_820c_02420a3916e1row7_col0 {\n",
       "            background-color:  #abdda5;\n",
       "            color:  #000000;\n",
       "        }    #T_c5c92768_cad9_11ea_820c_02420a3916e1row8_col0 {\n",
       "            background-color:  #acdea6;\n",
       "            color:  #000000;\n",
       "        }    #T_c5c92768_cad9_11ea_820c_02420a3916e1row9_col0 {\n",
       "            background-color:  #acdea6;\n",
       "            color:  #000000;\n",
       "        }    #T_c5c92768_cad9_11ea_820c_02420a3916e1row10_col0 {\n",
       "            background-color:  #aedea7;\n",
       "            color:  #000000;\n",
       "        }    #T_c5c92768_cad9_11ea_820c_02420a3916e1row11_col0 {\n",
       "            background-color:  #b1e0ab;\n",
       "            color:  #000000;\n",
       "        }    #T_c5c92768_cad9_11ea_820c_02420a3916e1row12_col0 {\n",
       "            background-color:  #b4e1ad;\n",
       "            color:  #000000;\n",
       "        }    #T_c5c92768_cad9_11ea_820c_02420a3916e1row13_col0 {\n",
       "            background-color:  #b5e1ae;\n",
       "            color:  #000000;\n",
       "        }    #T_c5c92768_cad9_11ea_820c_02420a3916e1row14_col0 {\n",
       "            background-color:  #b8e3b2;\n",
       "            color:  #000000;\n",
       "        }    #T_c5c92768_cad9_11ea_820c_02420a3916e1row15_col0 {\n",
       "            background-color:  #bde5b6;\n",
       "            color:  #000000;\n",
       "        }    #T_c5c92768_cad9_11ea_820c_02420a3916e1row16_col0 {\n",
       "            background-color:  #bee5b8;\n",
       "            color:  #000000;\n",
       "        }    #T_c5c92768_cad9_11ea_820c_02420a3916e1row17_col0 {\n",
       "            background-color:  #c2e7bb;\n",
       "            color:  #000000;\n",
       "        }    #T_c5c92768_cad9_11ea_820c_02420a3916e1row18_col0 {\n",
       "            background-color:  #c2e7bb;\n",
       "            color:  #000000;\n",
       "        }    #T_c5c92768_cad9_11ea_820c_02420a3916e1row19_col0 {\n",
       "            background-color:  #c6e8bf;\n",
       "            color:  #000000;\n",
       "        }    #T_c5c92768_cad9_11ea_820c_02420a3916e1row20_col0 {\n",
       "            background-color:  #d5efcf;\n",
       "            color:  #000000;\n",
       "        }    #T_c5c92768_cad9_11ea_820c_02420a3916e1row21_col0 {\n",
       "            background-color:  #e4f5df;\n",
       "            color:  #000000;\n",
       "        }    #T_c5c92768_cad9_11ea_820c_02420a3916e1row22_col0 {\n",
       "            background-color:  #e8f6e3;\n",
       "            color:  #000000;\n",
       "        }    #T_c5c92768_cad9_11ea_820c_02420a3916e1row23_col0 {\n",
       "            background-color:  #e9f7e5;\n",
       "            color:  #000000;\n",
       "        }    #T_c5c92768_cad9_11ea_820c_02420a3916e1row24_col0 {\n",
       "            background-color:  #f7fcf5;\n",
       "            color:  #000000;\n",
       "        }</style><table id=\"T_c5c92768_cad9_11ea_820c_02420a3916e1\" ><thead>    <tr>        <th class=\"blank level0\" ></th>        <th class=\"col_heading level0 col0\" >meter_price</th>    </tr></thead><tbody>\n",
       "                <tr>\n",
       "                        <th id=\"T_c5c92768_cad9_11ea_820c_02420a3916e1level0_row0\" class=\"row_heading level0 row0\" >meter_price</th>\n",
       "                        <td id=\"T_c5c92768_cad9_11ea_820c_02420a3916e1row0_col0\" class=\"data row0 col0\" >1</td>\n",
       "            </tr>\n",
       "            <tr>\n",
       "                        <th id=\"T_c5c92768_cad9_11ea_820c_02420a3916e1level0_row1\" class=\"row_heading level0 row1\" >last_price</th>\n",
       "                        <td id=\"T_c5c92768_cad9_11ea_820c_02420a3916e1row1_col0\" class=\"data row1 col0\" >0.631631</td>\n",
       "            </tr>\n",
       "            <tr>\n",
       "                        <th id=\"T_c5c92768_cad9_11ea_820c_02420a3916e1level0_row2\" class=\"row_heading level0 row2\" >floors_total</th>\n",
       "                        <td id=\"T_c5c92768_cad9_11ea_820c_02420a3916e1row2_col0\" class=\"data row2 col0\" >0.35064</td>\n",
       "            </tr>\n",
       "            <tr>\n",
       "                        <th id=\"T_c5c92768_cad9_11ea_820c_02420a3916e1level0_row3\" class=\"row_heading level0 row3\" >kitchen_to_total_area</th>\n",
       "                        <td id=\"T_c5c92768_cad9_11ea_820c_02420a3916e1row3_col0\" class=\"data row3 col0\" >0.315627</td>\n",
       "            </tr>\n",
       "            <tr>\n",
       "                        <th id=\"T_c5c92768_cad9_11ea_820c_02420a3916e1level0_row4\" class=\"row_heading level0 row4\" >floor</th>\n",
       "                        <td id=\"T_c5c92768_cad9_11ea_820c_02420a3916e1row4_col0\" class=\"data row4 col0\" >0.253248</td>\n",
       "            </tr>\n",
       "            <tr>\n",
       "                        <th id=\"T_c5c92768_cad9_11ea_820c_02420a3916e1level0_row5\" class=\"row_heading level0 row5\" >kitchen_area</th>\n",
       "                        <td id=\"T_c5c92768_cad9_11ea_820c_02420a3916e1row5_col0\" class=\"data row5 col0\" >0.211169</td>\n",
       "            </tr>\n",
       "            <tr>\n",
       "                        <th id=\"T_c5c92768_cad9_11ea_820c_02420a3916e1level0_row6\" class=\"row_heading level0 row6\" >total_images</th>\n",
       "                        <td id=\"T_c5c92768_cad9_11ea_820c_02420a3916e1row6_col0\" class=\"data row6 col0\" >0.114792</td>\n",
       "            </tr>\n",
       "            <tr>\n",
       "                        <th id=\"T_c5c92768_cad9_11ea_820c_02420a3916e1level0_row7\" class=\"row_heading level0 row7\" >parks_around3000</th>\n",
       "                        <td id=\"T_c5c92768_cad9_11ea_820c_02420a3916e1row7_col0\" class=\"data row7 col0\" >0.0820452</td>\n",
       "            </tr>\n",
       "            <tr>\n",
       "                        <th id=\"T_c5c92768_cad9_11ea_820c_02420a3916e1level0_row8\" class=\"row_heading level0 row8\" >year_public</th>\n",
       "                        <td id=\"T_c5c92768_cad9_11ea_820c_02420a3916e1row8_col0\" class=\"data row8 col0\" >0.0744653</td>\n",
       "            </tr>\n",
       "            <tr>\n",
       "                        <th id=\"T_c5c92768_cad9_11ea_820c_02420a3916e1level0_row9\" class=\"row_heading level0 row9\" >ponds_around3000</th>\n",
       "                        <td id=\"T_c5c92768_cad9_11ea_820c_02420a3916e1row9_col0\" class=\"data row9 col0\" >0.0722808</td>\n",
       "            </tr>\n",
       "            <tr>\n",
       "                        <th id=\"T_c5c92768_cad9_11ea_820c_02420a3916e1level0_row10\" class=\"row_heading level0 row10\" >parks_nearest</th>\n",
       "                        <td id=\"T_c5c92768_cad9_11ea_820c_02420a3916e1row10_col0\" class=\"data row10 col0\" >0.0676621</td>\n",
       "            </tr>\n",
       "            <tr>\n",
       "                        <th id=\"T_c5c92768_cad9_11ea_820c_02420a3916e1level0_row11\" class=\"row_heading level0 row11\" >studio</th>\n",
       "                        <td id=\"T_c5c92768_cad9_11ea_820c_02420a3916e1row11_col0\" class=\"data row11 col0\" >0.0521359</td>\n",
       "            </tr>\n",
       "            <tr>\n",
       "                        <th id=\"T_c5c92768_cad9_11ea_820c_02420a3916e1level0_row12\" class=\"row_heading level0 row12\" >ceiling_height</th>\n",
       "                        <td id=\"T_c5c92768_cad9_11ea_820c_02420a3916e1row12_col0\" class=\"data row12 col0\" >0.0409414</td>\n",
       "            </tr>\n",
       "            <tr>\n",
       "                        <th id=\"T_c5c92768_cad9_11ea_820c_02420a3916e1level0_row13\" class=\"row_heading level0 row13\" >balcony</th>\n",
       "                        <td id=\"T_c5c92768_cad9_11ea_820c_02420a3916e1row13_col0\" class=\"data row13 col0\" >0.0357078</td>\n",
       "            </tr>\n",
       "            <tr>\n",
       "                        <th id=\"T_c5c92768_cad9_11ea_820c_02420a3916e1level0_row14\" class=\"row_heading level0 row14\" >open_plan</th>\n",
       "                        <td id=\"T_c5c92768_cad9_11ea_820c_02420a3916e1row14_col0\" class=\"data row14 col0\" >0.0218214</td>\n",
       "            </tr>\n",
       "            <tr>\n",
       "                        <th id=\"T_c5c92768_cad9_11ea_820c_02420a3916e1level0_row15\" class=\"row_heading level0 row15\" >month_public</th>\n",
       "                        <td id=\"T_c5c92768_cad9_11ea_820c_02420a3916e1row15_col0\" class=\"data row15 col0\" >-0.00464283</td>\n",
       "            </tr>\n",
       "            <tr>\n",
       "                        <th id=\"T_c5c92768_cad9_11ea_820c_02420a3916e1level0_row16\" class=\"row_heading level0 row16\" >day_public</th>\n",
       "                        <td id=\"T_c5c92768_cad9_11ea_820c_02420a3916e1row16_col0\" class=\"data row16 col0\" >-0.00954823</td>\n",
       "            </tr>\n",
       "            <tr>\n",
       "                        <th id=\"T_c5c92768_cad9_11ea_820c_02420a3916e1level0_row17\" class=\"row_heading level0 row17\" >ponds_nearest</th>\n",
       "                        <td id=\"T_c5c92768_cad9_11ea_820c_02420a3916e1row17_col0\" class=\"data row17 col0\" >-0.0230065</td>\n",
       "            </tr>\n",
       "            <tr>\n",
       "                        <th id=\"T_c5c92768_cad9_11ea_820c_02420a3916e1level0_row18\" class=\"row_heading level0 row18\" >days_exposition</th>\n",
       "                        <td id=\"T_c5c92768_cad9_11ea_820c_02420a3916e1row18_col0\" class=\"data row18 col0\" >-0.0253444</td>\n",
       "            </tr>\n",
       "            <tr>\n",
       "                        <th id=\"T_c5c92768_cad9_11ea_820c_02420a3916e1level0_row19\" class=\"row_heading level0 row19\" >airports_nearest</th>\n",
       "                        <td id=\"T_c5c92768_cad9_11ea_820c_02420a3916e1row19_col0\" class=\"data row19 col0\" >-0.0403642</td>\n",
       "            </tr>\n",
       "            <tr>\n",
       "                        <th id=\"T_c5c92768_cad9_11ea_820c_02420a3916e1level0_row20\" class=\"row_heading level0 row20\" >total_area</th>\n",
       "                        <td id=\"T_c5c92768_cad9_11ea_820c_02420a3916e1row20_col0\" class=\"data row20 col0\" >-0.13003</td>\n",
       "            </tr>\n",
       "            <tr>\n",
       "                        <th id=\"T_c5c92768_cad9_11ea_820c_02420a3916e1level0_row21\" class=\"row_heading level0 row21\" >living_area</th>\n",
       "                        <td id=\"T_c5c92768_cad9_11ea_820c_02420a3916e1row21_col0\" class=\"data row21 col0\" >-0.214526</td>\n",
       "            </tr>\n",
       "            <tr>\n",
       "                        <th id=\"T_c5c92768_cad9_11ea_820c_02420a3916e1level0_row22\" class=\"row_heading level0 row22\" >live_to_toal_area</th>\n",
       "                        <td id=\"T_c5c92768_cad9_11ea_820c_02420a3916e1row22_col0\" class=\"data row22 col0\" >-0.250365</td>\n",
       "            </tr>\n",
       "            <tr>\n",
       "                        <th id=\"T_c5c92768_cad9_11ea_820c_02420a3916e1level0_row23\" class=\"row_heading level0 row23\" >rooms</th>\n",
       "                        <td id=\"T_c5c92768_cad9_11ea_820c_02420a3916e1row23_col0\" class=\"data row23 col0\" >-0.259844</td>\n",
       "            </tr>\n",
       "            <tr>\n",
       "                        <th id=\"T_c5c92768_cad9_11ea_820c_02420a3916e1level0_row24\" class=\"row_heading level0 row24\" >citycenters_nearest</th>\n",
       "                        <td id=\"T_c5c92768_cad9_11ea_820c_02420a3916e1row24_col0\" class=\"data row24 col0\" >-0.397976</td>\n",
       "            </tr>\n",
       "    </tbody></table>"
      ],
      "text/plain": [
       "<pandas.io.formats.style.Styler at 0x7ff352624e90>"
      ]
     },
     "metadata": {},
     "output_type": "display_data"
    }
   ],
   "source": [
    "display((df\n",
    "    .corr()['last_price']\n",
    "    .sort_values(ascending=False)\n",
    "    .to_frame()\n",
    "    .style\n",
    "    .background_gradient(cmap='Greens')\n",
    "))\n",
    "print()\n",
    "display(df\n",
    "        .corr()['meter_price']\n",
    "        .sort_values(ascending=False)\n",
    "        .to_frame()\n",
    "        .style\n",
    "        .background_gradient(cmap='Greens')\n",
    ")"
   ]
  },
  {
   "cell_type": "code",
   "execution_count": 38,
   "metadata": {},
   "outputs": [
    {
     "data": {
      "text/html": [
       "<style  type=\"text/css\" >\n",
       "    #T_c5dedd56_cad9_11ea_820c_02420a3916e1row0_col0 {\n",
       "            background-color:  #00441b;\n",
       "            color:  #f1f1f1;\n",
       "        }    #T_c5dedd56_cad9_11ea_820c_02420a3916e1row1_col0 {\n",
       "            background-color:  #258d47;\n",
       "            color:  #000000;\n",
       "        }    #T_c5dedd56_cad9_11ea_820c_02420a3916e1row2_col0 {\n",
       "            background-color:  #29914a;\n",
       "            color:  #000000;\n",
       "        }    #T_c5dedd56_cad9_11ea_820c_02420a3916e1row3_col0 {\n",
       "            background-color:  #3da65a;\n",
       "            color:  #000000;\n",
       "        }    #T_c5dedd56_cad9_11ea_820c_02420a3916e1row4_col0 {\n",
       "            background-color:  #55b567;\n",
       "            color:  #000000;\n",
       "        }    #T_c5dedd56_cad9_11ea_820c_02420a3916e1row5_col0 {\n",
       "            background-color:  #5eb96b;\n",
       "            color:  #000000;\n",
       "        }    #T_c5dedd56_cad9_11ea_820c_02420a3916e1row6_col0 {\n",
       "            background-color:  #94d390;\n",
       "            color:  #000000;\n",
       "        }    #T_c5dedd56_cad9_11ea_820c_02420a3916e1row7_col0 {\n",
       "            background-color:  #a2d99c;\n",
       "            color:  #000000;\n",
       "        }    #T_c5dedd56_cad9_11ea_820c_02420a3916e1row8_col0 {\n",
       "            background-color:  #a5db9f;\n",
       "            color:  #000000;\n",
       "        }    #T_c5dedd56_cad9_11ea_820c_02420a3916e1row9_col0 {\n",
       "            background-color:  #acdea6;\n",
       "            color:  #000000;\n",
       "        }    #T_c5dedd56_cad9_11ea_820c_02420a3916e1row10_col0 {\n",
       "            background-color:  #b2e0ac;\n",
       "            color:  #000000;\n",
       "        }    #T_c5dedd56_cad9_11ea_820c_02420a3916e1row11_col0 {\n",
       "            background-color:  #b5e1ae;\n",
       "            color:  #000000;\n",
       "        }    #T_c5dedd56_cad9_11ea_820c_02420a3916e1row12_col0 {\n",
       "            background-color:  #b7e2b1;\n",
       "            color:  #000000;\n",
       "        }    #T_c5dedd56_cad9_11ea_820c_02420a3916e1row13_col0 {\n",
       "            background-color:  #bbe4b4;\n",
       "            color:  #000000;\n",
       "        }    #T_c5dedd56_cad9_11ea_820c_02420a3916e1row14_col0 {\n",
       "            background-color:  #bee5b8;\n",
       "            color:  #000000;\n",
       "        }    #T_c5dedd56_cad9_11ea_820c_02420a3916e1row15_col0 {\n",
       "            background-color:  #c3e7bc;\n",
       "            color:  #000000;\n",
       "        }    #T_c5dedd56_cad9_11ea_820c_02420a3916e1row16_col0 {\n",
       "            background-color:  #c4e8bd;\n",
       "            color:  #000000;\n",
       "        }    #T_c5dedd56_cad9_11ea_820c_02420a3916e1row17_col0 {\n",
       "            background-color:  #c8e9c1;\n",
       "            color:  #000000;\n",
       "        }    #T_c5dedd56_cad9_11ea_820c_02420a3916e1row18_col0 {\n",
       "            background-color:  #c9eac2;\n",
       "            color:  #000000;\n",
       "        }    #T_c5dedd56_cad9_11ea_820c_02420a3916e1row19_col0 {\n",
       "            background-color:  #ccebc6;\n",
       "            color:  #000000;\n",
       "        }    #T_c5dedd56_cad9_11ea_820c_02420a3916e1row20_col0 {\n",
       "            background-color:  #ceecc8;\n",
       "            color:  #000000;\n",
       "        }    #T_c5dedd56_cad9_11ea_820c_02420a3916e1row21_col0 {\n",
       "            background-color:  #d0edca;\n",
       "            color:  #000000;\n",
       "        }    #T_c5dedd56_cad9_11ea_820c_02420a3916e1row22_col0 {\n",
       "            background-color:  #d4eece;\n",
       "            color:  #000000;\n",
       "        }    #T_c5dedd56_cad9_11ea_820c_02420a3916e1row23_col0 {\n",
       "            background-color:  #daf0d4;\n",
       "            color:  #000000;\n",
       "        }    #T_c5dedd56_cad9_11ea_820c_02420a3916e1row24_col0 {\n",
       "            background-color:  #f7fcf5;\n",
       "            color:  #000000;\n",
       "        }</style><table id=\"T_c5dedd56_cad9_11ea_820c_02420a3916e1\" ><thead>    <tr>        <th class=\"blank level0\" ></th>        <th class=\"col_heading level0 col0\" >last_price</th>    </tr></thead><tbody>\n",
       "                <tr>\n",
       "                        <th id=\"T_c5dedd56_cad9_11ea_820c_02420a3916e1level0_row0\" class=\"row_heading level0 row0\" >last_price</th>\n",
       "                        <td id=\"T_c5dedd56_cad9_11ea_820c_02420a3916e1row0_col0\" class=\"data row0 col0\" >1</td>\n",
       "            </tr>\n",
       "            <tr>\n",
       "                        <th id=\"T_c5dedd56_cad9_11ea_820c_02420a3916e1level0_row1\" class=\"row_heading level0 row1\" >total_area</th>\n",
       "                        <td id=\"T_c5dedd56_cad9_11ea_820c_02420a3916e1row1_col0\" class=\"data row1 col0\" >0.65598</td>\n",
       "            </tr>\n",
       "            <tr>\n",
       "                        <th id=\"T_c5dedd56_cad9_11ea_820c_02420a3916e1level0_row2\" class=\"row_heading level0 row2\" >meter_price</th>\n",
       "                        <td id=\"T_c5dedd56_cad9_11ea_820c_02420a3916e1row2_col0\" class=\"data row2 col0\" >0.631631</td>\n",
       "            </tr>\n",
       "            <tr>\n",
       "                        <th id=\"T_c5dedd56_cad9_11ea_820c_02420a3916e1level0_row3\" class=\"row_heading level0 row3\" >living_area</th>\n",
       "                        <td id=\"T_c5dedd56_cad9_11ea_820c_02420a3916e1row3_col0\" class=\"data row3 col0\" >0.523428</td>\n",
       "            </tr>\n",
       "            <tr>\n",
       "                        <th id=\"T_c5dedd56_cad9_11ea_820c_02420a3916e1level0_row4\" class=\"row_heading level0 row4\" >kitchen_area</th>\n",
       "                        <td id=\"T_c5dedd56_cad9_11ea_820c_02420a3916e1row4_col0\" class=\"data row4 col0\" >0.435829</td>\n",
       "            </tr>\n",
       "            <tr>\n",
       "                        <th id=\"T_c5dedd56_cad9_11ea_820c_02420a3916e1level0_row5\" class=\"row_heading level0 row5\" >rooms</th>\n",
       "                        <td id=\"T_c5dedd56_cad9_11ea_820c_02420a3916e1row5_col0\" class=\"data row5 col0\" >0.402037</td>\n",
       "            </tr>\n",
       "            <tr>\n",
       "                        <th id=\"T_c5dedd56_cad9_11ea_820c_02420a3916e1level0_row6\" class=\"row_heading level0 row6\" >floors_total</th>\n",
       "                        <td id=\"T_c5dedd56_cad9_11ea_820c_02420a3916e1row6_col0\" class=\"data row6 col0\" >0.218036</td>\n",
       "            </tr>\n",
       "            <tr>\n",
       "                        <th id=\"T_c5dedd56_cad9_11ea_820c_02420a3916e1level0_row7\" class=\"row_heading level0 row7\" >total_images</th>\n",
       "                        <td id=\"T_c5dedd56_cad9_11ea_820c_02420a3916e1row7_col0\" class=\"data row7 col0\" >0.16299</td>\n",
       "            </tr>\n",
       "            <tr>\n",
       "                        <th id=\"T_c5dedd56_cad9_11ea_820c_02420a3916e1level0_row8\" class=\"row_heading level0 row8\" >floor</th>\n",
       "                        <td id=\"T_c5dedd56_cad9_11ea_820c_02420a3916e1row8_col0\" class=\"data row8 col0\" >0.147602</td>\n",
       "            </tr>\n",
       "            <tr>\n",
       "                        <th id=\"T_c5dedd56_cad9_11ea_820c_02420a3916e1level0_row9\" class=\"row_heading level0 row9\" >ponds_around3000</th>\n",
       "                        <td id=\"T_c5dedd56_cad9_11ea_820c_02420a3916e1row9_col0\" class=\"data row9 col0\" >0.115906</td>\n",
       "            </tr>\n",
       "            <tr>\n",
       "                        <th id=\"T_c5dedd56_cad9_11ea_820c_02420a3916e1level0_row10\" class=\"row_heading level0 row10\" >parks_around3000</th>\n",
       "                        <td id=\"T_c5dedd56_cad9_11ea_820c_02420a3916e1row10_col0\" class=\"data row10 col0\" >0.0929928</td>\n",
       "            </tr>\n",
       "            <tr>\n",
       "                        <th id=\"T_c5dedd56_cad9_11ea_820c_02420a3916e1level0_row11\" class=\"row_heading level0 row11\" >ceiling_height</th>\n",
       "                        <td id=\"T_c5dedd56_cad9_11ea_820c_02420a3916e1row11_col0\" class=\"data row11 col0\" >0.0799979</td>\n",
       "            </tr>\n",
       "            <tr>\n",
       "                        <th id=\"T_c5dedd56_cad9_11ea_820c_02420a3916e1level0_row12\" class=\"row_heading level0 row12\" >balcony</th>\n",
       "                        <td id=\"T_c5dedd56_cad9_11ea_820c_02420a3916e1row12_col0\" class=\"data row12 col0\" >0.0689101</td>\n",
       "            </tr>\n",
       "            <tr>\n",
       "                        <th id=\"T_c5dedd56_cad9_11ea_820c_02420a3916e1level0_row13\" class=\"row_heading level0 row13\" >days_exposition</th>\n",
       "                        <td id=\"T_c5dedd56_cad9_11ea_820c_02420a3916e1row13_col0\" class=\"data row13 col0\" >0.0533411</td>\n",
       "            </tr>\n",
       "            <tr>\n",
       "                        <th id=\"T_c5dedd56_cad9_11ea_820c_02420a3916e1level0_row14\" class=\"row_heading level0 row14\" >parks_nearest</th>\n",
       "                        <td id=\"T_c5dedd56_cad9_11ea_820c_02420a3916e1row14_col0\" class=\"data row14 col0\" >0.037186</td>\n",
       "            </tr>\n",
       "            <tr>\n",
       "                        <th id=\"T_c5dedd56_cad9_11ea_820c_02420a3916e1level0_row15\" class=\"row_heading level0 row15\" >year_public</th>\n",
       "                        <td id=\"T_c5dedd56_cad9_11ea_820c_02420a3916e1row15_col0\" class=\"data row15 col0\" >0.0160409</td>\n",
       "            </tr>\n",
       "            <tr>\n",
       "                        <th id=\"T_c5dedd56_cad9_11ea_820c_02420a3916e1level0_row16\" class=\"row_heading level0 row16\" >live_to_toal_area</th>\n",
       "                        <td id=\"T_c5dedd56_cad9_11ea_820c_02420a3916e1row16_col0\" class=\"data row16 col0\" >0.0135759</td>\n",
       "            </tr>\n",
       "            <tr>\n",
       "                        <th id=\"T_c5dedd56_cad9_11ea_820c_02420a3916e1level0_row17\" class=\"row_heading level0 row17\" >month_public</th>\n",
       "                        <td id=\"T_c5dedd56_cad9_11ea_820c_02420a3916e1row17_col0\" class=\"data row17 col0\" >-0.000802663</td>\n",
       "            </tr>\n",
       "            <tr>\n",
       "                        <th id=\"T_c5dedd56_cad9_11ea_820c_02420a3916e1level0_row18\" class=\"row_heading level0 row18\" >day_public</th>\n",
       "                        <td id=\"T_c5dedd56_cad9_11ea_820c_02420a3916e1row18_col0\" class=\"data row18 col0\" >-0.00958094</td>\n",
       "            </tr>\n",
       "            <tr>\n",
       "                        <th id=\"T_c5dedd56_cad9_11ea_820c_02420a3916e1level0_row19\" class=\"row_heading level0 row19\" >airports_nearest</th>\n",
       "                        <td id=\"T_c5dedd56_cad9_11ea_820c_02420a3916e1row19_col0\" class=\"data row19 col0\" >-0.0283835</td>\n",
       "            </tr>\n",
       "            <tr>\n",
       "                        <th id=\"T_c5dedd56_cad9_11ea_820c_02420a3916e1level0_row20\" class=\"row_heading level0 row20\" >ponds_nearest</th>\n",
       "                        <td id=\"T_c5dedd56_cad9_11ea_820c_02420a3916e1row20_col0\" class=\"data row20 col0\" >-0.0373704</td>\n",
       "            </tr>\n",
       "            <tr>\n",
       "                        <th id=\"T_c5dedd56_cad9_11ea_820c_02420a3916e1level0_row21\" class=\"row_heading level0 row21\" >open_plan</th>\n",
       "                        <td id=\"T_c5dedd56_cad9_11ea_820c_02420a3916e1row21_col0\" class=\"data row21 col0\" >-0.0489536</td>\n",
       "            </tr>\n",
       "            <tr>\n",
       "                        <th id=\"T_c5dedd56_cad9_11ea_820c_02420a3916e1level0_row22\" class=\"row_heading level0 row22\" >studio</th>\n",
       "                        <td id=\"T_c5dedd56_cad9_11ea_820c_02420a3916e1row22_col0\" class=\"data row22 col0\" >-0.0712834</td>\n",
       "            </tr>\n",
       "            <tr>\n",
       "                        <th id=\"T_c5dedd56_cad9_11ea_820c_02420a3916e1level0_row23\" class=\"row_heading level0 row23\" >kitchen_to_total_area</th>\n",
       "                        <td id=\"T_c5dedd56_cad9_11ea_820c_02420a3916e1row23_col0\" class=\"data row23 col0\" >-0.100185</td>\n",
       "            </tr>\n",
       "            <tr>\n",
       "                        <th id=\"T_c5dedd56_cad9_11ea_820c_02420a3916e1level0_row24\" class=\"row_heading level0 row24\" >citycenters_nearest</th>\n",
       "                        <td id=\"T_c5dedd56_cad9_11ea_820c_02420a3916e1row24_col0\" class=\"data row24 col0\" >-0.333723</td>\n",
       "            </tr>\n",
       "    </tbody></table>"
      ],
      "text/plain": [
       "<pandas.io.formats.style.Styler at 0x7ff354a6e090>"
      ]
     },
     "execution_count": 38,
     "metadata": {},
     "output_type": "execute_result"
    }
   ],
   "source": [
    "(df\n",
    "    .corr()['last_price']\n",
    "    .sort_values(ascending=False)\n",
    "    .to_frame()\n",
    "    .style\n",
    "    .background_gradient(cmap=\"Greens\")\n",
    ")"
   ]
  },
  {
   "cell_type": "markdown",
   "metadata": {},
   "source": [
    "СПАСИБО)"
   ]
  },
  {
   "cell_type": "markdown",
   "metadata": {},
   "source": [
    "Больше всего положительно влияют на стоимость квартиры соответственно: цена м², общая площадь квартиры, жилая площадь м², площадь кухни м², количество комнат, этажность дома, этаж и число фотографий в объявление.\n",
    "Фактор наиболее сильно отрицательно влияющий на цену - это удаленность от центра.\n",
    "Видно, что жилая и кухонная площадь положительно коррелируют с ценой, однако чем больше эти площади относительно общей площади тем цена ниже. Следовательно факторы жилой и общей площади не стоит рассматривать отдельно, они оказывают положительное влияние на цену только потому, что увеличивается общая площадь, но при увеличение своей доли относительно общей могут повлиять негативно."
   ]
  },
  {
   "cell_type": "code",
   "execution_count": 40,
   "metadata": {},
   "outputs": [],
   "source": [
    "def dependence (x):                                           # Функция для выявления взаимосвязи с ценой\n",
    "    df.plot(x= x, y = 'meter_price', kind= 'scatter',alpha=0.3)\n",
    "    plt.show()\n",
    "    df.plot(x= x, y = 'meter_price', kind='hexbin', gridsize=20, sharex=False)\n",
    "    plt.show()\n",
    "    print(df[x].corr(df['meter_price']))"
   ]
  },
  {
   "cell_type": "code",
   "execution_count": 41,
   "metadata": {},
   "outputs": [
    {
     "data": {
      "image/png": "[encoded data removed]",
      "text/plain": [
       "<Figure size 432x288 with 1 Axes>"
      ]
     },
     "metadata": {
      "needs_background": "light"
     },
     "output_type": "display_data"
    },
    {
     "data": {
      "image/png": "[encoded data removed]",
      "text/plain": [
       "<Figure size 432x288 with 2 Axes>"
      ]
     },
     "metadata": {
      "needs_background": "light"
     },
     "output_type": "display_data"
    },
    {
     "name": "stdout",
     "output_type": "stream",
     "text": [
      "-0.2598438016280346\n"
     ]
    }
   ],
   "source": [
    "dependence ('rooms')"
   ]
  },
  {
   "cell_type": "markdown",
   "metadata": {},
   "source": [
    "Чем больше комнат, тем меньше стоимость м². Наверняка это связано с тем, что если в квартире больше комнат, то и ее площадь будет больше, а если площадь больше, то цена за м² ниже."
   ]
  },
  {
   "cell_type": "code",
   "execution_count": 42,
   "metadata": {},
   "outputs": [
    {
     "data": {
      "image/png": "[encoded data removed]",
      "text/plain": [
       "<Figure size 432x288 with 1 Axes>"
      ]
     },
     "metadata": {
      "needs_background": "light"
     },
     "output_type": "display_data"
    },
    {
     "data": {
      "image/png": "[encoded data removed]",
      "text/plain": [
       "<Figure size 432x288 with 2 Axes>"
      ]
     },
     "metadata": {
      "needs_background": "light"
     },
     "output_type": "display_data"
    },
    {
     "name": "stdout",
     "output_type": "stream",
     "text": [
      "-0.39797604945322035\n"
     ]
    }
   ],
   "source": [
    "dependence ('citycenters_nearest')"
   ]
  },
  {
   "cell_type": "markdown",
   "metadata": {},
   "source": [
    "Цена м² становится дешевле при увелечение расстояния от квартиры до центра."
   ]
  },
  {
   "cell_type": "code",
   "execution_count": 43,
   "metadata": {},
   "outputs": [],
   "source": [
    "def dictionary_flat_flor(flat_flor):   # Присвоение цифр категориям этажа (создание словаря)\n",
    "    if flat_flor == 'неизвестно':\n",
    "        return 0\n",
    "    elif flat_flor == 'первый':\n",
    "        return 1\n",
    "    elif flat_flor == 'другой':\n",
    "        return 2\n",
    "    elif flat_flor == 'последний':\n",
    "        return 3"
   ]
  },
  {
   "cell_type": "code",
   "execution_count": 44,
   "metadata": {},
   "outputs": [
    {
     "name": "stderr",
     "output_type": "stream",
     "text": [
      "/opt/conda/lib/python3.7/site-packages/ipykernel_launcher.py:1: SettingWithCopyWarning: \n",
      "A value is trying to be set on a copy of a slice from a DataFrame.\n",
      "Try using .loc[row_indexer,col_indexer] = value instead\n",
      "\n",
      "See the caveats in the documentation: http://pandas.pydata.org/pandas-docs/stable/user_guide/indexing.html#returning-a-view-versus-a-copy\n",
      "  \"\"\"Entry point for launching an IPython kernel.\n"
     ]
    },
    {
     "data": {
      "text/plain": [
       "2    15063\n",
       "3     2846\n",
       "1     2728\n",
       "0       66\n",
       "Name: dictionary_flat_flor, dtype: int64"
      ]
     },
     "execution_count": 44,
     "metadata": {},
     "output_type": "execute_result"
    }
   ],
   "source": [
    "df['dictionary_flat_flor'] = df['flat_flor'].apply(dictionary_flat_flor)\n",
    "df['dictionary_flat_flor'].value_counts()"
   ]
  },
  {
   "cell_type": "code",
   "execution_count": 45,
   "metadata": {},
   "outputs": [],
   "source": [
    "def dependence_2(column):\n",
    "    median_value=df.groupby(column)['meter_price'].median()\n",
    "    median_value.plot(x=column, y='meter_price', style='o-', grid=True)\n",
    "    plt.show()\n",
    "    print(df[column].corr(df['meter_price']))"
   ]
  },
  {
   "cell_type": "code",
   "execution_count": 46,
   "metadata": {},
   "outputs": [
    {
     "data": {
      "image/png": "[encoded data removed]",
      "text/plain": [
       "<Figure size 432x288 with 1 Axes>"
      ]
     },
     "metadata": {
      "needs_background": "light"
     },
     "output_type": "display_data"
    },
    {
     "name": "stdout",
     "output_type": "stream",
     "text": [
      "0.026817848595218047\n"
     ]
    }
   ],
   "source": [
    "dependence_2('dictionary_flat_flor')"
   ]
  },
  {
   "cell_type": "markdown",
   "metadata": {},
   "source": [
    "Медианная цена за м² первого этажа имеет наименьшую стоимость, на 3,5% дороже стоит м² последнего этажа, другие этажи стоят примерно на 19% дороже первого. Есть еще квартиры, где этаж неопределн, но цена самая высокая. Данная картина возможно возникла из-за того, что большинство новых домов имеют много этажей (следовательно больше этажей категории \"другой\"), квартиры в таких домах стоят дороже, а старые дома имеют меньшую этажность (меньше этажей категории \"другой\") и меньшую стоимость."
   ]
  },
  {
   "cell_type": "code",
   "execution_count": 47,
   "metadata": {},
   "outputs": [
    {
     "data": {
      "image/png": "[encoded data removed]",
      "text/plain": [
       "<Figure size 432x288 with 1 Axes>"
      ]
     },
     "metadata": {
      "needs_background": "light"
     },
     "output_type": "display_data"
    },
    {
     "name": "stdout",
     "output_type": "stream",
     "text": [
      "-0.009548227523312865\n"
     ]
    }
   ],
   "source": [
    "dependence_2('day_public')"
   ]
  },
  {
   "cell_type": "markdown",
   "metadata": {},
   "source": [
    "Цена за квадратный метр дороже в предложениях, выложенных в будние дни (самая большая в середине -среда). Возможно это связано с тем, что те, кто выкладывают объявление по будням, они больше времени и сил могут тратить на продажу квартиры и следовательно продают ее удачнее, например тех, кто продает срочно и выкраивает время на выходных."
   ]
  },
  {
   "cell_type": "code",
   "execution_count": 48,
   "metadata": {},
   "outputs": [
    {
     "data": {
      "image/png": "[encoded data removed]",
      "text/plain": [
       "<Figure size 432x288 with 1 Axes>"
      ]
     },
     "metadata": {
      "needs_background": "light"
     },
     "output_type": "display_data"
    },
    {
     "name": "stdout",
     "output_type": "stream",
     "text": [
      "-0.004642825235988877\n"
     ]
    }
   ],
   "source": [
    "dependence_2('month_public')    "
   ]
  },
  {
   "cell_type": "markdown",
   "metadata": {},
   "source": [
    "Месяц публикации не влияет на цену м² исходя из коэффициента кореляции, но по графику видно, что наиболее дешего стоит м² квартир, выставляемых на продажу в 5, 6 и 12 месяцах, причем разница составляет порядка 2%. Возможно это связано с колебаниями на рынке недвижимости."
   ]
  },
  {
   "cell_type": "code",
   "execution_count": 49,
   "metadata": {},
   "outputs": [
    {
     "data": {
      "image/png": "[encoded data removed]",
      "text/plain": [
       "<Figure size 432x288 with 1 Axes>"
      ]
     },
     "metadata": {
      "needs_background": "light"
     },
     "output_type": "display_data"
    },
    {
     "name": "stdout",
     "output_type": "stream",
     "text": [
      "0.07446532821888713\n"
     ]
    }
   ],
   "source": [
    "dependence_2('year_public')"
   ]
  },
  {
   "cell_type": "markdown",
   "metadata": {},
   "source": [
    "С 2014 по 2015 года виден спад стоимости м² квартиры, а вот после стабильности 2015-2016 гг. начался ускоренный рост цен вплоть до 2019 года. Это скорей всего связанно с ситуацией на рынке недвижимости и с мировой экономикой."
   ]
  },
  {
   "cell_type": "markdown",
   "metadata": {},
   "source": [
    "Вывод: \n",
    "- Чем больше комнат, тем меньше стоимость м². \n",
    "- Цена м² становится дешевле при увелечение расстояния от квартиры до центра. \n",
    "- Медианная цена за м² первого этажа имеет наименьшую стоимость, на 3,5% дороже стоит м² последнего этажа, другие этажи стоят примерно на 19% дороже первого. Есть еще квартиры, где этаж неопределн, но цена самая высокая. \n",
    "- Цена за квадратный метр дороже в предложениях, выложенных в будние дни\n",
    "- Месяц публикации не влияет на цену м² исходя из коэффициента кореляции, но по графику видно, что наиболее дешего стоит м² квартир, выставляемых на продажу в 5, 6 и 12 месяцах\n",
    "- С 2014 по 2015 года виден спад стоимости м² квартиры, а вот после стабильности 2015-2016 гг. начался ускоренный рост цен вплоть до 2019 года"
   ]
  },
  {
   "cell_type": "code",
   "execution_count": 50,
   "metadata": {},
   "outputs": [
    {
     "data": {
      "text/plain": [
       "Санкт-Петербург      12930\n",
       "посёлок Мурино         522\n",
       "посёлок Шушары         431\n",
       "Всеволожск             388\n",
       "Колпино                332\n",
       "Пушкин                 330\n",
       "посёлок Парголово      324\n",
       "Гатчина                300\n",
       "деревня Кудрово        297\n",
       "Выборг                 222\n",
       "Name: locality_name, dtype: int64"
      ]
     },
     "execution_count": 50,
     "metadata": {},
     "output_type": "execute_result"
    }
   ],
   "source": [
    "top_locathion = df['locality_name'].value_counts()   # Выделили 10 населенных пунктов с наибольшим количеством объявлений\n",
    "top_locathion.head(10)"
   ]
  },
  {
   "cell_type": "code",
   "execution_count": 51,
   "metadata": {},
   "outputs": [
    {
     "data": {
      "text/plain": [
       "count     16076.000000\n",
       "mean     100063.415420\n",
       "std       23637.735853\n",
       "min       10897.435897\n",
       "25%       84664.536741\n",
       "50%       98000.000000\n",
       "75%      113003.012048\n",
       "max      312240.000000\n",
       "Name: meter_price, dtype: float64"
      ]
     },
     "execution_count": 51,
     "metadata": {},
     "output_type": "execute_result"
    },
    {
     "data": {
      "image/png": "[encoded data removed]",
      "text/plain": [
       "<Figure size 432x288 with 1 Axes>"
      ]
     },
     "metadata": {
      "needs_background": "light"
     },
     "output_type": "display_data"
    }
   ],
   "source": [
    "df.query('locality_name in @top_locathion.head(10).index')['meter_price'].hist(bins=50)\n",
    "df.query('locality_name in @top_locathion.head(10).index')['meter_price'].describe()"
   ]
  },
  {
   "cell_type": "code",
   "execution_count": 52,
   "metadata": {},
   "outputs": [
    {
     "data": {
      "text/plain": [
       "locality_name\n",
       "Санкт-Петербург      104845.607242\n",
       "Пушкин               100137.198962\n",
       "деревня Кудрово       92392.915308\n",
       "посёлок Парголово     90494.580056\n",
       "посёлок Мурино        85752.189195\n",
       "посёлок Шушары        78788.184435\n",
       "Колпино               75322.233737\n",
       "Гатчина               68680.532752\n",
       "Всеволожск            66736.860169\n",
       "Выборг                58261.963025\n",
       "Name: meter_price, dtype: float64"
      ]
     },
     "execution_count": 52,
     "metadata": {},
     "output_type": "execute_result"
    }
   ],
   "source": [
    "df.query('locality_name in @top_locathion.head(10).index').groupby('locality_name')['meter_price'].mean().sort_values(ascending=False)"
   ]
  },
  {
   "cell_type": "markdown",
   "metadata": {},
   "source": [
    "Самая высокая стоимость жилья из выборки (10 населенных пунктов с наибольшим количеством объявлений) в Санкт-Петербурге 101448, самая низкая в Выборге - 58239, разница почти в 2 раза."
   ]
  },
  {
   "cell_type": "code",
   "execution_count": 62,
   "metadata": {},
   "outputs": [
    {
     "data": {
      "text/plain": [
       "2        13933.0\n",
       "7        11634.0\n",
       "9        15008.0\n",
       "10       13878.0\n",
       "15       14259.0\n",
       "          ...   \n",
       "23686    11602.0\n",
       "23687    16704.0\n",
       "23689    16081.0\n",
       "23690     6263.0\n",
       "23691     4489.0\n",
       "Name: citycenters_nearest, Length: 12930, dtype: float64"
      ]
     },
     "execution_count": 62,
     "metadata": {},
     "output_type": "execute_result"
    }
   ],
   "source": [
    "df_piter = df.query('locality_name == \"Санкт-Петербург\"')\n",
    "df_piter['citycenters_nearest']"
   ]
  },
  {
   "cell_type": "code",
   "execution_count": 63,
   "metadata": {},
   "outputs": [
    {
     "data": {
      "text/plain": [
       "1    8174\n",
       "2    7388\n",
       "3    4565\n",
       "4     546\n",
       "5      28\n",
       "6       2\n",
       "Name: rooms, dtype: int64"
      ]
     },
     "metadata": {},
     "output_type": "display_data"
    },
    {
     "name": "stderr",
     "output_type": "stream",
     "text": [
      "/opt/conda/lib/python3.7/site-packages/ipykernel_launcher.py:2: SettingWithCopyWarning: \n",
      "A value is trying to be set on a copy of a slice from a DataFrame.\n",
      "Try using .loc[row_indexer,col_indexer] = value instead\n",
      "\n",
      "See the caveats in the documentation: http://pandas.pydata.org/pandas-docs/stable/user_guide/indexing.html#returning-a-view-versus-a-copy\n",
      "  \n"
     ]
    },
    {
     "data": {
      "text/plain": [
       "1    4980\n",
       "2    4580\n",
       "3    2953\n",
       "4     399\n",
       "5      17\n",
       "6       1\n",
       "Name: rooms, dtype: int64"
      ]
     },
     "metadata": {},
     "output_type": "display_data"
    }
   ],
   "source": [
    "display(df['rooms'].value_counts())\n",
    "df_piter['rooms'] = df_piter['rooms'].replace(0,1)\n",
    "display(df_piter['rooms'].value_counts())"
   ]
  },
  {
   "cell_type": "code",
   "execution_count": 64,
   "metadata": {},
   "outputs": [
    {
     "name": "stderr",
     "output_type": "stream",
     "text": [
      "/opt/conda/lib/python3.7/site-packages/ipykernel_launcher.py:1: SettingWithCopyWarning: \n",
      "A value is trying to be set on a copy of a slice from a DataFrame.\n",
      "Try using .loc[row_indexer,col_indexer] = value instead\n",
      "\n",
      "See the caveats in the documentation: http://pandas.pydata.org/pandas-docs/stable/user_guide/indexing.html#returning-a-view-versus-a-copy\n",
      "  \"\"\"Entry point for launching an IPython kernel.\n"
     ]
    },
    {
     "data": {
      "text/plain": [
       "2        14.0\n",
       "7        12.0\n",
       "9        15.0\n",
       "10       14.0\n",
       "15       14.0\n",
       "         ... \n",
       "23686    12.0\n",
       "23687    17.0\n",
       "23689    16.0\n",
       "23690     6.0\n",
       "23691     4.0\n",
       "Name: citycenters_nearest_km, Length: 12930, dtype: float64"
      ]
     },
     "execution_count": 64,
     "metadata": {},
     "output_type": "execute_result"
    }
   ],
   "source": [
    "df_piter['citycenters_nearest_km'] = (df_piter['citycenters_nearest'] / 1000).round()\n",
    "df_piter['citycenters_nearest_km']"
   ]
  },
  {
   "cell_type": "code",
   "execution_count": 65,
   "metadata": {},
   "outputs": [
    {
     "data": {
      "text/plain": [
       "citycenters_nearest_km\n",
       "0.0     123148.059224\n",
       "1.0     120090.951498\n",
       "2.0     115118.009426\n",
       "3.0     109296.043425\n",
       "4.0     116669.212558\n",
       "5.0     121330.343985\n",
       "6.0     121876.497696\n",
       "7.0     114931.413760\n",
       "8.0     114516.372666\n",
       "9.0     105860.991633\n",
       "10.0    107287.490762\n",
       "11.0    103803.434982\n",
       "12.0    105231.846999\n",
       "13.0    105526.987477\n",
       "14.0    103352.034372\n",
       "15.0    102055.320024\n",
       "16.0     99159.514912\n",
       "17.0     94882.776529\n",
       "18.0     95847.743571\n",
       "19.0     97584.689878\n",
       "20.0    102608.778336\n",
       "21.0     93867.634806\n",
       "22.0     91274.783996\n",
       "23.0     91388.397623\n",
       "24.0     85736.904595\n",
       "25.0     91531.371618\n",
       "26.0     89483.681912\n",
       "27.0     70312.500000\n",
       "28.0     83277.489795\n",
       "29.0     72953.365445\n",
       "Name: meter_price, dtype: float64"
      ]
     },
     "metadata": {},
     "output_type": "display_data"
    }
   ],
   "source": [
    "df_piter_groupby = df_piter.groupby('citycenters_nearest_km')['meter_price'].mean()\n",
    "display(df_piter_groupby)"
   ]
  },
  {
   "cell_type": "code",
   "execution_count": 66,
   "metadata": {},
   "outputs": [
    {
     "data": {
      "image/png": "[encoded data removed]",
      "text/plain": [
       "<Figure size 432x288 with 1 Axes>"
      ]
     },
     "metadata": {
      "needs_background": "light"
     },
     "output_type": "display_data"
    }
   ],
   "source": [
    "df_piter_groupby.plot(x='citycenters_nearest_km', y ='meter_price', grid = True)\n",
    "plt.show()"
   ]
  },
  {
   "cell_type": "markdown",
   "metadata": {},
   "source": [
    "График на отметках от 0 до 8 км. имеет максимальную цену, далее идет стремительное постепенное снижение цены. На мой взгляд - центральная зона - 8 км. так как после 8 км. график перестает колебаться и стабильно идет вниз (1-о исключение есть), после 24 км. график опять начинает качать, следовательно можно выделить и интервалы 8-24 км.(расстояние от центра сильно сказывается на стоимости) и 24 км.+ от центра как отдельный сегмент. Это может свидетельствовать о том, что сильнее начинают влиять на цену другие факторы, нежели расстояние до центра."
   ]
  },
  {
   "cell_type": "code",
   "execution_count": 67,
   "metadata": {},
   "outputs": [
    {
     "data": {
      "text/plain": [
       "2    925\n",
       "3    627\n",
       "1    624\n",
       "4    125\n",
       "5      7\n",
       "Name: rooms, dtype: int64"
      ]
     },
     "execution_count": 67,
     "metadata": {},
     "output_type": "execute_result"
    }
   ],
   "source": [
    "df_piter_center = df_piter.query('citycenters_nearest_km <= 8')\n",
    "df_piter_center['rooms'].value_counts()"
   ]
  },
  {
   "cell_type": "code",
   "execution_count": 68,
   "metadata": {},
   "outputs": [],
   "source": [
    "def visualization_piter_center(column):\n",
    "    df_piter_center.boxplot(column = column)\n",
    "    plt.show()\n",
    "    print(df_piter_center[column].describe())\n",
    "    df_piter_center[column].hist(bins=50)\n",
    "    plt.show()"
   ]
  },
  {
   "cell_type": "code",
   "execution_count": 69,
   "metadata": {},
   "outputs": [],
   "source": [
    "def dependence_piter_center (x):                                           # Функция для выявления взаимосвязи с ценой\n",
    "    df_piter_center.plot(x= x, y = 'meter_price', kind= 'scatter',alpha=0.5)\n",
    "    plt.show()\n",
    "    df_piter_center.plot(x= x, y = 'meter_price', kind='hexbin', gridsize=20, sharex=False)\n",
    "    plt.show()\n",
    "    print(df_piter_center[x].corr(df_piter_center['meter_price']))"
   ]
  },
  {
   "cell_type": "code",
   "execution_count": 70,
   "metadata": {},
   "outputs": [],
   "source": [
    "def dependence_3(column):\n",
    "    median_value=df_piter_center.groupby(column)['meter_price'].median()\n",
    "    median_value.plot(x=column, y='meter_price', style='o-', grid=True)\n",
    "    plt.show()\n",
    "    print(df_piter_center[column].corr(df_piter_center['meter_price']))"
   ]
  },
  {
   "cell_type": "code",
   "execution_count": 71,
   "metadata": {},
   "outputs": [
    {
     "data": {
      "image/png": "[encoded data removed]",
      "text/plain": [
       "<Figure size 432x288 with 1 Axes>"
      ]
     },
     "metadata": {
      "needs_background": "light"
     },
     "output_type": "display_data"
    },
    {
     "name": "stdout",
     "output_type": "stream",
     "text": [
      "count    2308.000000\n",
      "mean       59.228176\n",
      "std        18.171607\n",
      "min        12.000000\n",
      "25%        45.000000\n",
      "50%        58.000000\n",
      "75%        72.225000\n",
      "max        99.600000\n",
      "Name: total_area, dtype: float64\n"
     ]
    },
    {
     "data": {
      "image/png": "[encoded data removed]",
      "text/plain": [
       "<Figure size 432x288 with 1 Axes>"
      ]
     },
     "metadata": {
      "needs_background": "light"
     },
     "output_type": "display_data"
    }
   ],
   "source": [
    "visualization_piter_center('total_area')"
   ]
  },
  {
   "cell_type": "markdown",
   "metadata": {},
   "source": [
    "Типичные центральные квартиры в Питере имеют площадь 45-72 м². Во всем городе этот показатель 37-56 м².Это говорит о том, что квартиры в центре Питера обычно немного больше квартир по выборке."
   ]
  },
  {
   "cell_type": "code",
   "execution_count": 72,
   "metadata": {},
   "outputs": [
    {
     "data": {
      "image/png": "[encoded data removed]",
      "text/plain": [
       "<Figure size 432x288 with 1 Axes>"
      ]
     },
     "metadata": {
      "needs_background": "light"
     },
     "output_type": "display_data"
    },
    {
     "name": "stdout",
     "output_type": "stream",
     "text": [
      "count    2.308000e+03\n",
      "mean     6.691862e+06\n",
      "std      1.819955e+06\n",
      "min      1.600000e+06\n",
      "25%      5.327601e+06\n",
      "50%      6.700000e+06\n",
      "75%      8.100000e+06\n",
      "max      1.020000e+07\n",
      "Name: last_price, dtype: float64\n"
     ]
    },
    {
     "data": {
      "image/png": "[encoded data removed]",
      "text/plain": [
       "<Figure size 432x288 with 1 Axes>"
      ]
     },
     "metadata": {
      "needs_background": "light"
     },
     "output_type": "display_data"
    }
   ],
   "source": [
    "visualization_piter_center('last_price')"
   ]
  },
  {
   "cell_type": "markdown",
   "metadata": {},
   "source": [
    "Типичная цена центральных Питерских квартир 4.7 - 6.0 млн.,  а в среднем по выборке 3.1-4.9 млн. Следовательно цены на вкартиры в Питере больше чем в среднем по выборке. Существенная разница в цене еще без учета того, что в основной выборке большую часть занимает сам Питер."
   ]
  },
  {
   "cell_type": "code",
   "execution_count": 73,
   "metadata": {},
   "outputs": [
    {
     "data": {
      "image/png": "[encoded data removed]",
      "text/plain": [
       "<Figure size 432x288 with 1 Axes>"
      ]
     },
     "metadata": {
      "needs_background": "light"
     },
     "output_type": "display_data"
    },
    {
     "name": "stdout",
     "output_type": "stream",
     "text": [
      "count    2308.000000\n",
      "mean        2.118718\n",
      "std         0.878751\n",
      "min         1.000000\n",
      "25%         1.000000\n",
      "50%         2.000000\n",
      "75%         3.000000\n",
      "max         5.000000\n",
      "Name: rooms, dtype: float64\n"
     ]
    },
    {
     "data": {
      "image/png": "[encoded data removed]",
      "text/plain": [
       "<Figure size 432x288 with 1 Axes>"
      ]
     },
     "metadata": {
      "needs_background": "light"
     },
     "output_type": "display_data"
    }
   ],
   "source": [
    "visualization_piter_center('rooms')"
   ]
  },
  {
   "cell_type": "markdown",
   "metadata": {},
   "source": [
    "В центре Питера больше всего 2-ух комнатных квартир, на 30% меньше однакомнатных и трехкомнатных,  около 100 четырехкомнатных и совсем немного 5-ти комнатных. В основной же выборке преобладают однакомнатные квартиры, чуть меньше 2- комнатных и еще меньше трехкомнатных. Следовательно в центре Питера большее комнат чем в квартирах по средней выборке."
   ]
  },
  {
   "cell_type": "code",
   "execution_count": 74,
   "metadata": {},
   "outputs": [
    {
     "data": {
      "image/png": "[encoded data removed]",
      "text/plain": [
       "<Figure size 432x288 with 1 Axes>"
      ]
     },
     "metadata": {
      "needs_background": "light"
     },
     "output_type": "display_data"
    },
    {
     "name": "stdout",
     "output_type": "stream",
     "text": [
      "count    1466.000000\n",
      "mean        3.024325\n",
      "std         1.309310\n",
      "min         2.400000\n",
      "25%         2.700000\n",
      "50%         3.000000\n",
      "75%         3.150000\n",
      "max        32.000000\n",
      "Name: ceiling_height, dtype: float64\n"
     ]
    },
    {
     "data": {
      "image/png": "[encoded data removed]",
      "text/plain": [
       "<Figure size 432x288 with 1 Axes>"
      ]
     },
     "metadata": {
      "needs_background": "light"
     },
     "output_type": "display_data"
    }
   ],
   "source": [
    "df_piter_center.query('ceiling_height < 4').boxplot(column = 'ceiling_height')\n",
    "plt.show()\n",
    "print(df_piter_center['ceiling_height'].describe())\n",
    "df_piter_center.query('ceiling_height < 4')['ceiling_height'].hist(bins=50)\n",
    "plt.show()"
   ]
  },
  {
   "cell_type": "markdown",
   "metadata": {},
   "source": [
    "Высота потолков в центральных Питерских квартирах по большей части 2.7-3.2 м., что по сравнению со всей выборкой (2.5-2.7 м.) намного больше."
   ]
  },
  {
   "cell_type": "code",
   "execution_count": 75,
   "metadata": {},
   "outputs": [
    {
     "data": {
      "image/png": "[encoded data removed]",
      "text/plain": [
       "<Figure size 432x288 with 1 Axes>"
      ]
     },
     "metadata": {
      "needs_background": "light"
     },
     "output_type": "display_data"
    },
    {
     "data": {
      "image/png": "[encoded data removed]",
      "text/plain": [
       "<Figure size 432x288 with 2 Axes>"
      ]
     },
     "metadata": {
      "needs_background": "light"
     },
     "output_type": "display_data"
    },
    {
     "name": "stdout",
     "output_type": "stream",
     "text": [
      "-0.5335564712968784\n"
     ]
    }
   ],
   "source": [
    "dependence_piter_center ('rooms')"
   ]
  },
  {
   "cell_type": "markdown",
   "metadata": {},
   "source": [
    "Чем больше комнат, тем меньше стоимость м². Наверняка это связано с тем, что если в квартире больше комнат, то и ее площадь будет больше, а если площадь больше, то цена за м² ниже. Кореляция примерно в 2 раза больше чем в полной выборке"
   ]
  },
  {
   "cell_type": "code",
   "execution_count": 76,
   "metadata": {
    "scrolled": false
   },
   "outputs": [
    {
     "data": {
      "image/png": "[encoded data removed]",
      "text/plain": [
       "<Figure size 432x288 with 1 Axes>"
      ]
     },
     "metadata": {
      "needs_background": "light"
     },
     "output_type": "display_data"
    },
    {
     "data": {
      "image/png": "[encoded data removed]",
      "text/plain": [
       "<Figure size 432x288 with 2 Axes>"
      ]
     },
     "metadata": {
      "needs_background": "light"
     },
     "output_type": "display_data"
    },
    {
     "name": "stdout",
     "output_type": "stream",
     "text": [
      "0.0042740709750388964\n"
     ]
    }
   ],
   "source": [
    "dependence_piter_center ('citycenters_nearest')"
   ]
  },
  {
   "cell_type": "markdown",
   "metadata": {},
   "source": [
    "В центральной зоне (0-8 км.) цена за метр квадратный почти никак не меняется в зависимости от расстояния. В отличие от основной выборки, где коэффициент корреляции пирсона = -0,397."
   ]
  },
  {
   "cell_type": "code",
   "execution_count": 77,
   "metadata": {},
   "outputs": [
    {
     "data": {
      "image/png": "[encoded data removed]",
      "text/plain": [
       "<Figure size 432x288 with 1 Axes>"
      ]
     },
     "metadata": {
      "needs_background": "light"
     },
     "output_type": "display_data"
    },
    {
     "name": "stdout",
     "output_type": "stream",
     "text": [
      "0.024911422976082065\n"
     ]
    }
   ],
   "source": [
    "dependence_3('dictionary_flat_flor')"
   ]
  },
  {
   "cell_type": "markdown",
   "metadata": {},
   "source": [
    "Медианная цена за м² первого этажа имеет наименьшую стоимость, на 4,8% дороже стоит м² последнего этажа, другие этажи стоят примерно на 14,6% дороже первого. Примерно тоже самое что и в общей выборке."
   ]
  },
  {
   "cell_type": "code",
   "execution_count": 78,
   "metadata": {},
   "outputs": [
    {
     "data": {
      "image/png": "[encoded data removed]",
      "text/plain": [
       "<Figure size 432x288 with 1 Axes>"
      ]
     },
     "metadata": {
      "needs_background": "light"
     },
     "output_type": "display_data"
    },
    {
     "name": "stdout",
     "output_type": "stream",
     "text": [
      "0.02735162764204166\n"
     ]
    }
   ],
   "source": [
    "dependence_3('day_public')"
   ]
  },
  {
   "cell_type": "markdown",
   "metadata": {},
   "source": [
    "Обратная ситуация общей выборке - в выходной день цена квадратного метра презентуемого жилья немного больше чем в будни и воскресенье."
   ]
  },
  {
   "cell_type": "code",
   "execution_count": 79,
   "metadata": {},
   "outputs": [
    {
     "data": {
      "image/png": "[encoded data removed]",
      "text/plain": [
       "<Figure size 432x288 with 1 Axes>"
      ]
     },
     "metadata": {
      "needs_background": "light"
     },
     "output_type": "display_data"
    },
    {
     "name": "stdout",
     "output_type": "stream",
     "text": [
      "-0.04712727281310419\n"
     ]
    }
   ],
   "source": [
    "dependence_3('month_public')"
   ]
  },
  {
   "cell_type": "markdown",
   "metadata": {},
   "source": [
    "Месяц публикации не влияет на цену м² исходя из коэффициента кореляции, но по графику видно, что наиболее дешего стоит м² квартир, выставляемых на продажу в 6 и 11 месяцах, причем разница составляет порядка 2%. Пиковое значени примерно на 6% больше среднего по месяцам в 3-ий месяц. Возможно это связано с колебаниями на рынке недвижимости. Кореляция увеличилась относительно изначальной выборки."
   ]
  },
  {
   "cell_type": "code",
   "execution_count": 80,
   "metadata": {},
   "outputs": [
    {
     "data": {
      "image/png": "[encoded data removed]",
      "text/plain": [
       "<Figure size 432x288 with 1 Axes>"
      ]
     },
     "metadata": {
      "needs_background": "light"
     },
     "output_type": "display_data"
    },
    {
     "name": "stdout",
     "output_type": "stream",
     "text": [
      "0.11867232801616595\n"
     ]
    }
   ],
   "source": [
    "dependence_3('year_public')"
   ]
  },
  {
   "cell_type": "markdown",
   "metadata": {},
   "source": [
    "Все почти что тоже самое, что и в начальной выборке, только коэффициент корреляции примерно на 30% больше."
   ]
  },
  {
   "cell_type": "markdown",
   "metadata": {},
   "source": [
    "### Шаг 5. Общий вывод"
   ]
  },
  {
   "cell_type": "markdown",
   "metadata": {},
   "source": [
    "Типичная цена квартир в выборке 3,5 - 6,8 млн. Большое стандартное отклонение, следовательно разброс значений большой (в нашем случае есть несколько квартир сильно отличающихся по площади от стандарта).\n",
    "\n",
    "Типичная площадь квартир в выборке 30 - 70 м². Большое стандартное отклонение, следовательно разброс значений большой (в нашем случае есть несколько квартир сильно отличающихся по площади от стандарта).\n",
    "\n",
    "Подавляющее большинство квартиры не студии.\n",
    "\n",
    "больше всеего квартир из Санкт-петербурга\n",
    "\n",
    "Больше всего положительно влияют на стоимость квартиры соответственно: цена м², общая площадь квартиры, количество комнат, этаж и число фотографий в объявление. Фактор наиболее сильно отрицательно влияющий на цену - это удаленность от центра. Видно, что жилая и кухонная площадь положительно коррелируют с ценой, однако чем больше эти площади относительно общей площади тем цена ниже. Следовательно факторы жилой и общей площади не стоит рассматривать отдельно, они оказывают положительное влияние на цену только потому, что увеличивается общая площадь, но при увеличение своей доли относительно общей могут повлиять негативно.\n",
    "\n",
    "Все характеристики квартир больше в центре Питера чем по все выборке: цена, высота потолков и количество комнта различаются сильно, общая площадь немного отличается.\n",
    "\n",
    "Кореляция между ценой м² и выделенными факторами немного выше у квартир в центре Питера чем в общей выборке. "
   ]
  }
 ],
 "metadata": {
  "kernelspec": {
   "display_name": "Python 3",
   "language": "python",
   "name": "python3"
  },
  "language_info": {
   "codemirror_mode": {
    "name": "ipython",
    "version": 3
   },
   "file_extension": ".py",
   "mimetype": "text/x-python",
   "name": "python",
   "nbconvert_exporter": "python",
   "pygments_lexer": "ipython3",
   "version": "3.8.8"
  }
 },
 "nbformat": 4,
 "nbformat_minor": 2
}
